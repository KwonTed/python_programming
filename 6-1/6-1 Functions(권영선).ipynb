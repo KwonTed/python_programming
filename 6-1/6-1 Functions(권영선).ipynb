{
  "metadata": {
    "kernelspec": {
      "name": "python",
      "display_name": "Python (Pyodide)",
      "language": "python"
    },
    "language_info": {
      "codemirror_mode": {
        "name": "python",
        "version": 3
      },
      "file_extension": ".py",
      "mimetype": "text/x-python",
      "name": "python",
      "nbconvert_exporter": "python",
      "pygments_lexer": "ipython3",
      "version": "3.8"
    },
    "colab": {
      "provenance": []
    }
  },
  "nbformat_minor": 4,
  "nbformat": 4,
  "cells": [
    {
      "cell_type": "markdown",
      "source": "<h1>Functions in Python</h1>",
      "metadata": {
        "id": "2jwi-AriOsMR"
      }
    },
    {
      "cell_type": "markdown",
      "source": "<p><strong>Welcome!</strong> This notebook will teach you about the functions in the Python Programming Language. By the end of this lab, you'll know the basic concepts about function, variables, and how to use functions.</p>",
      "metadata": {
        "id": "1PzxrTdLOsMR"
      }
    },
    {
      "cell_type": "markdown",
      "source": "<h2 id=\"func\">Functions</h2>",
      "metadata": {
        "id": "imcvS4B2OsMU"
      }
    },
    {
      "cell_type": "markdown",
      "source": "A function is a reusable block of code which performs operations specified in the function.  They let you break down tasks and allow you to reuse your code in different programs.\n\nThere are two types of functions :\n\n- <b>Pre-defined functions</b>\n- <b>User defined functions</b>",
      "metadata": {
        "id": "VgclqAv4OsMU"
      }
    },
    {
      "cell_type": "markdown",
      "source": "<h3 id=\"content\">What is a Function?</h3>",
      "metadata": {
        "id": "Q5up5hqfOsMV"
      }
    },
    {
      "cell_type": "markdown",
      "source": "You can define functions to provide the required functionality. Here are simple rules to define a function in Python:\n-  Functions blocks begin <code>def</code> followed by the function <code>name</code> and parentheses <code>()</code>.\n-  There are input parameters or arguments that should be placed within these parentheses. \n-  You can also define parameters inside these parentheses.\n-  There is a body within every function that starts with a colon (<code>:</code>) and is indented.\n-  You can also place documentation before the body \n-  The statement <code>return</code> exits a function, optionally passing back a value \n\nAn example of a function that adds on to the parameter <code>a</code> prints and returns the output as <code>b</code>:",
      "metadata": {
        "id": "AscpS-ckOsMW"
      }
    },
    {
      "cell_type": "code",
      "source": "# First function example: Add 1 to a and store as b\n\ndef add(a):\n    b = a + 1\n    print(a, \"if you add one\", b)\n    return(a, b) # y=x+1, (x,y)  ",
      "metadata": {
        "id": "wFUcjYUZOsMW"
      },
      "outputs": [],
      "execution_count": null
    },
    {
      "cell_type": "markdown",
      "source": "The figure below illustrates the terminology: ",
      "metadata": {
        "id": "yC7TSHibOsMa"
      }
    },
    {
      "cell_type": "markdown",
      "source": "<img src=\"https://s3-api.us-geo.objectstorage.softlayer.net/cf-courses-data/CognitiveClass/PY0101EN/Chapter%203/Images/FuncsDefinition.png\" width=\"500\" /> ",
      "metadata": {
        "id": "qs-u_NhQOsMa"
      }
    },
    {
      "cell_type": "code",
      "source": "add(1) #함수를 부른 것임 (call functions)",
      "metadata": {
        "colab": {
          "base_uri": "https://localhost:8080/"
        },
        "id": "HQjv0dXdmAoQ",
        "outputId": "99457acb-76a2-4e26-b07d-a8598aa34e8a"
      },
      "outputs": [
        {
          "output_type": "stream",
          "name": "stdout",
          "text": "1 if you add one 2\n"
        },
        {
          "output_type": "execute_result",
          "data": {
            "text/plain": [
              "(1, 2)"
            ]
          },
          "metadata": {},
          "execution_count": 5
        }
      ],
      "execution_count": null
    },
    {
      "cell_type": "code",
      "source": "return_value = add(2)\nreturn_value",
      "metadata": {
        "colab": {
          "base_uri": "https://localhost:8080/"
        },
        "id": "WSU1BElLmQQR",
        "outputId": "da5808a6-4bb3-48d9-e483-e5541437d916"
      },
      "outputs": [
        {
          "output_type": "stream",
          "name": "stdout",
          "text": "2 if you add one 3\n"
        },
        {
          "output_type": "execute_result",
          "data": {
            "text/plain": [
              "(2, 3)"
            ]
          },
          "metadata": {},
          "execution_count": 7
        }
      ],
      "execution_count": null
    },
    {
      "cell_type": "markdown",
      "source": "We can obtain help about a function :",
      "metadata": {
        "id": "__iP8GK_OsMb"
      }
    },
    {
      "cell_type": "code",
      "source": "# Get a help on add function\n\nhelp(add)",
      "metadata": {
        "id": "AZ7XAdojOsMb",
        "colab": {
          "base_uri": "https://localhost:8080/"
        },
        "outputId": "1298a5cd-98b8-4218-ec0c-5a62f2b930a8"
      },
      "outputs": [
        {
          "output_type": "stream",
          "name": "stdout",
          "text": "Help on function add in module __main__:\n,\n,add(a)\n,\n"
        }
      ],
      "execution_count": null
    },
    {
      "cell_type": "markdown",
      "source": "We can call the function:",
      "metadata": {
        "id": "PQsYzdZeOsMe"
      }
    },
    {
      "cell_type": "code",
      "source": "# Call the function add()\n\nadd(10)",
      "metadata": {
        "id": "bdqelKQUOsMf",
        "colab": {
          "base_uri": "https://localhost:8080/"
        },
        "outputId": "baec24bd-ca8e-4897-d250-d763396eb132"
      },
      "outputs": [
        {
          "output_type": "stream",
          "name": "stdout",
          "text": "10 if you add one 11\n"
        },
        {
          "output_type": "execute_result",
          "data": {
            "text/plain": [
              "(10, 11)"
            ]
          },
          "metadata": {},
          "execution_count": 11
        }
      ],
      "execution_count": null
    },
    {
      "cell_type": "markdown",
      "source": "If we call the function with a new input we get a new result:",
      "metadata": {
        "id": "oS0qCejKOsMi"
      }
    },
    {
      "cell_type": "code",
      "source": "# Call the function add()\n\nadd(2)",
      "metadata": {
        "id": "cOuBTXeBOsMi",
        "colab": {
          "base_uri": "https://localhost:8080/"
        },
        "outputId": "444ddb67-905e-466c-aa85-c2113da42727"
      },
      "outputs": [
        {
          "output_type": "stream",
          "name": "stdout",
          "text": "2 if you add one 3\n"
        },
        {
          "output_type": "execute_result",
          "data": {
            "text/plain": [
              "(2, 3)"
            ]
          },
          "metadata": {},
          "execution_count": 12
        }
      ],
      "execution_count": null
    },
    {
      "cell_type": "markdown",
      "source": "We can create different functions. For example, we can create a function that multiplies two numbers. The numbers will be represented by the variables <code>a</code> and <code>b</code>:",
      "metadata": {
        "id": "I7UKUyxHOsMl"
      }
    },
    {
      "cell_type": "code",
      "source": "# Define a function for multiple two numbers\n\ndef Mult(a, b):\n    c = a * b\n    return(c)",
      "metadata": {
        "id": "bMPmJv0pOsMm"
      },
      "outputs": [],
      "execution_count": null
    },
    {
      "cell_type": "markdown",
      "source": "The same function can be used for different data types. For example, we can multiply two integers:\n",
      "metadata": {
        "id": "esmd2L9sOsMo"
      }
    },
    {
      "cell_type": "code",
      "source": "# Use mult() multiply two integers\n\nresult_mult = Mult(2.3, 3.1)\ntype(result_mult)",
      "metadata": {
        "id": "dJKLyK9SOsMp",
        "colab": {
          "base_uri": "https://localhost:8080/"
        },
        "outputId": "27f84e8f-887f-49b2-fb0c-ba51b559663a"
      },
      "outputs": [
        {
          "output_type": "execute_result",
          "data": {
            "text/plain": [
              "float"
            ]
          },
          "metadata": {},
          "execution_count": 18
        }
      ],
      "execution_count": null
    },
    {
      "cell_type": "markdown",
      "source": " Two Floats: ",
      "metadata": {
        "id": "fGk56rDDOsMr"
      }
    },
    {
      "cell_type": "code",
      "source": "# Use mult() multiply two floats\n\nMult(10.0, 3.14)",
      "metadata": {
        "id": "g0mFueWROsMs",
        "colab": {
          "base_uri": "https://localhost:8080/"
        },
        "outputId": "5d97f169-04f2-4b68-e4cc-75578f858600"
      },
      "outputs": [
        {
          "output_type": "execute_result",
          "data": {
            "text/plain": [
              "31.400000000000002"
            ]
          },
          "metadata": {},
          "execution_count": 19
        }
      ],
      "execution_count": null
    },
    {
      "cell_type": "markdown",
      "source": "We can even replicate a string by multiplying with an integer: ",
      "metadata": {
        "id": "dvnH5BnTOsMu"
      }
    },
    {
      "cell_type": "code",
      "source": "# Use mult() multiply two different type values together\n\nMult(2, \"Michael Jackson \")",
      "metadata": {
        "id": "OTpkvwewOsMv",
        "colab": {
          "base_uri": "https://localhost:8080/",
          "height": 35
        },
        "outputId": "2acd1740-74e6-4441-cf03-376b273a9a6f"
      },
      "outputs": [
        {
          "output_type": "execute_result",
          "data": {
            "text/plain": [
              "'Michael Jackson Michael Jackson '"
            ],
            "application/vnd.google.colaboratory.intrinsic+json": {
              "type": "string"
            }
          },
          "metadata": {},
          "execution_count": 20
        }
      ],
      "execution_count": null
    },
    {
      "cell_type": "markdown",
      "source": "<h3 id=\"var\">Variables (local = 지역, global = 전역</h3>",
      "metadata": {
        "id": "hmHokHm2OsMy"
      }
    },
    {
      "cell_type": "markdown",
      "source": "The input to a function is called a formal parameter.\n\nA variable that is declared inside a function is called a  local variable. The parameter only exists within the function (i.e. the point where the function starts and stops).  \n\nA variable that is declared outside a function definition is a global variable, and its value is accessible and modifiable throughout the program. We will discuss more about global variables at the end of this module.\n",
      "metadata": {
        "id": "CPsksHKAOsMz"
      }
    },
    {
      "cell_type": "code",
      "source": "# Function Definition\n\ndef square(a):\n    \n    # Local variable b\n    b = 1\n    c = a * a + b\n    print(a, \"if you square + 1\", c) \n    return(c)",
      "metadata": {
        "id": "Pou8-3L9OsMz"
      },
      "outputs": [],
      "execution_count": null
    },
    {
      "cell_type": "markdown",
      "source": "The labels are displayed in the figure:  ",
      "metadata": {
        "id": "sAEfAgb0OsM3"
      }
    },
    {
      "cell_type": "markdown",
      "source": "<img src=\"https://s3-api.us-geo.objectstorage.softlayer.net/cf-courses-data/CognitiveClass/PY0101EN/Chapter%203/Images/FuncsVar.png\" width=\"500\" />",
      "metadata": {
        "id": "xrWPh3OFOsM3"
      }
    },
    {
      "cell_type": "markdown",
      "source": "We can call the function  with an input of <b>3</b>:",
      "metadata": {
        "id": "2vUqPuALOsM3"
      }
    },
    {
      "cell_type": "code",
      "source": "# Initializes Global variable  \n\nx = 3\n# Makes function call and return function a y\ny = square(x)\ny",
      "metadata": {
        "id": "Gf4VTUSsOsM4",
        "colab": {
          "base_uri": "https://localhost:8080/"
        },
        "outputId": "3744b853-b15c-40b5-a13a-3124fd8e6030"
      },
      "outputs": [
        {
          "output_type": "stream",
          "name": "stdout",
          "text": "3 if you square + 1 10\n"
        },
        {
          "output_type": "execute_result",
          "data": {
            "text/plain": [
              "10"
            ]
          },
          "metadata": {},
          "execution_count": 22
        }
      ],
      "execution_count": null
    },
    {
      "cell_type": "code",
      "source": "c",
      "metadata": {
        "colab": {
          "base_uri": "https://localhost:8080/",
          "height": 169
        },
        "id": "LScX6Zmzt5gX",
        "outputId": "733544c9-358a-4b51-c8fb-74e54afc7793"
      },
      "outputs": [
        {
          "output_type": "error",
          "ename": "NameError",
          "evalue": "ignored",
          "traceback": [
            "\u001b[0;31m---------------------------------------------------------------------------\u001b[0m",
            "\u001b[0;31mNameError\u001b[0m                                 Traceback (most recent call last)",
            "\u001b[0;32m<ipython-input-30-2b66fd261ee5>\u001b[0m in \u001b[0;36m<module>\u001b[0;34m\u001b[0m\n\u001b[0;32m----> 1\u001b[0;31m \u001b[0mc\u001b[0m\u001b[0;34m\u001b[0m\u001b[0;34m\u001b[0m\u001b[0m\n\u001b[0m",
            "\u001b[0;31mNameError\u001b[0m: name 'c' is not defined"
          ]
        }
      ],
      "execution_count": null
    },
    {
      "cell_type": "markdown",
      "source": " We can call the function  with an input of <b>2</b> in a different manner:",
      "metadata": {
        "id": "Ti7OEEvNOsM6"
      }
    },
    {
      "cell_type": "code",
      "source": "# Directly enter a number as parameter\n\nsquare(2)",
      "metadata": {
        "id": "FHjXbgjLOsM6",
        "colab": {
          "base_uri": "https://localhost:8080/"
        },
        "outputId": "111c843e-3995-42f8-8fc8-13adf587a46c"
      },
      "outputs": [
        {
          "output_type": "stream",
          "name": "stdout",
          "text": "2 if you square + 1 5\n"
        },
        {
          "output_type": "execute_result",
          "data": {
            "text/plain": [
              "5"
            ]
          },
          "metadata": {},
          "execution_count": 31
        }
      ],
      "execution_count": null
    },
    {
      "cell_type": "markdown",
      "source": "If there is no <code>return</code> statement, the function returns <code>None</code>. The following two functions are equivalent:",
      "metadata": {
        "id": "biqVXG13OsM8"
      }
    },
    {
      "cell_type": "code",
      "source": "# Define functions, one with return value None and other without return value\n\ndef MJ():\n    print('Michael Jackson')\n    \ndef MJ1():\n    print('Michael Jackson')\n    return(None)",
      "metadata": {
        "id": "YeVhsCF9OsM9"
      },
      "outputs": [],
      "execution_count": null
    },
    {
      "cell_type": "code",
      "source": "# See the output\n\nMJ()",
      "metadata": {
        "id": "Mq2bEFz2OsM_",
        "colab": {
          "base_uri": "https://localhost:8080/"
        },
        "outputId": "874ed479-a066-4246-cbb4-19334f379d93"
      },
      "outputs": [
        {
          "output_type": "stream",
          "name": "stdout",
          "text": "Michael Jackson\n"
        }
      ],
      "execution_count": null
    },
    {
      "cell_type": "code",
      "source": "# See the output\n\nMJ1()",
      "metadata": {
        "id": "irqGhKlaOsNB",
        "colab": {
          "base_uri": "https://localhost:8080/"
        },
        "outputId": "1512a184-48d8-46e6-c52d-3437c3acad08"
      },
      "outputs": [
        {
          "output_type": "stream",
          "name": "stdout",
          "text": "Michael Jackson\n"
        }
      ],
      "execution_count": null
    },
    {
      "cell_type": "markdown",
      "source": "Create a function <code>con</code> that  concatenates two strings using the addition operation:",
      "metadata": {
        "id": "875dwkmgOsNG"
      }
    },
    {
      "cell_type": "code",
      "source": "# Define the function for combining strings\n\ndef con(a, b):\n    return(a + b)",
      "metadata": {
        "id": "_kfvN-sXOsNH"
      },
      "outputs": [],
      "execution_count": null
    },
    {
      "cell_type": "code",
      "source": "# Test on the con() function\n\ntext_return = con(\"This \", \"is\")\ntype(text_return)",
      "metadata": {
        "id": "P6pQrl_xOsNJ",
        "colab": {
          "base_uri": "https://localhost:8080/"
        },
        "outputId": "06ef23cd-630d-4733-dbb1-f646c697cdbc"
      },
      "outputs": [
        {
          "output_type": "execute_result",
          "data": {
            "text/plain": [
              "str"
            ]
          },
          "metadata": {},
          "execution_count": 39
        }
      ],
      "execution_count": null
    },
    {
      "cell_type": "markdown",
      "source": "<hr/>\n    <div class=\"alert alert-success alertsuccess\" style=\"margin-top: 20px\">\n        <h4> [Tip] How do I learn more about the pre-defined functions in Python? </h4>\n        <p>We will be introducing a variety of pre-defined functions to you as you learn more about Python. There are just too many functions, so there's no way we can teach them all in one sitting. But if you'd like to take a quick peek, here's a short reference card for some of the commonly-used pre-defined functions: <a href=\"https://quickref.me/python\">Reference</a></p>\n    </div>\n<hr/>",
      "metadata": {
        "id": "d4nGFfGYOsNL"
      }
    },
    {
      "cell_type": "markdown",
      "source": "<h3 id=\"simple\">Functions Make Things Simple</h3>",
      "metadata": {
        "id": "ggALJ2HROsNL"
      }
    },
    {
      "cell_type": "markdown",
      "source": "Consider the two lines of code in <b>Block 1</b> and <b>Block 2</b>: the procedure for each block is identical. The only thing that is different is the variable names and values.",
      "metadata": {
        "id": "QetpeMiXOsNM"
      }
    },
    {
      "cell_type": "markdown",
      "source": "<h4>Block 1:</h4>",
      "metadata": {
        "id": "qSJnVvmEOsNM"
      }
    },
    {
      "cell_type": "code",
      "source": "# a and b calculation block1\n\na1 = 4\nb1 = 5\nc1 = a1 + b1 + 2 * a1 * b1 - 1\nif(c1 < 0):\n    c1 = 0 \nelse:\n    c1 = 5\nc1   ",
      "metadata": {
        "id": "PqRXKdz3OsNM",
        "colab": {
          "base_uri": "https://localhost:8080/"
        },
        "outputId": "a81db651-bcdf-43df-c3f6-7e25a74717ef"
      },
      "outputs": [
        {
          "output_type": "execute_result",
          "data": {
            "text/plain": [
              "5"
            ]
          },
          "metadata": {},
          "execution_count": 40
        }
      ],
      "execution_count": null
    },
    {
      "cell_type": "markdown",
      "source": "<h4>Block 2:</h4>",
      "metadata": {
        "id": "ApgRvsJzOsNP"
      }
    },
    {
      "cell_type": "code",
      "source": "# a and b calculation block2\n\na2 = 0\nb2 = 0\nc2 = a2 + b2 + 2 * a2 * b2 - 1\nif(c2 < 0):\n    c2 = 0 \nelse:\n    c2 = 5\nc2   ",
      "metadata": {
        "id": "e0pJGs8POsNQ",
        "colab": {
          "base_uri": "https://localhost:8080/"
        },
        "outputId": "96476e80-8bf9-4c8c-ef14-3f87c0c1ad30"
      },
      "outputs": [
        {
          "output_type": "execute_result",
          "data": {
            "text/plain": [
              "0"
            ]
          },
          "metadata": {},
          "execution_count": 41
        }
      ],
      "execution_count": null
    },
    {
      "cell_type": "markdown",
      "source": "We can replace the lines of code with a function. A function combines many instructions into a single line of code. Once a function is defined, it can be used repeatedly. You can invoke the same function many times in your program. You can save your function and use it in another program or use someone else’s function. The lines of code in code <b>Block 1</b> and code <b>Block 2</b> can be replaced by the following function:  ",
      "metadata": {
        "id": "3bh1WeoJOsNU"
      }
    },
    {
      "cell_type": "code",
      "source": "# Make a Function for the calculation above\n\ndef Equation(a,b):\n    c = a + b + 2 * a * b - 1\n    if(c < 0):\n        c = 0 \n    else:\n        c = 5\n    return(c) ",
      "metadata": {
        "id": "cSrARH5yOsNV"
      },
      "outputs": [],
      "execution_count": null
    },
    {
      "cell_type": "code",
      "source": "Equation(0,0)",
      "metadata": {
        "colab": {
          "base_uri": "https://localhost:8080/"
        },
        "id": "xAoX3Wt2vTTm",
        "outputId": "77cae5ec-84e6-41c2-ecbf-8b0c0252bbc5"
      },
      "outputs": [
        {
          "output_type": "execute_result",
          "data": {
            "text/plain": [
              "0"
            ]
          },
          "metadata": {},
          "execution_count": 44
        }
      ],
      "execution_count": null
    },
    {
      "cell_type": "markdown",
      "source": "This function takes two inputs, a and b, then applies several operations to return c. \nWe simply define the function, replace the instructions with the function, and input the new values of <code>a1</code>, <code>b1</code> and <code>a2</code>, <code>b2</code> as inputs. The entire process is demonstrated in the figure: ",
      "metadata": {
        "id": "b-m6oOptOsNX"
      }
    },
    {
      "cell_type": "markdown",
      "source": "<img src=\"https://s3-api.us-geo.objectstorage.softlayer.net/cf-courses-data/CognitiveClass/PY0101EN/Chapter%203/Images/FuncsPros.gif\" width=\"850\" />",
      "metadata": {
        "id": "K82kW7BkOsNX"
      }
    },
    {
      "cell_type": "markdown",
      "source": "Code **Blocks 1** and **Block 2** can now be replaced with code **Block 3** and code **Block 4**.",
      "metadata": {
        "id": "tnn_9_xeOsNX"
      }
    },
    {
      "cell_type": "markdown",
      "source": "<h4>Block 3:</h4>",
      "metadata": {
        "id": "EOg3FEjUOsNY"
      }
    },
    {
      "cell_type": "code",
      "source": "a1 = 4\nb1 = 5\nc1 = Equation(a1, b1)\nc1",
      "metadata": {
        "id": "26TKa_mrOsNY",
        "colab": {
          "base_uri": "https://localhost:8080/"
        },
        "outputId": "19667fbf-7c42-4064-c6aa-58007bd23295"
      },
      "outputs": [
        {
          "output_type": "execute_result",
          "data": {
            "text/plain": [
              "5"
            ]
          },
          "metadata": {},
          "execution_count": 45
        }
      ],
      "execution_count": null
    },
    {
      "cell_type": "markdown",
      "source": "<h4>Block 4:</h4>",
      "metadata": {
        "id": "bX7KlXgNOsNa"
      }
    },
    {
      "cell_type": "code",
      "source": "a2 = 0\nb2 = 0\nc2 = Equation(a2, b2)\nc2",
      "metadata": {
        "id": "13EjVj0JOsNa",
        "colab": {
          "base_uri": "https://localhost:8080/"
        },
        "outputId": "4ce0d535-6b7c-41ea-f3b8-104af5e64e1f"
      },
      "outputs": [
        {
          "output_type": "execute_result",
          "data": {
            "text/plain": [
              "0"
            ]
          },
          "metadata": {},
          "execution_count": 46
        }
      ],
      "execution_count": null
    },
    {
      "cell_type": "markdown",
      "source": "<hr>",
      "metadata": {
        "id": "MUD72d7iOsNc"
      }
    },
    {
      "cell_type": "markdown",
      "source": "<h2 id=\"pre\">Pre-defined functions</h2>",
      "metadata": {
        "id": "DjMJZ4H5OsNc"
      }
    },
    {
      "cell_type": "markdown",
      "source": "There are many pre-defined functions in Python, so let's start with the simple ones.",
      "metadata": {
        "id": "XjHKYv3DOsNd"
      }
    },
    {
      "cell_type": "markdown",
      "source": "\n\nThe <code>print()</code> function:",
      "metadata": {
        "id": "POIbKP0iOsNd"
      }
    },
    {
      "cell_type": "code",
      "source": "# Build-in function print()\n\nalbum_ratings = [10.0, 8.5, 9.5, 7.0, 7.0, 9.5, 9.0, 9.5] \nprint(album_ratings)",
      "metadata": {
        "id": "x7iVP08WOsNe",
        "colab": {
          "base_uri": "https://localhost:8080/"
        },
        "outputId": "d3e7c8b1-184a-415d-c08a-3b28dacff29b"
      },
      "outputs": [
        {
          "output_type": "stream",
          "name": "stdout",
          "text": "[10.0, 8.5, 9.5, 7.0, 7.0, 9.5, 9.0, 9.5]\n"
        }
      ],
      "execution_count": null
    },
    {
      "cell_type": "markdown",
      "source": "The <code>sum()</code> function adds all the  elements in a list or tuple:",
      "metadata": {
        "id": "fXb-lQ7OOsNg"
      }
    },
    {
      "cell_type": "code",
      "source": "# Use sum() to add every element in a list or tuple together\n\nsum(album_ratings)",
      "metadata": {
        "id": "gQ-mEnBUOsNg",
        "colab": {
          "base_uri": "https://localhost:8080/"
        },
        "outputId": "f1b85f60-0272-4b9a-fe92-d02d8ed2e770"
      },
      "outputs": [
        {
          "output_type": "execute_result",
          "data": {
            "text/plain": [
              "70.0"
            ]
          },
          "metadata": {},
          "execution_count": 48
        }
      ],
      "execution_count": null
    },
    {
      "cell_type": "markdown",
      "source": "The <code>len()</code> function returns the length of a list or tuple: ",
      "metadata": {
        "id": "1QfaFLMDOsNj"
      }
    },
    {
      "cell_type": "code",
      "source": "# Show the length of the list or tuple\n\nlen(album_ratings)",
      "metadata": {
        "id": "sG-kvbWvOsNj",
        "colab": {
          "base_uri": "https://localhost:8080/"
        },
        "outputId": "b1f0128c-8978-4bfc-99de-e1145484dd84"
      },
      "outputs": [
        {
          "output_type": "execute_result",
          "data": {
            "text/plain": [
              "8"
            ]
          },
          "metadata": {},
          "execution_count": 49
        }
      ],
      "execution_count": null
    },
    {
      "cell_type": "markdown",
      "source": "<h2 id=\"if\">Using <code>if</code>/<code>else</code> Statements and Loops in Functions</h2>",
      "metadata": {
        "id": "3fyYOCL2OsNn"
      }
    },
    {
      "cell_type": "markdown",
      "source": "The <code>return()</code> function is particularly useful if you have any IF statements in the function, when you want your output to be dependent on some condition: ",
      "metadata": {
        "id": "lzn9-0HROsNn"
      }
    },
    {
      "cell_type": "code",
      "source": "# Function example\n\ndef type_of_album(artist, album, year_released):\n    \n    print(artist, album, year_released)\n    if year_released > 1980:\n        return \"Modern\"\n    else:\n        return \"Oldie\"\n    \nx = type_of_album(\"Michael Jackson\", \"Thriller\", 1980)\nprint(x)\ntype(x)",
      "metadata": {
        "id": "vQW7IFRdOsNn",
        "colab": {
          "base_uri": "https://localhost:8080/"
        },
        "outputId": "5ac1320b-8830-42ed-bca8-e4dfdf903881"
      },
      "outputs": [
        {
          "output_type": "stream",
          "name": "stdout",
          "text": "Michael Jackson Thriller 1980\n,Oldie\n"
        },
        {
          "output_type": "execute_result",
          "data": {
            "text/plain": [
              "str"
            ]
          },
          "metadata": {},
          "execution_count": 51
        }
      ],
      "execution_count": null
    },
    {
      "cell_type": "markdown",
      "source": "We can use a loop in a function. For example, we can <code>print</code> out each element in a list:",
      "metadata": {
        "id": "U5aSs4aYOsNp"
      }
    },
    {
      "cell_type": "code",
      "source": "# Print the list using for loop\n\ndef PrintList(the_list):\n    for element in the_list:\n        print(element)",
      "metadata": {
        "id": "QOBcDRuOOsNq"
      },
      "outputs": [],
      "execution_count": null
    },
    {
      "cell_type": "code",
      "source": "# Implement the printlist function\n\nPrintList(['1', 1, 'the man', \"abc\"])",
      "metadata": {
        "id": "c42afwlQOsNs",
        "colab": {
          "base_uri": "https://localhost:8080/"
        },
        "outputId": "d22b0dc6-9df8-4510-b2c8-e828f09abd41"
      },
      "outputs": [
        {
          "output_type": "stream",
          "name": "stdout",
          "text": "1\n,1\n,the man\n,abc\n"
        }
      ],
      "execution_count": null
    },
    {
      "cell_type": "markdown",
      "source": "<hr>",
      "metadata": {
        "id": "7PyGHYWzOsNu"
      }
    },
    {
      "cell_type": "markdown",
      "source": "<h2 id=\"default\">Setting default argument values in your custom functions</h2>",
      "metadata": {
        "id": "aBwH_3vxOsNv"
      }
    },
    {
      "cell_type": "markdown",
      "source": "You can set a default value for arguments in your function. For example, in the <code>isGoodRating()</code> function, what if we wanted to create a threshold for what we consider to be a good rating? Perhaps by default, we should have a default rating of 4:",
      "metadata": {
        "id": "5kheGgQcOsNv"
      }
    },
    {
      "cell_type": "code",
      "source": "# Example for setting param with default value\n\ndef isGoodRating(rating=4): \n    if(rating < 7):\n        print(\"this album sucks it's rating is\",rating)\n        \n    else:\n        print(\"this album is good its rating is\",rating)\n",
      "metadata": {
        "id": "-HQlG3C4OsNv"
      },
      "outputs": [],
      "execution_count": null
    },
    {
      "cell_type": "code",
      "source": "# Test the value with default value and with input\n\nisGoodRating()\nisGoodRating(10)",
      "metadata": {
        "id": "iWSb1I0XOsNy",
        "colab": {
          "base_uri": "https://localhost:8080/"
        },
        "outputId": "72275c21-a66c-4399-f5ce-a46d6c7a5eb7"
      },
      "outputs": [
        {
          "output_type": "stream",
          "name": "stdout",
          "text": "this album sucks it's rating is 4\n,this album is good its rating is 10\n"
        }
      ],
      "execution_count": null
    },
    {
      "cell_type": "markdown",
      "source": "<hr>",
      "metadata": {
        "id": "S-a42iySOsN1"
      }
    },
    {
      "cell_type": "markdown",
      "source": "<h2 id=\"global\">Global variables</h2>",
      "metadata": {
        "id": "HugJ5p8sOsN1"
      }
    },
    {
      "cell_type": "markdown",
      "source": "So far, we've been creating variables within functions, but we have not discussed variables outside the function.  These are called global variables. \n<br>\nLet's try to see what <code>printer1</code> returns:",
      "metadata": {
        "id": "bkPh8bF3OsN2"
      }
    },
    {
      "cell_type": "code",
      "source": "# Example of global variable\n\nartist = \"Michael Jackson\" #전역변수 = global...\ndef printer1(artist):\n    internal_var = artist #local variable, 즉 printer1이 끝나면 없어지는 것임\n    print(artist, \"is an artist\")\n    \nprinter1(artist, internal_var) #artist는 알아, internal_var 몰라...",
      "metadata": {
        "id": "IR1Nd49HOsN2",
        "colab": {
          "base_uri": "https://localhost:8080/",
          "height": 205
        },
        "outputId": "3c33ca74-da8a-4d8f-8cb0-04febfe24755"
      },
      "outputs": [
        {
          "output_type": "error",
          "ename": "NameError",
          "evalue": "ignored",
          "traceback": [
            "\u001b[0;31m---------------------------------------------------------------------------\u001b[0m",
            "\u001b[0;31mNameError\u001b[0m                                 Traceback (most recent call last)",
            "\u001b[0;32m<ipython-input-58-09fdb946cb6d>\u001b[0m in \u001b[0;36m<module>\u001b[0;34m\u001b[0m\n\u001b[1;32m      6\u001b[0m     \u001b[0mprint\u001b[0m\u001b[0;34m(\u001b[0m\u001b[0martist\u001b[0m\u001b[0;34m,\u001b[0m \u001b[0;34m\"is an artist\"\u001b[0m\u001b[0;34m)\u001b[0m\u001b[0;34m\u001b[0m\u001b[0;34m\u001b[0m\u001b[0m\n\u001b[1;32m      7\u001b[0m \u001b[0;34m\u001b[0m\u001b[0m\n\u001b[0;32m----> 8\u001b[0;31m \u001b[0mprinter1\u001b[0m\u001b[0;34m(\u001b[0m\u001b[0martist\u001b[0m\u001b[0;34m,\u001b[0m \u001b[0minternal_var\u001b[0m\u001b[0;34m)\u001b[0m \u001b[0;31m#artist는 알아, internal_var 몰라...\u001b[0m\u001b[0;34m\u001b[0m\u001b[0;34m\u001b[0m\u001b[0m\n\u001b[0m",
            "\u001b[0;31mNameError\u001b[0m: name 'internal_var' is not defined"
          ]
        }
      ],
      "execution_count": null
    },
    {
      "cell_type": "markdown",
      "source": "If we print <code>internal_var</code> we get an error. ",
      "metadata": {
        "id": "eRnQQX-rOsN4"
      }
    },
    {
      "cell_type": "markdown",
      "source": "<b>We got a Name Error:  <code>name 'internal_var' is not defined</code>. Why?</b>  \n\nIt's because all the variables we create in the function is a <b>local variable</b>, meaning that the variable assignment does not persist outside the function.  \n\nBut there is a way to create <b>global variables</b> from within a function as follows:",
      "metadata": {
        "id": "lC1kewYDOsN5"
      }
    },
    {
      "cell_type": "code",
      "source": "artist = \"Michael Jackson\" \n\ndef printer(artist):\n    global internal_var #일부러 internal_var이 전역이라는 것을 알려줄 수도 있다. --> 잘 안씀...\n    internal_var= \"Whitney Houston\"\n    print(artist,\"is an artist\")\n\nprinter(artist) \nprinter(internal_var)",
      "metadata": {
        "id": "GUqNC4PsOsN5",
        "colab": {
          "base_uri": "https://localhost:8080/"
        },
        "outputId": "ce1dce90-bd7e-4a15-cc92-aee2423c1b15"
      },
      "outputs": [
        {
          "output_type": "stream",
          "name": "stdout",
          "text": "Michael Jackson is an artist\n,Whitney Houston is an artist\n"
        }
      ],
      "execution_count": null
    },
    {
      "cell_type": "markdown",
      "source": "<h2 id=\"scope\">Scope of a Variable</h2>",
      "metadata": {
        "id": "4jcmcY-cOsN7"
      }
    },
    {
      "cell_type": "markdown",
      "source": " The scope of a variable is the part of that program where that variable is accessible. Variables that are declared outside of all function definitions, such as the <code>myFavouriteBand</code> variable in the code shown here, are accessible from anywhere within the program. As a result, such variables are said to have global scope, and are known as global variables. \n    <code>myFavouriteBand</code> is a global variable, so it is accessible from within the <code>getBandRating</code> function, and we can use it to determine a band's rating. We can also use it outside of the function, such as when we pass it to the print function to display it:",
      "metadata": {
        "id": "PMY4B_SoOsN7"
      }
    },
    {
      "cell_type": "code",
      "source": "# Example of global variable\n\nmyFavouriteBand = \"AC/DC\" #global \n\ndef getBandRating(bandname):\n    if bandname == myFavouriteBand:\n        return 10.0\n    else:\n        return 0.0\n\nprint(\"AC/DC's rating is:\", getBandRating(\"AC/DC\"))\nprint(\"Deep Purple's rating is:\",getBandRating(\"Deep Purple\"))\nprint(\"My favourite band is:\", myFavouriteBand)",
      "metadata": {
        "id": "FsSe97q4OsN8",
        "colab": {
          "base_uri": "https://localhost:8080/"
        },
        "outputId": "d67cd372-d613-4af4-ffa3-0536aa0c51f3"
      },
      "outputs": [
        {
          "output_type": "stream",
          "name": "stdout",
          "text": "AC/DC's rating is: 10.0\n,Deep Purple's rating is: 0.0\n,My favourite band is: AC/DC\n"
        }
      ],
      "execution_count": null
    },
    {
      "cell_type": "markdown",
      "source": " Take a look at this modified version of our code. Now the <code>myFavouriteBand</code> variable is defined within the <code>getBandRating</code> function. A variable that is defined within a function is said to be a local variable of that function. That means that it is only accessible from within the function in which it is defined. Our <code>getBandRating</code> function will still work, because <code>myFavouriteBand</code> is still defined within the function. However, we can no longer print <code>myFavouriteBand</code> outside our function, because it is a local variable of our <code>getBandRating</code> function; it is only defined within the <code>getBandRating</code> function:",
      "metadata": {
        "id": "m50uWO4UOsN9"
      }
    },
    {
      "cell_type": "code",
      "source": "# Example of local variable\n\ndef getBandRating(bandname):\n    myFavouriteBand2 = \"AC/DC\" #local variable \n    if bandname == myFavouriteBand2: \n        return 10.0\n    else:\n        return 0.0\n\nprint(\"AC/DC's rating is: \", getBandRating(\"AC/DC\"))\nprint(\"Deep Purple's rating is: \", getBandRating(\"Deep Purple\"))\nprint(\"My favourite band is\", myFavouriteBand2)",
      "metadata": {
        "id": "DjEVRC9FOsN-",
        "colab": {
          "base_uri": "https://localhost:8080/",
          "height": 240
        },
        "outputId": "b417faac-02ea-4476-fa1c-501c76da6283"
      },
      "outputs": [
        {
          "output_type": "stream",
          "name": "stdout",
          "text": "AC/DC's rating is:  10.0\n,Deep Purple's rating is:  0.0\n"
        },
        {
          "output_type": "error",
          "ename": "NameError",
          "evalue": "ignored",
          "traceback": [
            "\u001b[0;31m---------------------------------------------------------------------------\u001b[0m",
            "\u001b[0;31mNameError\u001b[0m                                 Traceback (most recent call last)",
            "\u001b[0;32m<ipython-input-61-4eb6799a8dca>\u001b[0m in \u001b[0;36m<module>\u001b[0;34m\u001b[0m\n\u001b[1;32m     10\u001b[0m \u001b[0mprint\u001b[0m\u001b[0;34m(\u001b[0m\u001b[0;34m\"AC/DC's rating is: \"\u001b[0m\u001b[0;34m,\u001b[0m \u001b[0mgetBandRating\u001b[0m\u001b[0;34m(\u001b[0m\u001b[0;34m\"AC/DC\"\u001b[0m\u001b[0;34m)\u001b[0m\u001b[0;34m)\u001b[0m\u001b[0;34m\u001b[0m\u001b[0;34m\u001b[0m\u001b[0m\n\u001b[1;32m     11\u001b[0m \u001b[0mprint\u001b[0m\u001b[0;34m(\u001b[0m\u001b[0;34m\"Deep Purple's rating is: \"\u001b[0m\u001b[0;34m,\u001b[0m \u001b[0mgetBandRating\u001b[0m\u001b[0;34m(\u001b[0m\u001b[0;34m\"Deep Purple\"\u001b[0m\u001b[0;34m)\u001b[0m\u001b[0;34m)\u001b[0m\u001b[0;34m\u001b[0m\u001b[0;34m\u001b[0m\u001b[0m\n\u001b[0;32m---> 12\u001b[0;31m \u001b[0mprint\u001b[0m\u001b[0;34m(\u001b[0m\u001b[0;34m\"My favourite band is\"\u001b[0m\u001b[0;34m,\u001b[0m \u001b[0mmyFavouriteBand2\u001b[0m\u001b[0;34m)\u001b[0m\u001b[0;34m\u001b[0m\u001b[0;34m\u001b[0m\u001b[0m\n\u001b[0m",
            "\u001b[0;31mNameError\u001b[0m: name 'myFavouriteBand2' is not defined"
          ]
        }
      ],
      "execution_count": null
    },
    {
      "cell_type": "markdown",
      "source": " Finally, take a look at this example. We now have two <code>myFavouriteBand</code> variable definitions. The first one of these has a global scope, and the second of them is a local variable within the <code>getBandRating</code> function. Within the <code>getBandRating</code> function, the local variable takes precedence. **Deep Purple** will receive a rating of 10.0 when passed to the <code>getBandRating</code> function. However, outside of the <code>getBandRating</code> function, the <code>getBandRating</code> s local variable is not defined, so the <code>myFavouriteBand</code> variable we print is the global variable, which has a value of **AC/DC**:",
      "metadata": {
        "id": "wX2GrfKMOsOA"
      }
    },
    {
      "cell_type": "code",
      "source": "# Example of global variable and local variable with the same name\n\nmyFavouriteBand = \"AC/DC\"\n\ndef getBandRating(bandname):\n    myFavouriteBand = \"Deep Purple\"\n    if bandname == myFavouriteBand:\n        return 10.0\n    else:\n        return 0.0\n\nprint(\"AC/DC's rating is:\",getBandRating(\"AC/DC\"))\nprint(\"Deep Purple's rating is: \",getBandRating(\"Deep Purple\"))\nprint(\"My favourite band is:\",myFavouriteBand)",
      "metadata": {
        "id": "GEWCPPfFOsOA"
      },
      "outputs": [],
      "execution_count": null
    },
    {
      "cell_type": "markdown",
      "source": "<h2>Quiz on Functions</h2>",
      "metadata": {
        "id": "Zmu4VyiNOsOE"
      }
    },
    {
      "cell_type": "markdown",
      "source": "Come up with a function that divides the first input by the second input:",
      "metadata": {
        "id": "3WHDrF-AOsOF"
      }
    },
    {
      "cell_type": "code",
      "source": "def div(a,b):return(a/b)",
      "metadata": {
        "id": "EhhJRbDgOsOF",
        "trusted": true
      },
      "outputs": [],
      "execution_count": 5
    },
    {
      "cell_type": "markdown",
      "source": "Double-click __here__ for the solution.\n\n\n<!-- \ndef div(a, b):\n    return(a/b)\n-->",
      "metadata": {
        "id": "18NZ6IeUOsOH"
      }
    },
    {
      "cell_type": "markdown",
      "source": "<hr>",
      "metadata": {
        "id": "POUcqmyqOsOI"
      }
    },
    {
      "cell_type": "markdown",
      "source": "Use the function <code>con</code> for the following question.",
      "metadata": {
        "id": "bzZ_DiJFOsOI"
      }
    },
    {
      "cell_type": "code",
      "source": "def con(a, b):return(a + b)\ncon(2, 2)",
      "metadata": {
        "id": "BqJ8lgVqOsOI",
        "trusted": true
      },
      "outputs": [
        {
          "execution_count": 10,
          "output_type": "execute_result",
          "data": {
            "text/plain": "4"
          },
          "metadata": {}
        }
      ],
      "execution_count": 10
    },
    {
      "cell_type": "markdown",
      "source": "Can the <code>con</code> function we defined before be used to add to integers or strings?",
      "metadata": {
        "id": "HovbxItzOsOL"
      }
    },
    {
      "cell_type": "code",
      "source": "# Write your code below and press Shift+Enter to execute",
      "metadata": {
        "id": "bbQ3MsrDOsOL"
      },
      "outputs": [],
      "execution_count": null
    },
    {
      "cell_type": "markdown",
      "source": "Double-click __here__ for the solution.\n\n<!-- \nyes, for example: \ncon(2, 2)\n -->",
      "metadata": {
        "id": "TDrpafr8OsOM"
      }
    },
    {
      "cell_type": "markdown",
      "source": "<hr>",
      "metadata": {
        "id": "-j-_N7O0OsON"
      }
    },
    {
      "cell_type": "markdown",
      "source": "Can the <code>con</code> function we defined before be used to concentrate a list or tuple?",
      "metadata": {
        "id": "UhudXzCHOsON"
      }
    },
    {
      "cell_type": "code",
      "source": "def con(a, b):return(a + b)\ncon(['a', 1], ['b', 1])",
      "metadata": {
        "id": "dhmsJzmLOsOO",
        "trusted": true
      },
      "outputs": [
        {
          "execution_count": 13,
          "output_type": "execute_result",
          "data": {
            "text/plain": "['a', 1, 'b', 1]"
          },
          "metadata": {}
        }
      ],
      "execution_count": 13
    },
    {
      "cell_type": "markdown",
      "source": "Double-click __here__ for the solution.\n\n<!-- \nyes,for example: \ncon(['a', 1], ['b', 1])\n-->",
      "metadata": {
        "id": "C2TDpsc0OsOR"
      }
    },
    {
      "cell_type": "markdown",
      "source": "<hr>\n<h2>The last exercise!</h2>\n<p>Congratulations, you have completed your first lesson and hands-on lab in Python. However, there is one more thing you need to do. The Data Science community encourages sharing work. The best way to share and showcase your work is to share it on GitHub. By sharing your notebook on GitHub you are not only building your reputation with fellow data scientists, but you can also show it off when applying for a job. Even though this was your first piece of work, it is never too early to start building good habits. Please submit all your exercises to Github & let the traces in our LMS, so for me to access your work\n<hr>",
      "metadata": {
        "id": "FOTJq_d0OsOR"
      }
    },
    {
      "cell_type": "markdown",
      "source": "<hr>",
      "metadata": {
        "id": "C54u3pyGOsOT"
      }
    },
    {
      "cell_type": "markdown",
      "source": "<p>Copyright &copy; 2023 RYU HOKYOUNG based on 2018 IBM Developer Skills Network. This notebook and its source code are released under the terms of the <a href=\"https://cognitiveclass.ai/mit-license/\">MIT License</a>.</p>",
      "metadata": {
        "id": "cWnKwYZpOsOV"
      }
    }
  ]
}