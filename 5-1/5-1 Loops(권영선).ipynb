{
  "metadata": {
    "kernelspec": {
      "name": "python",
      "display_name": "Python (Pyodide)",
      "language": "python"
    },
    "language_info": {
      "codemirror_mode": {
        "name": "python",
        "version": 3
      },
      "file_extension": ".py",
      "mimetype": "text/x-python",
      "name": "python",
      "nbconvert_exporter": "python",
      "pygments_lexer": "ipython3",
      "version": "3.8"
    },
    "colab": {
      "provenance": []
    }
  },
  "nbformat_minor": 4,
  "nbformat": 4,
  "cells": [
    {
      "cell_type": "markdown",
      "source": "<h1>Loops in Python (반복문) </h1>",
      "metadata": {
        "id": "veuE7B07Lavt"
      }
    },
    {
      "cell_type": "markdown",
      "source": "<p><strong>Welcome!</strong> This notebook will teach you about the loops in the Python Programming Language. By the end of this lab, you'll know how to use the loop statements in Python, including for loop, and while loop.</p>",
      "metadata": {
        "id": "51gjNoDFLavu"
      }
    },
    {
      "cell_type": "markdown",
      "source": "<h2 id=\"loop\">Loops</h2>",
      "metadata": {
        "id": "-DmgaqO5Lavw"
      }
    },
    {
      "cell_type": "markdown",
      "source": "<h3 id=\"range\">Range</h3>",
      "metadata": {
        "id": "xPBnIWEzLavw"
      }
    },
    {
      "cell_type": "markdown",
      "source": "Sometimes, you might want to repeat a given operation many times. Repeated executions like this are performed by <b>loops</b>. We will look at two types of loops, <code>for</code> loops and <code>while</code> loops.\n\nBefore we discuss loops lets discuss the <code>range</code> object. It is helpful to think of the range object as an ordered list. For now, let's look at the simplest case. If we would like to generate a sequence that contains three elements ordered from 0 to 2 we simply use the following command:",
      "metadata": {
        "id": "hTZ0cAGwLavx"
      }
    },
    {
      "cell_type": "code",
      "source": "# Use the range ([0, 1, 2])\n\ntest=range(3)\ntest",
      "metadata": {
        "id": "lWhJdKiyLavx",
        "colab": {
          "base_uri": "https://localhost:8080/"
        },
        "outputId": "bc08098a-7deb-4fe0-a2e3-1c18d4e5d4cb"
      },
      "outputs": [
        {
          "output_type": "execute_result",
          "data": {
            "text/plain": [
              "range(0, 3)"
            ]
          },
          "metadata": {},
          "execution_count": 16
        }
      ],
      "execution_count": 16
    },
    {
      "cell_type": "markdown",
      "source": "<img src=\"https://s3-api.us-geo.objectstorage.softlayer.net/cf-courses-data/CognitiveClass/PY0101EN/Chapter%203/Images/LoopsRange.png\" width=\"300\" />",
      "metadata": {
        "id": "SmdwJdYFLav1"
      }
    },
    {
      "cell_type": "markdown",
      "source": "<h3 id=\"for\">What is <code>for</code> loop?</h3>",
      "metadata": {
        "id": "DGtn2UWBLav1"
      }
    },
    {
      "cell_type": "markdown",
      "source": "The <code>for</code> loop enables you to execute a code block multiple times. For example, you would use this if you would like to print out every element in a list.    \nLet's try to use a <code>for</code> loop to print all the years presented in the list <code>dates</code>:",
      "metadata": {
        "id": "c1LJRwE_Lav2"
      }
    },
    {
      "cell_type": "markdown",
      "source": "This can be done as follows:",
      "metadata": {
        "id": "kmiYt8JJLav2"
      }
    },
    {
      "cell_type": "code",
      "source": "# For loop example\n\ndates = [1982,1980,1973] #List[0] =1982 \nN = len(dates) #3 \n\nfor i in range(N): #range(3) = [0, 1, 2] list --> i는 list에 있는 첫번째 값인 0, 그 다음에는 두번째 값인 1, 그 다음에는 세번째 값인 2 \n    print(dates[i]) # i=0 , i =1 , i =2   --> dates[0] = 1982, dates[1] = 1980, dates[2] =1973\n",
      "metadata": {
        "id": "xhJbqIpcLav3",
        "colab": {
          "base_uri": "https://localhost:8080/"
        },
        "outputId": "9af88ca7-dffc-4b32-910a-621a8ba9832a"
      },
      "outputs": [
        {
          "output_type": "stream",
          "name": "stdout",
          "text": "1982\n,1980\n,1973\n"
        }
      ],
      "execution_count": 21
    },
    {
      "cell_type": "markdown",
      "source": "The code in the indent is executed <code>N</code> times, each time the value of <code>i</code> is increased by 1 for every execution. The statement executed is to <code>print</code> out the value in the list at index <code>i</code> as shown here:",
      "metadata": {
        "id": "mFKLORq6Lav5"
      }
    },
    {
      "cell_type": "markdown",
      "source": "<img src=\"https://s3-api.us-geo.objectstorage.softlayer.net/cf-courses-data/CognitiveClass/PY0101EN/Chapter%203/Images/LoopsForRange.gif\" width=\"800\" />",
      "metadata": {
        "id": "2TdxZXtMLav6"
      }
    },
    {
      "cell_type": "markdown",
      "source": "In this example we can print out a sequence of numbers from 0 to 7:",
      "metadata": {
        "id": "CMEnNUGgLav6"
      }
    },
    {
      "cell_type": "code",
      "source": "# Example of for loop\n\nfor i in range(0, 8): \n    print(\"i is equal to\", i)",
      "metadata": {
        "id": "hKcwbqXdLav7",
        "colab": {
          "base_uri": "https://localhost:8080/"
        },
        "outputId": "2305719b-58f9-4e2a-c863-0d00ec7b38c3"
      },
      "outputs": [
        {
          "output_type": "stream",
          "name": "stdout",
          "text": "i is equal to 0\n,i is equal to 1\n,i is equal to 2\n,i is equal to 3\n,i is equal to 4\n,i is equal to 5\n,i is equal to 6\n,i is equal to 7\n"
        }
      ],
      "execution_count": 24
    },
    {
      "cell_type": "markdown",
      "source": "In Python we can directly access the elements in the list as follows: ",
      "metadata": {
        "id": "0TWdrINfLav9"
      }
    },
    {
      "cell_type": "code",
      "source": "# Exmaple of for loop, loop through list\n\nfor year in dates:  #이것을 가장 자주 사용한다. \n    print(year)   ",
      "metadata": {
        "id": "0uj23KUTLav-",
        "colab": {
          "base_uri": "https://localhost:8080/"
        },
        "outputId": "34b67ce3-452b-449e-f963-d4913b7c10de"
      },
      "outputs": [
        {
          "output_type": "stream",
          "name": "stdout",
          "text": "1982\n,1980\n,1973\n"
        }
      ],
      "execution_count": 25
    },
    {
      "cell_type": "markdown",
      "source": "For each iteration, the value of the variable <code>years</code> behaves like the value of <code>dates[i]</code> in the  first example:",
      "metadata": {
        "id": "cuNKB6_TLawB"
      }
    },
    {
      "cell_type": "markdown",
      "source": "<img src=\"https://s3-api.us-geo.objectstorage.softlayer.net/cf-courses-data/CognitiveClass/PY0101EN/Chapter%203/Images/LoopsForList.gif\" width=\"800\">",
      "metadata": {
        "id": "fFv4XnKCLawB"
      }
    },
    {
      "cell_type": "markdown",
      "source": "We can change the elements in a list:",
      "metadata": {
        "id": "9sun46G_LawE"
      }
    },
    {
      "cell_type": "code",
      "source": "# Use for loop to change the elements in list\n\nsquares = ['red', 'yellow', 'green', 'purple', 'blue']\n\nfor i in range(0, 5):\n    print(\"Before square \", i, 'is',  squares[i])\n    squares[i] = 'weight'\n    print(\"After square \", i, 'is',  squares[i])",
      "metadata": {
        "id": "vrE8gmpgLawE",
        "colab": {
          "base_uri": "https://localhost:8080/"
        },
        "outputId": "f5d6ad1f-890d-498e-fe6b-ee37e12f41ce"
      },
      "outputs": [
        {
          "output_type": "stream",
          "name": "stdout",
          "text": "Before square  0 is red\n,After square  0 is weight\n,Before square  1 is yellow\n,After square  1 is weight\n,Before square  2 is green\n,After square  2 is weight\n,Before square  3 is purple\n,After square  3 is weight\n,Before square  4 is blue\n,After square  4 is weight\n"
        }
      ],
      "execution_count": 26
    },
    {
      "cell_type": "code",
      "source": "squares",
      "metadata": {
        "id": "Zixyk0nPMrlR",
        "colab": {
          "base_uri": "https://localhost:8080/"
        },
        "outputId": "d023c13e-5ea8-460e-9825-392c2f82323e"
      },
      "outputs": [
        {
          "output_type": "execute_result",
          "data": {
            "text/plain": [
              "['weight', 'weight', 'weight', 'weight', 'weight']"
            ]
          },
          "metadata": {},
          "execution_count": 27
        }
      ],
      "execution_count": 27
    },
    {
      "cell_type": "code",
      "source": "squares = ['red', 'yellow', 'green', 'purple', 'blue']\n\nfor i in squares:\n  print(\"Before square is: \", i)\nfor i in range(0,5):\n  squares[i] = i* \"what the heck!\" \n  print(squares[i])",
      "metadata": {
        "id": "Qqqyj3SDMuno",
        "colab": {
          "base_uri": "https://localhost:8080/"
        },
        "outputId": "e1f6e9fe-c7c7-45e2-f5b8-b3adb746513f"
      },
      "outputs": [
        {
          "output_type": "stream",
          "name": "stdout",
          "text": "Before square is:  red\n,Before square is:  yellow\n,Before square is:  green\n,Before square is:  purple\n,Before square is:  blue\n,\n,what the heck!\n,what the heck!what the heck!\n,what the heck!what the heck!what the heck!\n,what the heck!what the heck!what the heck!what the heck!\n"
        }
      ],
      "execution_count": 28
    },
    {
      "cell_type": "markdown",
      "source": "<h3 id=\"while\">What is <code>while</code> loop?</h3>",
      "metadata": {
        "id": "mE29YMQWLawJ"
      }
    },
    {
      "cell_type": "markdown",
      "source": "As you can see, the <code>for</code> loop is used for a controlled flow of repetition. However, what if we don't know when we want to stop the loop? What if we want to keep executing a code block until a certain condition is met? The <code>while</code> loop exists as a tool for repeated execution based on a condition. The code block will keep being executed until the given logical condition returns a **False** boolean value.\n",
      "metadata": {
        "id": "NYXnOv-NLawK"
      }
    },
    {
      "cell_type": "markdown",
      "source": "Let’s say we would like to iterate through list <code>dates</code> and stop at the year 1973, then print out the number of iterations. This can be done with the following block of code:",
      "metadata": {
        "id": "VZTuYRGOLawK"
      }
    },
    {
      "cell_type": "code",
      "source": "# While Loop Example \n\ndates = [1982, 1980, 1973, 2000]\n\ni = 0\nyear = 0\n\nwhile(year != 2000):\n    year = dates[i] #1982, 1980, 1973, 2000  \n    i = i + 1 #i =1, 2, 3, 4 \n    print(year) #1982, 1980, 1973, 2000  \n\nprint(\"It took \", i ,\"repetitions to get out of loop.\")",
      "metadata": {
        "id": "VQJvbPu5LawL",
        "colab": {
          "base_uri": "https://localhost:8080/"
        },
        "outputId": "87806089-4ace-4df2-a925-34f691432a7d"
      },
      "outputs": [
        {
          "output_type": "stream",
          "name": "stdout",
          "text": "1982\n,1980\n,1973\n,2000\n,It took  4 repetitions to get out of loop.\n"
        }
      ],
      "execution_count": 29
    },
    {
      "cell_type": "markdown",
      "source": "A while loop iterates merely until the condition in the argument is not  met, as shown in the following figure:",
      "metadata": {
        "id": "IdFAcKFfLawO"
      }
    },
    {
      "cell_type": "markdown",
      "source": "<img src=\"https://s3-api.us-geo.objectstorage.softlayer.net/cf-courses-data/CognitiveClass/PY0101EN/Chapter%203/Images/LoopsWhile.gif\" width=\"650\" />",
      "metadata": {
        "id": "WcY0Xi7hLawP"
      }
    },
    {
      "cell_type": "markdown",
      "source": "<hr>",
      "metadata": {
        "id": "lVq1-tvvLawP"
      }
    },
    {
      "cell_type": "markdown",
      "source": "<h2 id=\"quiz\">Quiz on Loops</h2>",
      "metadata": {
        "id": "yxfGHiYiLawP"
      }
    },
    {
      "cell_type": "markdown",
      "source": "Write a <code>for</code> loop the prints out all the element between <b>-5</b> and <b>5</b> using the range function.",
      "metadata": {
        "id": "ZHGYe8j5LawQ"
      }
    },
    {
      "cell_type": "code",
      "source": "# Write your code below and press Shift+Enter to execute",
      "metadata": {
        "id": "QIXNfubLLawQ"
      },
      "outputs": [],
      "execution_count": null
    },
    {
      "cell_type": "markdown",
      "source": "Double-click __here__ for the solution.\n\nfor i in rnage(-5,5):\nprint(i)\n\n<!-- \nfor i in range(-5, 6):\n    print(i)\n-->",
      "metadata": {
        "id": "2leKrJ-OLawS"
      }
    },
    {
      "cell_type": "markdown",
      "source": "Print the elements of the following list:\n<code>Genres=[ 'rock', 'R&B', 'Soundtrack', 'R&B', 'soul', 'pop']</code>\nMake sure you follow Python conventions.",
      "metadata": {
        "id": "lgt-lOBcLawT"
      }
    },
    {
      "cell_type": "code",
      "source": "# Write your code below and press Shift+Enter to execute",
      "metadata": {
        "id": "y1P9DewULawT"
      },
      "outputs": [],
      "execution_count": null
    },
    {
      "cell_type": "markdown",
      "source": "Double-click __here__ for the solution.\n\nGenres=[ 'rock', 'R&B', 'Soundtrack', 'R&B', 'soul', 'pop']\nfor Genre in Genres:\nprint(Genre)\n\nfor \n<!-- \nGenres = ['rock', 'R&B', 'Soundtrack', 'R&B', 'soul', 'pop']\nfor Genre in Genres:\n    print(Genre)\n-->",
      "metadata": {
        "id": "jI1uHNwkLawV"
      }
    },
    {
      "cell_type": "markdown",
      "source": "<hr>",
      "metadata": {
        "id": "R8_dlBvrLawW"
      }
    },
    {
      "cell_type": "markdown",
      "source": "Write a for loop that prints out the following list: <code>squares=['red', 'yellow', 'green', 'purple', 'blue']</code>",
      "metadata": {
        "id": "VUot42j7LawW"
      }
    },
    {
      "cell_type": "code",
      "source": "# Write your code below and press Shift+Enter to execute",
      "metadata": {
        "id": "E0MCFnuqLawW"
      },
      "outputs": [],
      "execution_count": null
    },
    {
      "cell_type": "markdown",
      "source": "Double-click __here__ for the solution.\n\nsquares=['red', 'yellow', 'green', 'purple', 'blue']\nfor square in squares:\nprint(square)\n\n<!-- \nsquares=['red', 'yellow', 'green', 'purple', 'blue']\nfor square in squares:\n    print(square)\n -->",
      "metadata": {
        "id": "eWchoPkCLawZ"
      }
    },
    {
      "cell_type": "markdown",
      "source": "<hr>",
      "metadata": {
        "id": "9Yg-AQRxLawa"
      }
    },
    {
      "cell_type": "markdown",
      "source": "Write a while loop to display the values of the Rating of an album playlist stored in the list <code>PlayListRatings</code>. If the score is less than 6, exit the loop. The list <code>PlayListRatings</code> is given by: <code>PlayListRatings = [10, 9.5, 10, 8, 7.5, 5, 10, 10]</code>",
      "metadata": {
        "id": "hnPtqt7_Lawa"
      }
    },
    {
      "cell_type": "code",
      "source": "# Write your code below and press Shift+Enter to execute",
      "metadata": {
        "id": "5Kw0DO-ALawa"
      },
      "outputs": [],
      "execution_count": null
    },
    {
      "cell_type": "markdown",
      "source": "Double-click __here__ for the solution.\n\ni = 1\nPlayListRatings = [10, 9.5, 10, 8, 7.5, 5, 10, 10]\n\nrating = PlayListRatings[0] #10\nwhile(rating >=6):\nprint(Rating)\nrating = PlayListRatings[i]\ni = i + 1\n\n<!-- \nPlayListRatings = [10, 9.5, 10, 8, 7.5, 5, 10, 10]\ni = 1\nRating = PlayListRatings[0]\nwhile(Rating >= 6):\n    print(Rating)\n    Rating = PlayListRatings[i]\n    i = i + 1\n -->",
      "metadata": {
        "id": "menasC9BLawd"
      }
    },
    {
      "cell_type": "markdown",
      "source": "<hr>",
      "metadata": {
        "id": "v91g8dYeLawd"
      }
    },
    {
      "cell_type": "markdown",
      "source": "Write a while loop to copy the strings <code>'orange'</code> of the list <code>squares</code> to the list <code>new_squares</code>. Stop and exit the loop if the value on the list is not <code>'orange'</code>:",
      "metadata": {
        "id": "asUW74l8Lawe"
      }
    },
    {
      "cell_type": "code",
      "source": "# Write your code below and press Shift+Enter to execute\n\nsquares = ['orange', 'orange', 'purple', 'blue ', 'orange']\nnew_squares = []",
      "metadata": {
        "id": "oIB8hw4mLawf"
      },
      "outputs": [],
      "execution_count": null
    },
    {
      "cell_type": "markdown",
      "source": "Double-click __here__ for the solution.\n<!-- \nsquares = ['orange', 'orange', 'purple', 'blue ', 'orange']\nnew_squares = []\ni = 0\nwhile(squares[i] == 'orange'):\n    new_squares.append(squares[i])\n    i = i + 1\nprint (new_squares)\n -->",
      "metadata": {
        "id": "tSPVKaNxLawg"
      }
    },
    {
      "cell_type": "markdown",
      "source": "<hr>\n<h2>The last exercise!</h2>\n<p>Congratulations, you have completed your first lesson and hands-on lab in Python. However, there is one more thing you need to do. The Data Science community encourages sharing work. The best way to share and showcase your work is to share it on GitHub. By sharing your notebook on GitHub you are not only building your reputation with fellow data scientists, but you can also show it off when applying for a job. Even though this was your first piece of work, it is never too early to start building good habits. Please submit all your exercises to Github & let the traces in our LMS, so for me to access your work.\n<hr>",
      "metadata": {
        "id": "gnPi6DEjLawh"
      }
    },
    {
      "cell_type": "markdown",
      "source": "<hr>",
      "metadata": {
        "id": "9ESytxxcLawi"
      }
    },
    {
      "cell_type": "markdown",
      "source": "<p>Copyright &copy; 2023 RYU HOKYOUNG based on 2018 IBM Developer Skills Network. This notebook and its source code are released under the terms of the <a href=\"https://cognitiveclass.ai/mit-license/\">MIT License</a>.</p>",
      "metadata": {
        "id": "ICo-40EXLawj"
      }
    }
  ]
}