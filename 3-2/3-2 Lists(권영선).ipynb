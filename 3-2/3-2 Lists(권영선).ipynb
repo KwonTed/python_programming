{
  "metadata": {
    "kernelspec": {
      "name": "python",
      "display_name": "Python (Pyodide)",
      "language": "python"
    },
    "language_info": {
      "codemirror_mode": {
        "name": "python",
        "version": 3
      },
      "file_extension": ".py",
      "mimetype": "text/x-python",
      "name": "python",
      "nbconvert_exporter": "python",
      "pygments_lexer": "ipython3",
      "version": "3.8"
    },
    "colab": {
      "provenance": []
    }
  },
  "nbformat_minor": 4,
  "nbformat": 4,
  "cells": [
    {
      "cell_type": "markdown",
      "source": "<h1>Lists in Python</h1>",
      "metadata": {
        "id": "-kmv3hPY6OQp"
      }
    },
    {
      "cell_type": "markdown",
      "source": "<p><strong>Welcome!</strong> This notebook will teach you about the lists in the Python Programming Language. By the end of this lab, you'll know the basics list operations in Python, including indexing, list operations and copy/clone list.</p> ",
      "metadata": {
        "id": "Lj8h9ORD6OQq"
      }
    },
    {
      "cell_type": "markdown",
      "source": "<h2 id=\"#dataset\">About the Dataset</h2>",
      "metadata": {
        "id": "hhxcfI_y6OQs"
      }
    },
    {
      "cell_type": "markdown",
      "source": "Imagine you received album recommendations from your friends and compiled all of the recommandations into a table, with specific information about each album.\n\nThe table has one row for each movie and several columns:\n\n- **artist** - Name of the artist\n- **album** - Name of the album\n- **released_year** - Year the album was released\n- **length_min_sec** - Length of the album (hours,minutes,seconds)\n- **genre** - Genre of the album\n- **music_recording_sales_millions** - Music recording sales (millions in USD) \n- **claimed_sales_millions** - Album's claimed sales (millions in USD) \n- **date_released** - Date on which the album was released\n- **soundtrack** - Indicates if the album is the movie soundtrack (Y) or (N)\n- **rating_of_friends** - Indicates the rating from your friends from 1 to 10\n<br>\n<br>\n\nThe dataset can be seen below:\n\n<font size=\"1\">\n<table font-size:xx-small style=\"width:25%\">\n  <tr>\n    <th>Artist</th>\n    <th>Album</th> \n    <th>Released</th>\n    <th>Length</th>\n    <th>Genre</th> \n    <th>Music recording sales (millions)</th>\n    <th>Claimed sales (millions)</th>\n    <th>Released</th>\n    <th>Soundtrack</th>\n    <th>Rating (friends)</th>\n  </tr>\n  <tr>\n    <td>Michael Jackson</td>\n    <td>Thriller</td> \n    <td>1982</td>\n    <td>00:42:19</td>\n    <td>Pop, rock, R&B</td>\n    <td>46</td>\n    <td>65</td>\n    <td>30-Nov-82</td>\n    <td></td>\n    <td>10.0</td>\n  </tr>\n  <tr>\n    <td>AC/DC</td>\n    <td>Back in Black</td> \n    <td>1980</td>\n    <td>00:42:11</td>\n    <td>Hard rock</td>\n    <td>26.1</td>\n    <td>50</td>\n    <td>25-Jul-80</td>\n    <td></td>\n    <td>8.5</td>\n  </tr>\n    <tr>\n    <td>Pink Floyd</td>\n    <td>The Dark Side of the Moon</td> \n    <td>1973</td>\n    <td>00:42:49</td>\n    <td>Progressive rock</td>\n    <td>24.2</td>\n    <td>45</td>\n    <td>01-Mar-73</td>\n    <td></td>\n    <td>9.5</td>\n  </tr>\n    <tr>\n    <td>Whitney Houston</td>\n    <td>The Bodyguard</td> \n    <td>1992</td>\n    <td>00:57:44</td>\n    <td>Soundtrack/R&B, soul, pop</td>\n    <td>26.1</td>\n    <td>50</td>\n    <td>25-Jul-80</td>\n    <td>Y</td>\n    <td>7.0</td>\n  </tr>\n    <tr>\n    <td>Meat Loaf</td>\n    <td>Bat Out of Hell</td> \n    <td>1977</td>\n    <td>00:46:33</td>\n    <td>Hard rock, progressive rock</td>\n    <td>20.6</td>\n    <td>43</td>\n    <td>21-Oct-77</td>\n    <td></td>\n    <td>7.0</td>\n  </tr>\n    <tr>\n    <td>Eagles</td>\n    <td>Their Greatest Hits (1971-1975)</td> \n    <td>1976</td>\n    <td>00:43:08</td>\n    <td>Rock, soft rock, folk rock</td>\n    <td>32.2</td>\n    <td>42</td>\n    <td>17-Feb-76</td>\n    <td></td>\n    <td>9.5</td>\n  </tr>\n    <tr>\n    <td>Bee Gees</td>\n    <td>Saturday Night Fever</td> \n    <td>1977</td>\n    <td>1:15:54</td>\n    <td>Disco</td>\n    <td>20.6</td>\n    <td>40</td>\n    <td>15-Nov-77</td>\n    <td>Y</td>\n    <td>9.0</td>\n  </tr>\n    <tr>\n    <td>Fleetwood Mac</td>\n    <td>Rumours</td> \n    <td>1977</td>\n    <td>00:40:01</td>\n    <td>Soft rock</td>\n    <td>27.9</td>\n    <td>40</td>\n    <td>04-Feb-77</td>\n    <td></td>\n    <td>9.5</td>\n  </tr>\n</table></font>",
      "metadata": {
        "id": "pL-cRqHM6OQs"
      }
    },
    {
      "cell_type": "markdown",
      "source": "<hr>",
      "metadata": {
        "id": "Afzfuv4P6OQt"
      }
    },
    {
      "cell_type": "markdown",
      "source": "<h2 id=\"list\">Lists</h2>",
      "metadata": {
        "id": "aumgnRli6OQt"
      }
    },
    {
      "cell_type": "markdown",
      "source": "<h3 id=\"index\">Indexing</h3>",
      "metadata": {
        "id": "fmRrOYbF6OQu"
      }
    },
    {
      "cell_type": "markdown",
      "source": "We are going to take a look at lists in Python. A list is a sequenced collection of different objects such as integers, strings, and other lists as well. The address of each element within a list is called an <b>index</b>. An index is used to access and refer to items within a list.",
      "metadata": {
        "id": "_dIefeGA6OQv"
      }
    },
    {
      "cell_type": "markdown",
      "source": "<img src=\"https://s3-api.us-geo.objectstorage.softlayer.net/cf-courses-data/CognitiveClass/PY0101EN/Chapter%202/Images/ListsIndex.png\" width=\"1000\" />",
      "metadata": {
        "id": "NTaqtcMf6OQw"
      }
    },
    {
      "cell_type": "markdown",
      "source": " To create a list, type the list within square brackets <b>[ ]</b>, with your content inside the parenthesis and separated by commas. Let’s try it!",
      "metadata": {
        "id": "_KnOIx6i6OQw"
      }
    },
    {
      "cell_type": "code",
      "source": "# Create a list\n\nL = [\"Michael Jackson\", 10.1, 1982] #[] : indexing\nL",
      "metadata": {
        "id": "UpEdrGZX6OQx",
        "colab": {
          "base_uri": "https://localhost:8080/"
        },
        "outputId": "6b8d9cac-89e7-4d58-d1e9-3fb56fc7fa4d"
      },
      "outputs": [
        {
          "output_type": "execute_result",
          "data": {
            "text/plain": [
              "['Michael Jackson', 10.1, 1982]"
            ]
          },
          "metadata": {},
          "execution_count": 25
        }
      ],
      "execution_count": 25
    },
    {
      "cell_type": "code",
      "source": "type(L[2])",
      "metadata": {
        "colab": {
          "base_uri": "https://localhost:8080/"
        },
        "id": "BmrFlijOm_xu",
        "outputId": "0bd5254b-542d-4a8a-c004-9ab16515fbed"
      },
      "outputs": [
        {
          "output_type": "execute_result",
          "data": {
            "text/plain": [
              "int"
            ]
          },
          "metadata": {},
          "execution_count": 32
        }
      ],
      "execution_count": 32
    },
    {
      "cell_type": "markdown",
      "source": "We can use negative and regular indexing with a list :",
      "metadata": {
        "id": "Oi8vGIko6OQ1"
      }
    },
    {
      "cell_type": "markdown",
      "source": "<img src=\"https://s3-api.us-geo.objectstorage.softlayer.net/cf-courses-data/CognitiveClass/PY0101EN/Chapter%202/Images/ListsNeg.png\" width=\"1000\" />",
      "metadata": {
        "id": "J6Nv78gF6OQ2"
      }
    },
    {
      "cell_type": "code",
      "source": "# Print the elements on each index\n\nprint('the same element using negative and positive indexing:\\n Postive:',L[0],\n'\\n Negative:' , L[-3]  )\nprint('the same element using negative and positive indexing:\\n Postive:',L[1],\n'\\n Negative:' , L[-2]  )\nprint('the same element using negative and positive indexing:\\n Postive:',L[2],\n'\\n Negative:' , L[-1]  )",
      "metadata": {
        "id": "HKKAd7YR6OQ2",
        "colab": {
          "base_uri": "https://localhost:8080/"
        },
        "outputId": "12fe0929-17c0-43b6-ff6b-eafa65b6ddc1"
      },
      "outputs": [
        {
          "output_type": "stream",
          "name": "stdout",
          "text": "the same element using negative and positive indexing:\n, Postive: Michael Jackson \n, Negative: Michael Jackson\n,the same element using negative and positive indexing:\n, Postive: 10.1 \n, Negative: 10.1\n,the same element using negative and positive indexing:\n, Postive: 1982 \n, Negative: 1982\n"
        }
      ],
      "execution_count": 33
    },
    {
      "cell_type": "markdown",
      "source": "<h3 id=\"content\">List Content</h3>",
      "metadata": {
        "id": "hfwadSBF6OQ5"
      }
    },
    {
      "cell_type": "markdown",
      "source": "Lists can contain strings, floats, and integers. We can nest other lists, and we can also nest tuples and other data structures. The same indexing conventions apply for nesting:    \n",
      "metadata": {
        "id": "l2bUN_yU6OQ5"
      }
    },
    {
      "cell_type": "code",
      "source": "#Differnece between List and Tuple is List is mutable (changeable) but not tuple\n\nL1 = [\"Michael Jackson\", 10.1, 1982, [1, 2], (\"A\", 1)]\nprint(\"before L1[0] changed\", L1)\nL1[0] = \"Janet\"\nprint(\"after L1[0] changed\", L1)\n\n\n",
      "metadata": {
        "id": "IOk_DmIV6OQ6",
        "colab": {
          "base_uri": "https://localhost:8080/"
        },
        "outputId": "ac69732d-6f26-4c55-a006-2b2ef6d6ed0d"
      },
      "outputs": [
        {
          "output_type": "stream",
          "name": "stdout",
          "text": "before L1[0] changed ['Michael Jackson', 10.1, 1982, [1, 2], ('A', 1)]\n,after L1[0] changed ['Janet', 10.1, 1982, [1, 2], ('A', 1)]\n"
        }
      ],
      "execution_count": 35
    },
    {
      "cell_type": "code",
      "source": "Tuple1=(\"Michael Jackson\", 10.1, 1982)\nTuple1\nTuple1[0]=\"Janet\"",
      "metadata": {
        "id": "85zo9GNA7vwi",
        "colab": {
          "base_uri": "https://localhost:8080/",
          "height": 205
        },
        "outputId": "4d146e2d-83ff-47a4-9d52-ca3f6740f2cf"
      },
      "outputs": [
        {
          "output_type": "error",
          "ename": "TypeError",
          "evalue": "ignored",
          "traceback": [
            "\u001b[0;31m---------------------------------------------------------------------------\u001b[0m",
            "\u001b[0;31mTypeError\u001b[0m                                 Traceback (most recent call last)",
            "\u001b[0;32m<ipython-input-36-886b175148d3>\u001b[0m in \u001b[0;36m<module>\u001b[0;34m\u001b[0m\n\u001b[1;32m      1\u001b[0m \u001b[0mTuple1\u001b[0m\u001b[0;34m=\u001b[0m\u001b[0;34m(\u001b[0m\u001b[0;34m\"Michael Jackson\"\u001b[0m\u001b[0;34m,\u001b[0m \u001b[0;36m10.1\u001b[0m\u001b[0;34m,\u001b[0m \u001b[0;36m1982\u001b[0m\u001b[0;34m)\u001b[0m\u001b[0;34m\u001b[0m\u001b[0;34m\u001b[0m\u001b[0m\n\u001b[1;32m      2\u001b[0m \u001b[0mTuple1\u001b[0m\u001b[0;34m\u001b[0m\u001b[0;34m\u001b[0m\u001b[0m\n\u001b[0;32m----> 3\u001b[0;31m \u001b[0mTuple1\u001b[0m\u001b[0;34m[\u001b[0m\u001b[0;36m0\u001b[0m\u001b[0;34m]\u001b[0m\u001b[0;34m=\u001b[0m\u001b[0;34m\"Janet\"\u001b[0m\u001b[0;34m\u001b[0m\u001b[0;34m\u001b[0m\u001b[0m\n\u001b[0m",
            "\u001b[0;31mTypeError\u001b[0m: 'tuple' object does not support item assignment"
          ]
        }
      ],
      "execution_count": 36
    },
    {
      "cell_type": "markdown",
      "source": "<h3 id=\"op\">List Operations (함수, 기능, 즉 LIST를 사용하면 쓸 수 있는 무기</h3>",
      "metadata": {
        "id": "bSxIcNc86OQ9"
      }
    },
    {
      "cell_type": "markdown",
      "source": " We can also perform slicing in lists. For example, if we want the last two elements, we use the following command:",
      "metadata": {
        "id": "tHc4wOVY6OQ9"
      }
    },
    {
      "cell_type": "code",
      "source": "# Sample List\n\nL = [\"Michael Jackson\", 10.1,1982,\"MJ\",1]\nL",
      "metadata": {
        "id": "P1ngnqP66OQ-",
        "colab": {
          "base_uri": "https://localhost:8080/"
        },
        "outputId": "ef3440a0-14cc-4f85-c980-a0cfceff3cf3"
      },
      "outputs": [
        {
          "output_type": "execute_result",
          "data": {
            "text/plain": [
              "['Michael Jackson', 10.1, 1982, 'MJ', 1]"
            ]
          },
          "metadata": {},
          "execution_count": 37
        }
      ],
      "execution_count": 37
    },
    {
      "cell_type": "markdown",
      "source": "<img src=\"https://s3-api.us-geo.objectstorage.softlayer.net/cf-courses-data/CognitiveClass/PY0101EN/Chapter%202/Images/ListsSlice.png\" width=\"1000\">",
      "metadata": {
        "id": "JoHM3sgO6ORB"
      }
    },
    {
      "cell_type": "code",
      "source": "# List slicing\n\nL[3:5]",
      "metadata": {
        "id": "0FqfMvDr6ORB",
        "colab": {
          "base_uri": "https://localhost:8080/"
        },
        "outputId": "2be6ad6f-16fc-4d27-902d-158b5bf93400"
      },
      "outputs": [
        {
          "output_type": "execute_result",
          "data": {
            "text/plain": [
              "['MJ', 1]"
            ]
          },
          "metadata": {},
          "execution_count": 38
        }
      ],
      "execution_count": 38
    },
    {
      "cell_type": "markdown",
      "source": "We can use the method <code>extend</code> to add new elements to the list:",
      "metadata": {
        "id": "cQehmbrm6ORE"
      }
    },
    {
      "cell_type": "code",
      "source": "# Use extend to add elements to list\n\nL = [ \"Michael Jackson\", 10.2]\nL.extend(['pop', 10]) #['pop', 10] --> list \nL[3]",
      "metadata": {
        "id": "o-6mD3rB6ORF",
        "colab": {
          "base_uri": "https://localhost:8080/"
        },
        "outputId": "a2a2308f-d160-4a3e-d7f1-2ebc94aaeb3b"
      },
      "outputs": [
        {
          "output_type": "execute_result",
          "data": {
            "text/plain": [
              "10"
            ]
          },
          "metadata": {},
          "execution_count": 46
        }
      ],
      "execution_count": 46
    },
    {
      "cell_type": "markdown",
      "source": "Another similar method is <code>append</code>. If we apply <code>append</code> instead of <code>extend</code>, we add one element to the list:",
      "metadata": {
        "id": "U_kAn39m6ORH"
      }
    },
    {
      "cell_type": "code",
      "source": "# Use append to add elements to list\n\nL = [ \"Michael Jackson\", 10.2]\nL.append(['pop', 10]) #['pop', 10]\nL[2][0]\n",
      "metadata": {
        "id": "ylRoJQ7A6ORI",
        "colab": {
          "base_uri": "https://localhost:8080/",
          "height": 35
        },
        "outputId": "2d19f237-0761-4fb2-c393-37b299f4724e"
      },
      "outputs": [
        {
          "output_type": "execute_result",
          "data": {
            "text/plain": [
              "'pop'"
            ],
            "application/vnd.google.colaboratory.intrinsic+json": {
              "type": "string"
            }
          },
          "metadata": {},
          "execution_count": 51
        }
      ],
      "execution_count": 51
    },
    {
      "cell_type": "markdown",
      "source": " We can also delete an element of a list using the <code>del</code> command:",
      "metadata": {
        "id": "0Jf6S4E56ORW"
      }
    },
    {
      "cell_type": "code",
      "source": "# Delete the element based on the index\nA = ['Michael Jackson', 10.2, 'pop', 10, ['a', 'b']]\nprint('Before change:', A)\ndel(A[0])\nprint('After change:', A)",
      "metadata": {
        "id": "-bY57Iyv6ORW",
        "colab": {
          "base_uri": "https://localhost:8080/"
        },
        "outputId": "bb0a0221-1df7-49fd-8abc-fa4d798970f0"
      },
      "outputs": [
        {
          "output_type": "stream",
          "name": "stdout",
          "text": "Before change: ['Michael Jackson', 10.2, 'pop', 10, ['a', 'b']]\n,After change: [10.2, 'pop', 10, ['a', 'b']]\n"
        }
      ],
      "execution_count": 52
    },
    {
      "cell_type": "markdown",
      "source": "We can convert a string to a list using <code>split</code>.  For example, the method <code>split</code> translates every group of characters separated by a space into an element in a list:",
      "metadata": {
        "id": "FK3UY1LB6ORZ"
      }
    },
    {
      "cell_type": "code",
      "source": "A = ['Michael Jackson', 10.2, 'pop', 10]",
      "metadata": {
        "colab": {
          "base_uri": "https://localhost:8080/",
          "height": 35
        },
        "id": "ScXjo95Pp0nc",
        "outputId": "b58880a5-6a50-4bc1-8a99-c70a91badccf"
      },
      "outputs": [
        {
          "output_type": "execute_result",
          "data": {
            "text/plain": [
              "'Michael Jackson'"
            ],
            "application/vnd.google.colaboratory.intrinsic+json": {
              "type": "string"
            }
          },
          "metadata": {},
          "execution_count": 54
        }
      ],
      "execution_count": 54
    },
    {
      "cell_type": "code",
      "source": "# Split the string, default is by space\n\nwhat='hard rock'.split()\nprint(what)\ntype(what)\nwhat[1]",
      "metadata": {
        "id": "SiyLlFUi6ORZ",
        "colab": {
          "base_uri": "https://localhost:8080/",
          "height": 53
        },
        "outputId": "f0f0f375-6418-4525-cbb3-1d250d6a461e"
      },
      "outputs": [
        {
          "output_type": "stream",
          "name": "stdout",
          "text": "['hard', 'rock']\n"
        },
        {
          "output_type": "execute_result",
          "data": {
            "text/plain": [
              "'rock'"
            ],
            "application/vnd.google.colaboratory.intrinsic+json": {
              "type": "string"
            }
          },
          "metadata": {},
          "execution_count": 58
        }
      ],
      "execution_count": 58
    },
    {
      "cell_type": "markdown",
      "source": "We can use the split function to separate strings on a specific character. We pass the character we would like to split on into the argument, which in this case is a comma.  The result is a list, and each element corresponds to a set of characters that have been separated by a comma: ",
      "metadata": {
        "id": "JRCvIIhw6ORc"
      }
    },
    {
      "cell_type": "code",
      "source": "from re import split\n# Split the string by comma\n\nSplit_string_comma='A,B,C,D'.split(',')\nSplit_string_comma\ntype(Split_string_comma)\nSplit_string_comma[0]",
      "metadata": {
        "id": "7Js5Gh536ORd",
        "colab": {
          "base_uri": "https://localhost:8080/",
          "height": 35
        },
        "outputId": "7e72a8bd-c6cf-4c60-af51-7e3dc5609234"
      },
      "outputs": [
        {
          "output_type": "execute_result",
          "data": {
            "text/plain": [
              "'A'"
            ],
            "application/vnd.google.colaboratory.intrinsic+json": {
              "type": "string"
            }
          },
          "metadata": {},
          "execution_count": 61
        }
      ],
      "execution_count": 61
    },
    {
      "cell_type": "markdown",
      "source": "<h3 id=\"co\">Copy and Clone List</h3>",
      "metadata": {
        "id": "JdvgJ8oN6ORf"
      }
    },
    {
      "cell_type": "markdown",
      "source": "When we set one variable <b>B</b> equal to <b>A</b>; both <b>A</b> and <b>B</b> are referencing the same list in memory:",
      "metadata": {
        "id": "GJQECNRh6ORg"
      }
    },
    {
      "cell_type": "code",
      "source": "# Copy (copy by reference) the list A\n\nA = [\"hard rock\", 10, 1.2]\nB = A # B = A (같은 곳을 가리킨다 not equal to 같은 값을 두개 따로 가지는 것은 아니다) -->B에게 알려준다.. 너는 인제 A에서 찾아야 해...B = A (assign)\n\n\nA[0] = \"R&B\"\n\nprint('A:', A) #R&B, 10, 1.2\nprint('B:', B) #'hard rock, 10, 1.2",
      "metadata": {
        "id": "VCgv7Joh6ORg",
        "colab": {
          "base_uri": "https://localhost:8080/"
        },
        "outputId": "1701c330-6497-46ae-fb83-5607b5a50557"
      },
      "outputs": [
        {
          "output_type": "stream",
          "name": "stdout",
          "text": "A: ['R&B', 10, 1.2]\n,B: ['R&B', 10, 1.2]\n"
        }
      ],
      "execution_count": 63
    },
    {
      "cell_type": "markdown",
      "source": "<img src=\"https://s3-api.us-geo.objectstorage.softlayer.net/cf-courses-data/CognitiveClass/PY0101EN/Chapter%202/Images/ListsRef.png\" width=\"1000\" align=\"center\">",
      "metadata": {
        "id": "Z5xEvdHr6ORi"
      }
    },
    {
      "cell_type": "markdown",
      "source": "Initially, the value of the first element in <b>B</b> is set as hard rock. If we change the first element in <b>A</b> to <b>banana</b>, we get an unexpected side effect.  As <b>A</b> and <b>B</b> are referencing the same list, if we change list <b>A</b>, then list <b>B</b> also changes. If we check the first element of <b>B</b> we get banana instead of hard rock:",
      "metadata": {
        "id": "l5-vaSC_6ORj"
      }
    },
    {
      "cell_type": "code",
      "source": "# Examine the copy by reference\n\nprint('B[0]:', B[0])\nA[0] = \"banana\"\nprint('B[0]:', B[0])",
      "metadata": {
        "id": "POD6aVNX6ORj"
      },
      "outputs": [],
      "execution_count": null
    },
    {
      "cell_type": "markdown",
      "source": "You can clone list  **A** by using  the following syntax:",
      "metadata": {
        "id": "BCwkxT1g6ORn"
      }
    },
    {
      "cell_type": "code",
      "source": "# Clone (clone by value) the list A\nA = [\"hard rock\", 10, 1.2]\nB = A[:] #A[:]\nprint(A)\nprint(B)\nA[0] ='R&B'\nprint(A)\nprint(B)\n#A[0] = \"Banana\"\n#print(B)\n#print(A)",
      "metadata": {
        "id": "m4hCDL5N6ORn",
        "colab": {
          "base_uri": "https://localhost:8080/"
        },
        "outputId": "252a13f6-2639-4d48-8842-f6a612ad0a73"
      },
      "outputs": [
        {
          "output_type": "stream",
          "name": "stdout",
          "text": "['hard rock', 10, 1.2]\n,['hard rock', 10, 1.2]\n,['R&B', 10, 1.2]\n,['hard rock', 10, 1.2]\n"
        }
      ],
      "execution_count": 66
    },
    {
      "cell_type": "markdown",
      "source": " Variable **B** references a new copy or clone of the original list; this is demonstrated in the following figure:",
      "metadata": {
        "id": "eDA7-iT56ORp"
      }
    },
    {
      "cell_type": "markdown",
      "source": "<img src=\"https://s3-api.us-geo.objectstorage.softlayer.net/cf-courses-data/CognitiveClass/PY0101EN/Chapter%202/Images/ListsVal.gif\" width=\"1000\" />",
      "metadata": {
        "id": "469mxbeY6ORp"
      }
    },
    {
      "cell_type": "markdown",
      "source": "<h2 id=\"quiz\">Quiz on List</h2>",
      "metadata": {
        "id": "uLa0yHwr6ORu"
      }
    },
    {
      "cell_type": "markdown",
      "source": "Create a list <code>a_list</code>, with the following elements <code>1</code>, <code>hello</code>, <code>[1,2,3]</code> and <code>True</code>. ",
      "metadata": {
        "id": "e4L88mTA6ORv"
      }
    },
    {
      "cell_type": "code",
      "source": "# Write your code below and press Shift+Enter to execute\na_list = [1, 'hello', [1, 2, 3] , True]\na_list\n",
      "metadata": {
        "id": "HAN8rxnH6ORv",
        "trusted": true
      },
      "outputs": [
        {
          "execution_count": 6,
          "output_type": "execute_result",
          "data": {
            "text/plain": "[1, 'hello', [1, 2, 3], True]"
          },
          "metadata": {}
        }
      ],
      "execution_count": 6
    },
    {
      "cell_type": "markdown",
      "source": "Double-click <b>here</b> for the solution.\n\n<!-- Your answer is below:\na_list = [1, 'hello', [1, 2, 3] , True]\na_list\n-->",
      "metadata": {
        "id": "BBMxKPPd6ORx"
      }
    },
    {
      "cell_type": "markdown",
      "source": "Find the value stored at index 1 of <code>a_list</code>.",
      "metadata": {
        "id": "N-2_BadY6ORx"
      }
    },
    {
      "cell_type": "code",
      "source": "# Write your code below and press Shift+Enter to execute\n\na_list = [1, 'hello', [1, 2, 3] , True]\na_list[1]",
      "metadata": {
        "id": "tI_r_x-i6ORy",
        "trusted": true
      },
      "outputs": [
        {
          "execution_count": 7,
          "output_type": "execute_result",
          "data": {
            "text/plain": "'hello'"
          },
          "metadata": {}
        }
      ],
      "execution_count": 7
    },
    {
      "cell_type": "markdown",
      "source": "Double-click <b>here</b> for the solution.\n\n<!-- Your answer is below:\na_list[1]\n-->",
      "metadata": {
        "id": "05HLZKB06OR0"
      }
    },
    {
      "cell_type": "markdown",
      "source": "Retrieve the elements stored at index 1, 2 and 3 of <code>a_list</code>.",
      "metadata": {
        "id": "vQ5NA_5S6OR1"
      }
    },
    {
      "cell_type": "code",
      "source": "# Write your code below and press Shift+Enter to execute\n\na_list = [1, 'hello', [1, 2, 3] , True]\na_list[1:4]",
      "metadata": {
        "id": "ebEasRQV6OR1",
        "trusted": true
      },
      "outputs": [
        {
          "execution_count": 9,
          "output_type": "execute_result",
          "data": {
            "text/plain": "['hello', [1, 2, 3], True]"
          },
          "metadata": {}
        }
      ],
      "execution_count": 9
    },
    {
      "cell_type": "markdown",
      "source": "Double-click <b>here</b> for the solution.\n\n<!-- Your answer is below:\na_list[1:4]\n-->",
      "metadata": {
        "id": "w-xOUL0p6OR3"
      }
    },
    {
      "cell_type": "markdown",
      "source": "Concatenate the following lists <code>A = [1, 'a']</code> and <code>B = [2, 1, 'd']</code>:",
      "metadata": {
        "id": "njpuGgCg6OR4"
      }
    },
    {
      "cell_type": "code",
      "source": "# Write your code below and press Shift+Enter to execute\na_list = [1, 'hello', [1, 2, 3] , True]\nA = [1, 'a'] \nB = [2, 1, 'd']\nA + B",
      "metadata": {
        "id": "zCcOoqos6OR4",
        "trusted": true
      },
      "outputs": [
        {
          "execution_count": 10,
          "output_type": "execute_result",
          "data": {
            "text/plain": "[1, 'a', 2, 1, 'd']"
          },
          "metadata": {}
        }
      ],
      "execution_count": 10
    },
    {
      "cell_type": "markdown",
      "source": "Double-click <b>here</b> for the solution.\n\n<!-- Your answer is below:\nA = [1, 'a'] \nB = [2, 1, 'd']\nA + B\n-->",
      "metadata": {
        "id": "wr57v8g_6OR7"
      }
    },
    {
      "cell_type": "markdown",
      "source": "<hr>\n<h2>The last exercise!</h2>\n<p>Congratulations, you have completed your first lesson and hands-on lab in Python. However, there is one more thing you need to do. The Data Science community encourages sharing work. The best way to share and showcase your work is to share it on GitHub. By sharing your notebook on GitHub you are not only building your reputation with fellow data scientists, but you can also show it off when applying for a job. Even though this was your first piece of work, it is never too early to start building good habits. Please submit all your exercises to Github & let the traces in our LMS, so for me to access your work.\n<hr>",
      "metadata": {
        "id": "Q-aahkq86OR7"
      }
    },
    {
      "cell_type": "markdown",
      "source": "<hr>",
      "metadata": {
        "id": "SKMWv3W16OR9"
      }
    },
    {
      "cell_type": "markdown",
      "source": "<p>Copyright &copy; 2023 RYU HOKYOUNG based on 2018 IBM Developer Skills Network. This notebook and its source code are released under the terms of the <a href=\"https://cognitiveclass.ai/mit-license/\">MIT License</a>.</p>",
      "metadata": {
        "id": "2hsh8gk26OR9"
      }
    }
  ]
}