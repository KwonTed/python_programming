{
  "metadata": {
    "kernelspec": {
      "name": "python",
      "display_name": "Python (Pyodide)",
      "language": "python"
    },
    "language_info": {
      "codemirror_mode": {
        "name": "python",
        "version": 3
      },
      "file_extension": ".py",
      "mimetype": "text/x-python",
      "name": "python",
      "nbconvert_exporter": "python",
      "pygments_lexer": "ipython3",
      "version": "3.8"
    },
    "colab": {
      "provenance": []
    }
  },
  "nbformat_minor": 4,
  "nbformat": 4,
  "cells": [
    {
      "cell_type": "markdown",
      "source": "<h1>Conditions in Python</h1>",
      "metadata": {
        "id": "mlC9YPnZIoPG"
      }
    },
    {
      "cell_type": "markdown",
      "source": "<p><strong>Welcome!</strong> This notebook will teach you about the condition statements in the Python Programming Language. By the end of this lab, you'll know how to use the condition statements in Python, including operators, and branching.</p>",
      "metadata": {
        "id": "HGz4iyQ-IoPH"
      }
    },
    {
      "cell_type": "markdown",
      "source": "<h2 id=\"cond\">Condition Statements</h2>",
      "metadata": {
        "id": "kg_LinQvIoPI"
      }
    },
    {
      "cell_type": "markdown",
      "source": "<h3 id=\"comp\">Comparison Operators</h3>",
      "metadata": {
        "id": "90nVu7YbIoPJ"
      }
    },
    {
      "cell_type": "markdown",
      "source": "Comparison operations compare some value or operand and, based on a condition, they produce a Boolean. When comparing two values you can use these operators:\n\n<ul>\n    <li>equal: <b>==</b></li>\n    <li>not equal: <b>!=</b></li>\n    <li>greater than: <b>></b></li>\n    <li>less than: <b>&lt;</b></li>\n    <li>greater than or equal to: <b>>=</b></li>\n    <li>less than or equal to: <b>&lt;=</b></li>\n</ul>",
      "metadata": {
        "id": "Vdhl3cQqIoPK"
      }
    },
    {
      "cell_type": "markdown",
      "source": "Let's assign <code>a</code> a value of 5. Use the equality operator denoted with two equal <b>==</b> signs to determine if two values are equal. The case below compares the variable <code>a</code> with 6.",
      "metadata": {
        "id": "7b3dAOGqIoPK"
      }
    },
    {
      "cell_type": "code",
      "source": "# Condition Equal\n\na = 5\na == 6 #a 가 6이니? ",
      "metadata": {
        "id": "uuXKc1EfIoPL",
        "colab": {
          "base_uri": "https://localhost:8080/"
        },
        "outputId": "7992ab54-18c3-40ba-b84f-8563fa4fdbcc"
      },
      "outputs": [
        {
          "output_type": "execute_result",
          "data": {
            "text/plain": [
              "False"
            ]
          },
          "metadata": {},
          "execution_count": 17
        }
      ],
      "execution_count": 17
    },
    {
      "cell_type": "markdown",
      "source": "The result is <b>False</b>, as 5 does not equal to 6.",
      "metadata": {
        "id": "ZZNAFPFNIoPO"
      }
    },
    {
      "cell_type": "markdown",
      "source": "Consider the following equality comparison operator <code>i > 5</code>. If the value of the left operand, in this case the variable <b>i</b>, is greater than the value of the right operand, in this case 5, then the statement is <b>True</b>. Otherwise, the statement is <b>False</b>.  If <b>i</b> is equal to 6, because 6 is larger than 5, the output is <b>True</b>.",
      "metadata": {
        "id": "3fqYFkp6IoPP"
      }
    },
    {
      "cell_type": "code",
      "source": "# Greater than Sign\n\ni = 6\ni > 7",
      "metadata": {
        "id": "TtAj09goIoPP",
        "colab": {
          "base_uri": "https://localhost:8080/"
        },
        "outputId": "bd87f44f-46c4-485d-8cba-6dd6d41863f3"
      },
      "outputs": [
        {
          "output_type": "execute_result",
          "data": {
            "text/plain": [
              "False"
            ]
          },
          "metadata": {},
          "execution_count": 19
        }
      ],
      "execution_count": 19
    },
    {
      "cell_type": "markdown",
      "source": "Set <code>i = 2</code>. The statement is false as 2 is not greater than 5:",
      "metadata": {
        "id": "ZDvy8mesIoPS"
      }
    },
    {
      "cell_type": "code",
      "source": "# Greater than Sign\n\ni = 2\ni > 5",
      "metadata": {
        "id": "NpEf-Y2-IoPS",
        "colab": {
          "base_uri": "https://localhost:8080/"
        },
        "outputId": "156435d9-27f9-45a2-8324-2c653f03cd35"
      },
      "outputs": [
        {
          "output_type": "execute_result",
          "data": {
            "text/plain": [
              "False"
            ]
          },
          "metadata": {},
          "execution_count": 3
        }
      ],
      "execution_count": 3
    },
    {
      "cell_type": "markdown",
      "source": "The inequality test uses an exclamation mark preceding the equal sign, if two operands are not equal then the condition becomes **True**.  For example, the following condition will produce **True** as long as the value of <code>i</code> is not equal to 6:",
      "metadata": {
        "id": "n47h3IH-IoPW"
      }
    },
    {
      "cell_type": "code",
      "source": "# Inequality Sign\n\ni = 2\ni != 2 #!= not equal to... ",
      "metadata": {
        "id": "ovJjMKCRIoPW",
        "colab": {
          "base_uri": "https://localhost:8080/"
        },
        "outputId": "d10a911f-ae2e-4203-d441-6205c57937bb"
      },
      "outputs": [
        {
          "output_type": "execute_result",
          "data": {
            "text/plain": [
              "False"
            ]
          },
          "metadata": {},
          "execution_count": 21
        }
      ],
      "execution_count": 21
    },
    {
      "cell_type": "markdown",
      "source": "When <code>i</code> equals 6 the inequality expression produces <b>False</b>. ",
      "metadata": {
        "id": "3DNtATdQIoPZ"
      }
    },
    {
      "cell_type": "code",
      "source": "# Inequality Sign\n\ni = 6\ni != 6",
      "metadata": {
        "id": "-RY7Zu0uIoPa",
        "colab": {
          "base_uri": "https://localhost:8080/"
        },
        "outputId": "ca8c26f2-ee3e-406e-ab95-78cb28e10cf4"
      },
      "outputs": [
        {
          "output_type": "execute_result",
          "data": {
            "text/plain": [
              "False"
            ]
          },
          "metadata": {},
          "execution_count": 22
        }
      ],
      "execution_count": 22
    },
    {
      "cell_type": "markdown",
      "source": " We can apply the same methods on strings. For example, use an equality operator on two different strings. As the strings are not equal, we get a **False**.",
      "metadata": {
        "id": "5L7IjBFJIoPd"
      }
    },
    {
      "cell_type": "code",
      "source": "# Use Equality sign to compare the strings\n\n\"ACDC\" == \"Michael Jackson\"",
      "metadata": {
        "id": "GNZmEuBbIoPd",
        "colab": {
          "base_uri": "https://localhost:8080/"
        },
        "outputId": "f3dcdf07-c09f-494b-cd15-df13c5c851a6"
      },
      "outputs": [
        {
          "output_type": "execute_result",
          "data": {
            "text/plain": [
              "True"
            ]
          },
          "metadata": {},
          "execution_count": 24
        }
      ],
      "execution_count": 24
    },
    {
      "cell_type": "markdown",
      "source": " If we use the inequality operator, the output is going to be **True** as the strings are not equal.",
      "metadata": {
        "id": "u8w_VwwVIoPf"
      }
    },
    {
      "cell_type": "code",
      "source": "# Use Inequality sign to compare the strings\n\n\"ACDC\" != \"Michael Jackson\"",
      "metadata": {
        "id": "IcqKREUoIoPg",
        "colab": {
          "base_uri": "https://localhost:8080/"
        },
        "outputId": "54f88ae9-fa5a-4b33-bbaa-308f870c4619"
      },
      "outputs": [
        {
          "output_type": "execute_result",
          "data": {
            "text/plain": [
              "True"
            ]
          },
          "metadata": {},
          "execution_count": 25
        }
      ],
      "execution_count": 25
    },
    {
      "cell_type": "markdown",
      "source": "<h3 id=\"branch\">Branching</h3>",
      "metadata": {
        "id": "h1dR9SqEIoPp"
      }
    },
    {
      "cell_type": "markdown",
      "source": " Branching allows us to run different statements for different inputs. It is helpful to think of an **if statement** as a locked room, if the statement is **True** we can enter the room and your program will run some predefined tasks, but if the statement is **False** the program will ignore the task.\n",
      "metadata": {
        "id": "neEzbDDgIoPp"
      }
    },
    {
      "cell_type": "markdown",
      "source": "For example, consider the blue rectangle representing an ACDC concert. If the individual is older than 18, they can enter the ACDC concert. If they are 18 or younger than 18 they cannot enter the concert.\n\nUse the condition statements learned before as the conditions need to be checked in the **if statement**. The syntax is as simple as <code> if <i>condition statement</i> :</code>, which contains a word <code>if</code>, any condition statement, and a colon at the end. Start your tasks which need to be executed under this condition in a new line with an indent. The lines of code after the colon and with an indent will only be executed when the **if statement** is **True**. The tasks will end when the line of code does not contain the indent.\n\nIn the case below, the tasks executed <code>print(“you can enter”)</code> only occurs if the variable <code>age</code> is greater than 18 is a True case because this line of code has the indent. However, the execution of <code>print(“move on”)</code> will not be influenced by the if statement.",
      "metadata": {
        "id": "-zv72ejvIoPq"
      }
    },
    {
      "cell_type": "code",
      "source": "# If statement example\n\nage = 17\n\n#expression that can be true or false\nif age > 18:\n    #within an indent, we have the expression that is run if the condition is true\n  print(\"you can enter\" )\nelse:\n  print(\"Prohibited\")  \n  print(\"okay\")\n\n#The statements after the if statement will run regardless if the condition is true or false \n#print(\"move on\")",
      "metadata": {
        "id": "gaBCeNtnIoPq",
        "colab": {
          "base_uri": "https://localhost:8080/"
        },
        "outputId": "ea61afc0-5996-44e0-eb6c-790a138287d4"
      },
      "outputs": [
        {
          "output_type": "stream",
          "name": "stdout",
          "text": "Prohibited\n,okay\n"
        }
      ],
      "execution_count": 29
    },
    {
      "cell_type": "markdown",
      "source": "<i>Try uncommenting the age variable</i>",
      "metadata": {
        "id": "QkynTkwpIoPs"
      }
    },
    {
      "cell_type": "markdown",
      "source": "It is helpful to use the following diagram to illustrate the process. On the left side, we see what happens when the condition is <b>True</b>.  The person enters the ACDC concert representing the code in the indent being executed; they then move on. On the right side, we see what happens when the condition is <b>False</b>; the person is not granted access, and the person moves on. In this case, the segment of code in the indent does not run, but the rest of the statements are run. ",
      "metadata": {
        "id": "NAGlwGoHIoPt"
      }
    },
    {
      "cell_type": "markdown",
      "source": "<img src=\"https://s3-api.us-geo.objectstorage.softlayer.net/cf-courses-data/CognitiveClass/PY0101EN/Chapter%203/Images/CondsIf.gif\" width=\"650\" />",
      "metadata": {
        "id": "_6DZ7WYYIoPt"
      }
    },
    {
      "cell_type": "markdown",
      "source": "The <code>else</code> statement runs a block of code if none of the conditions are **True** before this <code>else</code> statement. Let's use the ACDC concert analogy again. If the user is 17 they cannot go to the ACDC concert,  but they can go to the Meatloaf concert.\nThe syntax of the <code>else</code> statement is similar as the syntax of the <code>if</code> statement, as <code>else :</code>. Notice that, there is no condition statement for <code>else</code>.\nTry changing the values of <code>age</code> to see what happens:  ",
      "metadata": {
        "id": "WraB9wQfIoPu"
      }
    },
    {
      "cell_type": "code",
      "source": "# Else statement example\n\nage = 18\n# age = 19\n\nif age > 18:\n  print(\"you can enter\" )\nelse:\n  print(\"go see Meat Loaf\" )\n    \nprint(\"move on\")",
      "metadata": {
        "id": "PHEjYU-7IoPu",
        "colab": {
          "base_uri": "https://localhost:8080/"
        },
        "outputId": "5e6fc1ad-8e75-4974-e2e7-118c20cf876d"
      },
      "outputs": [
        {
          "output_type": "stream",
          "name": "stdout",
          "text": "go see Meat Loaf\n,move on\n"
        }
      ],
      "execution_count": 31
    },
    {
      "cell_type": "markdown",
      "source": "The process is demonstrated below, where each of the possibilities is illustrated on each side of the image. On the left is the case where the age is 17, we set the variable age to 17, and this corresponds to the individual attending the Meatloaf concert. The right portion shows what happens when the individual is over 18, in this case 19, and the individual is granted access to the concert.",
      "metadata": {
        "id": "KE-SjhalIoPy"
      }
    },
    {
      "cell_type": "markdown",
      "source": "<img src=\"https://s3-api.us-geo.objectstorage.softlayer.net/cf-courses-data/CognitiveClass/PY0101EN/Chapter%203/Images/CondsElse.gif\" width=\"650\" />",
      "metadata": {
        "id": "0ZNyOAHtIoPz"
      }
    },
    {
      "cell_type": "markdown",
      "source": "The <code>elif</code> statement, short for else if, allows us to check additional conditions if the condition statements before it are <b>False</b>. If the condition for the <code>elif</code> statement is <b>True</b>, the alternate expressions will be run. Consider the concert example, where if the individual is 18 they will go to the Pink Floyd concert instead of attending the ACDC or Meat-loaf concert. The person of 18 years of age enters the area, and as they are not older than 18 they can not see ACDC, but as they are 18 years of age, they attend  Pink Floyd. After seeing Pink Floyd, they move on. The syntax of the <code>elif</code> statement is similar in that we merely change the <code>if</code> in <code>if</code> statement to <code>elif</code>.",
      "metadata": {
        "id": "lpbaOVF7IoP0"
      }
    },
    {
      "cell_type": "code",
      "source": "# Elif statment example\n\nage = 17\n\nif age > 18:\n    print(\"you can enter\" )\nelif age == 18: #else if \n    print(\"go see Pink Floyd\")\nelif age == 0:\n    print(\"this kid cannot leave home\") \nelse:\n    print(\"go see Meat Loaf\" )\n    \n#print(\"move on\")",
      "metadata": {
        "id": "GX1L_xvJIoP0",
        "colab": {
          "base_uri": "https://localhost:8080/"
        },
        "outputId": "6823873f-ff77-4d23-9a83-d7be684356a8"
      },
      "outputs": [
        {
          "output_type": "stream",
          "name": "stdout",
          "text": "go see Meat Loaf\n"
        }
      ],
      "execution_count": 34
    },
    {
      "cell_type": "markdown",
      "source": "The three combinations are shown in the figure below.  The left-most region shows what happens when the individual is less than 18 years of age. The central component shows when the individual is exactly 18. The rightmost shows when the individual is over 18.",
      "metadata": {
        "id": "PynP2kn6IoP2"
      }
    },
    {
      "cell_type": "markdown",
      "source": "<img src =\"https://s3-api.us-geo.objectstorage.softlayer.net/cf-courses-data/CognitiveClass/PY0101EN/Chapter%203/Images/CondsElif.gif\" width=\"650\" />",
      "metadata": {
        "id": "HtR5S194IoP3"
      }
    },
    {
      "cell_type": "markdown",
      "source": " Look at the following code:\n",
      "metadata": {
        "id": "1Nq4-TJrIoP3"
      }
    },
    {
      "cell_type": "code",
      "source": "# Condition statement example\n\nalbum_year = 1983\n\nif album_year > 1980:\n    print(\"Album year is greater than 1980\")\n    \n#print('do something..')",
      "metadata": {
        "id": "JEuKxd_lIoP3",
        "colab": {
          "base_uri": "https://localhost:8080/"
        },
        "outputId": "f0516fb7-93ba-4e3f-c7b0-ded06a5b114f"
      },
      "outputs": [
        {
          "output_type": "stream",
          "name": "stdout",
          "text": "Album year is greater than 1980\n"
        }
      ],
      "execution_count": 36
    },
    {
      "cell_type": "markdown",
      "source": "Feel free to change <code>album_year</code> value to other values -- you'll see that the result changes!",
      "metadata": {
        "id": "DxMkvtEUIoP5"
      }
    },
    {
      "cell_type": "markdown",
      "source": "Notice that the code in the above <b>indented</b> block will only be executed if the results are <b>True</b>. ",
      "metadata": {
        "id": "FShiGAhPIoP6"
      }
    },
    {
      "cell_type": "markdown",
      "source": "As before, we can add an <code>else</code> block to the <code>if</code> block. The code in the <code>else</code> block will only be executed if the result is <b>False</b>.\n\n\n<b>Syntax:</b> \n\nif (condition):\n    # do something\nelse:\n    # do something else",
      "metadata": {
        "id": "HprkmqzHIoP6"
      }
    },
    {
      "cell_type": "markdown",
      "source": "If the condition in the <code>if</code> statement is <b>False</b>, the statement after the <code>else</code> block will execute. This is demonstrated in the figure: ",
      "metadata": {
        "id": "F9DtUV5-IoP6"
      }
    },
    {
      "cell_type": "markdown",
      "source": "<img src=\"https://s3-api.us-geo.objectstorage.softlayer.net/cf-courses-data/CognitiveClass/PY0101EN/Chapter%203/Images/CondsLogicMap.png\" width=\"650\" />",
      "metadata": {
        "id": "U0xA7PWHIoP7"
      }
    },
    {
      "cell_type": "code",
      "source": "# Condition statement example\n\nalbum_year = 1983\n#album_year = 1970\n\nif album_year > 1980:\n    print(\"Album year is greater than 1980\")\nelse:\n    print(\"less than 1980\")\n\nprint('do something..')",
      "metadata": {
        "id": "PlSWHoG8IoP7",
        "colab": {
          "base_uri": "https://localhost:8080/"
        },
        "outputId": "8e06df4b-10e1-44af-b5d4-caba22afc5da"
      },
      "outputs": [
        {
          "output_type": "stream",
          "name": "stdout",
          "text": "Album year is greater than 1980\n,do something..\n"
        }
      ],
      "execution_count": 13
    },
    {
      "cell_type": "markdown",
      "source": "Feel free to change the <code>album_year</code> value to other values -- you'll see that the result changes based on it!",
      "metadata": {
        "id": "pKh_PSz6IoP9"
      }
    },
    {
      "cell_type": "markdown",
      "source": "<h3 id=\"logic\">Logical operators</h3>",
      "metadata": {
        "id": "RCcARcwWIoP-"
      }
    },
    {
      "cell_type": "markdown",
      "source": "\nSometimes you want to check more than one condition at once. For example, you might want to check if one condition and another condition is **True**. Logical operators allow you to combine or modify conditions.\n<ul>\n    <li><code>and</code></li>\n    <li><code>or</code></li>\n    <li><code>not</code></li>\n</ul>\n\nThese operators are summarized for two variables using the following truth tables:  ",
      "metadata": {
        "id": "znQ8jLBdIoP-"
      }
    },
    {
      "cell_type": "markdown",
      "source": "<img src=\"https://s3-api.us-geo.objectstorage.softlayer.net/cf-courses-data/CognitiveClass/PY0101EN/Chapter%203/Images/CondsTable.png\" width=\"650\" />",
      "metadata": {
        "id": "rq0NakFsIoP-"
      }
    },
    {
      "cell_type": "markdown",
      "source": "The <code>and</code> statement is only **True** when both conditions are true. The <code>or</code> statement is true if one condition is **True**. The <code>not</code> statement outputs the opposite truth value.",
      "metadata": {
        "id": "_7F9Yt4nIoP_"
      }
    },
    {
      "cell_type": "markdown",
      "source": "Let's see how to determine if an album was released after 1979 (1979 is not included) and before 1990 (1990 is not included). The time periods between 1980 and 1989 satisfy this condition. This is demonstrated in the figure below. The green on lines <strong>a</strong> and <strong>b</strong> represents periods where the statement is **True**. The green on line <strong>c</strong> represents where both conditions are **True**, this corresponds to where the green regions overlap. \n\n",
      "metadata": {
        "id": "C-WRA30_IoP_"
      }
    },
    {
      "cell_type": "markdown",
      "source": "<img src=\"https://s3-api.us-geo.objectstorage.softlayer.net/cf-courses-data/CognitiveClass/PY0101EN/Chapter%203/Images/CondsEgOne.png\" width=\"650\" />",
      "metadata": {
        "id": "UcTkI5OcIoQA"
      }
    },
    {
      "cell_type": "markdown",
      "source": " The block of code to perform this check is given by:",
      "metadata": {
        "id": "ptVFiZ7pIoQB"
      }
    },
    {
      "cell_type": "code",
      "source": "# Condition statement example\n\nalbum_year = 1991\n\nif(album_year > 1979) and (album_year < 1990):\n    print (\"Album year was in between 1980 and 1989\")   \nelse:\n    print(\"this is not the case\")",
      "metadata": {
        "id": "DxdbvEEwIoQC",
        "colab": {
          "base_uri": "https://localhost:8080/"
        },
        "outputId": "13a2d191-f7d6-4a36-ddc5-8316c159d34b"
      },
      "outputs": [
        {
          "output_type": "stream",
          "name": "stdout",
          "text": "this is not the case\n"
        }
      ],
      "execution_count": 39
    },
    {
      "cell_type": "markdown",
      "source": "To determine if an album was released before 1980 (~ - 1979) or after 1989 (1990 - ~), an **or** statement can be used. Periods before 1980 (~ - 1979) or after 1989 (1990 - ~) satisfy this condition. This is demonstrated in the following figure, the color green in <strong>a</strong> and <strong>b</strong> represents periods where the statement is true. The color green in **c** represents where at least one of the conditions \nare true.  \n",
      "metadata": {
        "id": "dsdLz0zBIoQE"
      }
    },
    {
      "cell_type": "markdown",
      "source": "<img src=\"https://s3-api.us-geo.objectstorage.softlayer.net/cf-courses-data/CognitiveClass/PY0101EN/Chapter%203/Images/CondsEgTwo.png\" width=\"650\" />",
      "metadata": {
        "id": "oQHDf35NIoQF"
      }
    },
    {
      "cell_type": "markdown",
      "source": "The block of code to perform this check is given by:",
      "metadata": {
        "id": "uv16VvYUIoQF"
      }
    },
    {
      "cell_type": "code",
      "source": "# Condition statement example\n\nalbum_year = 1980\n\nif(album_year < 1980) or (album_year > 1989):\n    print (\"Album was not made in the 1980's\")\nelse:\n    print(\"The Album was made in the 1980's \")",
      "metadata": {
        "id": "WX2I0sk6IoQF",
        "colab": {
          "base_uri": "https://localhost:8080/"
        },
        "outputId": "372e399c-4804-429a-f82c-a38acb7aca5f"
      },
      "outputs": [
        {
          "output_type": "stream",
          "name": "stdout",
          "text": "The Album was made in the 1980's \n"
        }
      ],
      "execution_count": 41
    },
    {
      "cell_type": "markdown",
      "source": "The <code>not</code> statement checks if the statement is false:",
      "metadata": {
        "id": "dCrukLvGIoQH"
      }
    },
    {
      "cell_type": "code",
      "source": "# Condition statement example\n\nalbum_year = 1983\n\nif not (album_year == '1984'):\n    print (\"Album year is not 1984\")",
      "metadata": {
        "id": "156Qj93IIoQI",
        "colab": {
          "base_uri": "https://localhost:8080/"
        },
        "outputId": "e65710a8-78fa-4877-8159-b42e081267a6"
      },
      "outputs": [
        {
          "output_type": "stream",
          "name": "stdout",
          "text": "Album year is not 1984\n"
        }
      ],
      "execution_count": 42
    },
    {
      "cell_type": "markdown",
      "source": "<hr>",
      "metadata": {
        "id": "gGxL-OyzIoQJ"
      }
    },
    {
      "cell_type": "markdown",
      "source": "<h2 id=\"quiz\">Quiz on Conditions</h2>",
      "metadata": {
        "id": "3IC26T7bIoQK"
      }
    },
    {
      "cell_type": "markdown",
      "source": "Write an if statement to determine if an album had a rating greater than 8. Test it using the rating for the album <b>“Back in Black”</b> that had a rating of 8.5. If the statement is true print \"This album is Amazing!\"",
      "metadata": {
        "id": "mt0VcGaoIoQK"
      }
    },
    {
      "cell_type": "code",
      "source": "# Write your code below and press Shift+Enter to execute",
      "metadata": {
        "id": "uM3HRp4iIoQK",
        "outputId": "e8c776bd-00ae-4fe7-ab48-aacfaaa1b6c3"
      },
      "outputs": [
        {
          "output_type": "stream",
          "name": "stdout",
          "text": "This album is Amazing!\n"
        }
      ],
      "execution_count": null
    },
    {
      "cell_type": "markdown",
      "source": "Double-click __here__ for the solution.\nrating = 8.5\nif rating > 8: print(\"This album is Amazing!\")\n\n<!-- \nrating = 8.5\nif rating > 8:\n    print (\"This album is Amazing!\")\n -->",
      "metadata": {
        "id": "2qou3rDyIoQN"
      }
    },
    {
      "cell_type": "markdown",
      "source": "<hr>",
      "metadata": {
        "id": "ZNLbLpM8IoQO"
      }
    },
    {
      "cell_type": "markdown",
      "source": "Write an if-else statement that performs the following. If the rating is larger then eight print “this album is amazing”. If the rating is less than or equal to 8 print “this album is ok”.",
      "metadata": {
        "id": "PtR5F1i3IoQO"
      }
    },
    {
      "cell_type": "code",
      "source": "# Write your code below and press Shift+Enter to execute",
      "metadata": {
        "id": "s4NbZlNLIoQO",
        "outputId": "798bff22-e744-4d63-d211-9c849c529e78"
      },
      "outputs": [
        {
          "output_type": "stream",
          "name": "stdout",
          "text": "this album is ok\n"
        }
      ],
      "execution_count": null
    },
    {
      "cell_type": "markdown",
      "source": "Double-click __here__ for the solution.\n\nrating = 8.5\nif rating > 8: print(\"This album is Amazing!\")\nelse:\n<!-- \nrating = 8.5\nif rating > 8:\n    print (\"this album is amazing\")\nelse:\n    print (\"this album is ok\")\n-->",
      "metadata": {
        "id": "eIO85U1HIoQR"
      }
    },
    {
      "cell_type": "markdown",
      "source": "<hr>",
      "metadata": {
        "id": "Ickq5nDuIoQR"
      }
    },
    {
      "cell_type": "markdown",
      "source": "Write an if statement to determine if an album came out before 1980 or in the years: 1991 or 1993. If the condition is true print out the year the album came out.",
      "metadata": {
        "id": "xlvACVa3IoQS"
      }
    },
    {
      "cell_type": "code",
      "source": "# Write your code below and press Shift+Enter to execute",
      "metadata": {
        "id": "w0ys9FArIoQS",
        "outputId": "57c1b839-069f-497a-b05a-d89b4715f6f1"
      },
      "outputs": [
        {
          "output_type": "stream",
          "name": "stdout",
          "text": "this album came out already\n"
        }
      ],
      "execution_count": null
    },
    {
      "cell_type": "markdown",
      "source": "Double-click __here__ for the solution.\n\n<!-- \nalbum_year = 1979\n\nif album_year < 1980 or album_year == 1991 or album_year == 1993:\n    print (\"this album came out already\")\n-->",
      "metadata": {
        "id": "W9xtMYLcIoQU"
      }
    },
    {
      "cell_type": "markdown",
      "source": "<hr>\n<h2>The last exercise!</h2>\n<p>Congratulations, you have completed your first lesson and hands-on lab in Python. However, there is one more thing you need to do. The Data Science community encourages sharing work. The best way to share and showcase your work is to share it on GitHub. By sharing your notebook on GitHub you are not only building your reputation with fellow data scientists, but you can also show it off when applying for a job. Even though this was your first piece of work, it is never too early to start building good habits. Please submit all your exercises to Github & let the traces in our LMS, so for me to access your work.\n<hr>",
      "metadata": {
        "id": "3qbaPIlLIoQU"
      }
    },
    {
      "cell_type": "markdown",
      "source": "<hr>",
      "metadata": {
        "id": "xWlHxzXyIoQW"
      }
    },
    {
      "cell_type": "markdown",
      "source": "<p>Copyright &copy; 2023 RYU HOKYOUNG based on 2018 IBM Developer Skills Network. This notebook and its source code are released under the terms of the <a href=\"https://cognitiveclass.ai/mit-license/\">MIT License</a>.</p>",
      "metadata": {
        "id": "uR6ZtMlKIoQW"
      }
    }
  ]
}