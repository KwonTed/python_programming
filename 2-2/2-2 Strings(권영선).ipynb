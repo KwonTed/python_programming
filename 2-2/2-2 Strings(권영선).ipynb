{
  "metadata": {
    "kernelspec": {
      "name": "python",
      "display_name": "Python (Pyodide)",
      "language": "python"
    },
    "language_info": {
      "codemirror_mode": {
        "name": "python",
        "version": 3
      },
      "file_extension": ".py",
      "mimetype": "text/x-python",
      "name": "python",
      "nbconvert_exporter": "python",
      "pygments_lexer": "ipython3",
      "version": "3.8"
    },
    "colab": {
      "provenance": []
    }
  },
  "nbformat_minor": 4,
  "nbformat": 4,
  "cells": [
    {
      "cell_type": "markdown",
      "source": "<h1>String Operations</h1>",
      "metadata": {
        "id": "aJtdELew_Lo0"
      }
    },
    {
      "cell_type": "markdown",
      "source": "<p><strong>Welcome!</strong> This notebook will teach you about the string operations in the Python Programming Language. By the end of this notebook, you'll know the basics string operations in Python, including indexing, escape sequences and operations.</p> ",
      "metadata": {
        "id": "FeUvekd1_Lo0"
      }
    },
    {
      "cell_type": "markdown",
      "source": "<h2 id=\"strings\">What are Strings?</h2>",
      "metadata": {
        "id": "71qUvVXh_Lo1"
      }
    },
    {
      "cell_type": "markdown",
      "source": "The following example shows a string contained within 2 quotation marks:",
      "metadata": {
        "id": "dJGxpTzN_Lo1"
      }
    },
    {
      "cell_type": "code",
      "source": "# Use quotation marks for defining string\n\n\"Michael Jackson\" #\"\" ''",
      "metadata": {
        "id": "KMSSn6QP_Lo1",
        "colab": {
          "base_uri": "https://localhost:8080/",
          "height": 35
        },
        "outputId": "0a42a34a-7002-4c6d-ad73-3d75ba9dc54c"
      },
      "outputs": [
        {
          "output_type": "execute_result",
          "data": {
            "text/plain": [
              "'Michael Jackson'"
            ],
            "application/vnd.google.colaboratory.intrinsic+json": {
              "type": "string"
            }
          },
          "metadata": {},
          "execution_count": 1
        }
      ],
      "execution_count": 1
    },
    {
      "cell_type": "markdown",
      "source": "We can also use single quotation marks:",
      "metadata": {
        "id": "P7n-0-ht_Lo2"
      }
    },
    {
      "cell_type": "code",
      "source": "# Use single quotation marks for defining string\n\n'Michael Jackson'",
      "metadata": {
        "id": "OSKcp8rg_Lo2",
        "colab": {
          "base_uri": "https://localhost:8080/",
          "height": 35
        },
        "outputId": "414ec281-e8c8-4a4c-c8dc-ba46c0026756"
      },
      "outputs": [
        {
          "output_type": "execute_result",
          "data": {
            "text/plain": [
              "'Michael Jackson'"
            ],
            "application/vnd.google.colaboratory.intrinsic+json": {
              "type": "string"
            }
          },
          "metadata": {},
          "execution_count": 2
        }
      ],
      "execution_count": 2
    },
    {
      "cell_type": "markdown",
      "source": "A string can be a combination of spaces and digits: ",
      "metadata": {
        "id": "T7e21Khv_Lo2"
      }
    },
    {
      "cell_type": "code",
      "source": "# Digitals and spaces in string\n\n'1 2 3 4 5 6 '",
      "metadata": {
        "id": "vY2c7pAq_Lo2",
        "colab": {
          "base_uri": "https://localhost:8080/",
          "height": 35
        },
        "outputId": "eb893e14-6fb5-4a8f-bccd-197971e1f27f"
      },
      "outputs": [
        {
          "output_type": "execute_result",
          "data": {
            "text/plain": [
              "'1 2 3 4 5 6 '"
            ],
            "application/vnd.google.colaboratory.intrinsic+json": {
              "type": "string"
            }
          },
          "metadata": {},
          "execution_count": 3
        }
      ],
      "execution_count": 3
    },
    {
      "cell_type": "code",
      "source": "'123456'",
      "metadata": {
        "colab": {
          "base_uri": "https://localhost:8080/",
          "height": 35
        },
        "id": "tHoYastyozzl",
        "outputId": "73b94a26-3453-4076-d6db-0ce4e429b41b"
      },
      "outputs": [
        {
          "output_type": "execute_result",
          "data": {
            "text/plain": [
              "'123456'"
            ],
            "application/vnd.google.colaboratory.intrinsic+json": {
              "type": "string"
            }
          },
          "metadata": {},
          "execution_count": 4
        }
      ],
      "execution_count": 4
    },
    {
      "cell_type": "markdown",
      "source": "A string can also be a combination of special characters : ",
      "metadata": {
        "id": "6i5iOrEh_Lo2"
      }
    },
    {
      "cell_type": "code",
      "source": "# Special characters in string\n\n'@#2_#]&*^%$' ",
      "metadata": {
        "id": "6LwujpRS_Lo2"
      },
      "outputs": [],
      "execution_count": null
    },
    {
      "cell_type": "markdown",
      "source": "We can print our string using the print statement:",
      "metadata": {
        "id": "TCrOipej_Lo3"
      }
    },
    {
      "cell_type": "code",
      "source": "# Print the string\n\nprint(\"hello!\")",
      "metadata": {
        "id": "yC3ll8ye_Lo3",
        "colab": {
          "base_uri": "https://localhost:8080/"
        },
        "outputId": "e6ba6a3b-b3fe-4e3c-b777-c951b6ebab13"
      },
      "outputs": [
        {
          "output_type": "stream",
          "name": "stdout",
          "text": "hello!\n"
        }
      ],
      "execution_count": 5
    },
    {
      "cell_type": "markdown",
      "source": "We can bind or assign a string to another variable:\n",
      "metadata": {
        "id": "9xWhYCW5_Lo3"
      }
    },
    {
      "cell_type": "code",
      "source": "# Assign string to variable\n\nName = \"Michael Jackson\"\nName",
      "metadata": {
        "id": "fI54RY3z_Lo3",
        "colab": {
          "base_uri": "https://localhost:8080/",
          "height": 35
        },
        "outputId": "6fc4dd96-7dfb-49ea-feab-344d0e91a7b0"
      },
      "outputs": [
        {
          "output_type": "execute_result",
          "data": {
            "text/plain": [
              "'Michael Jackson'"
            ],
            "application/vnd.google.colaboratory.intrinsic+json": {
              "type": "string"
            }
          },
          "metadata": {},
          "execution_count": 6
        }
      ],
      "execution_count": 6
    },
    {
      "cell_type": "code",
      "source": "# bind two strings to one variable \n\nAge = \" 35\" #문자열 \"\"\n\nName + Age",
      "metadata": {
        "id": "LXb91fsb_hDa",
        "colab": {
          "base_uri": "https://localhost:8080/",
          "height": 35
        },
        "outputId": "71b4d3ef-19d5-4478-bb99-5c4750dcdd14"
      },
      "outputs": [
        {
          "output_type": "execute_result",
          "data": {
            "text/plain": [
              "'Michael Jackson 35'"
            ],
            "application/vnd.google.colaboratory.intrinsic+json": {
              "type": "string"
            }
          },
          "metadata": {},
          "execution_count": 8
        }
      ],
      "execution_count": 8
    },
    {
      "cell_type": "markdown",
      "source": "<hr>",
      "metadata": {
        "id": "uaHK6wsj_Lo3"
      }
    },
    {
      "cell_type": "markdown",
      "source": "<h2 id=\"index\">Indexing (너무 너무 많이 사용됨) </h2>",
      "metadata": {
        "id": "EnN-6Ioq_Lo3"
      }
    },
    {
      "cell_type": "markdown",
      "source": "It is helpful to think of a string as an ordered sequence. Each element in the sequence can be accessed using an index represented by the array of numbers:  ",
      "metadata": {
        "id": "9ZOp95qM_Lo3"
      }
    },
    {
      "cell_type": "markdown",
      "source": "<img src=\"https://s3-api.us-geo.objectstorage.softlayer.net/cf-courses-data/CognitiveClass/PY0101EN/Chapter%201/Images/StringsIndex.png\" width=\"600\" align=\"center\" />",
      "metadata": {
        "id": "ypeaj_na_Lo3"
      }
    },
    {
      "cell_type": "markdown",
      "source": " The first index can be accessed as follows:",
      "metadata": {
        "id": "vf2lXJ3m_Lo4"
      }
    },
    {
      "cell_type": "markdown",
      "source": "<hr/>\n<div class=\"alert alert-success alertsuccess\" style=\"margin-top: 20px\">\n[Tip]: Because indexing starts at 0, it means the first index is on the index 0.\n</div>\n<hr/>",
      "metadata": {
        "id": "hNj6Osht_Lo4"
      }
    },
    {
      "cell_type": "code",
      "source": "# Print the first element in the string\n\nprint(Name[1])",
      "metadata": {
        "id": "n9rfKMSr_Lo4",
        "colab": {
          "base_uri": "https://localhost:8080/"
        },
        "outputId": "d1df8bb8-c55b-4023-fc28-dba325a194fc"
      },
      "outputs": [
        {
          "output_type": "stream",
          "name": "stdout",
          "text": "i\n"
        }
      ],
      "execution_count": 14
    },
    {
      "cell_type": "markdown",
      "source": " We can access index 6:",
      "metadata": {
        "id": "3gK8EuJK_Lo4"
      }
    },
    {
      "cell_type": "code",
      "source": "# Print the element on index 6 in the string\n\nprint(Name[6])",
      "metadata": {
        "id": "bbB7vwCu_Lo4"
      },
      "outputs": [],
      "execution_count": null
    },
    {
      "cell_type": "markdown",
      "source": "Moreover, we can access the 13th index:",
      "metadata": {
        "id": "VosBpNqU_Lo4"
      }
    },
    {
      "cell_type": "code",
      "source": "# Print the element on the 13th index in the string\n\nprint(Name[13])",
      "metadata": {
        "id": "lvbMeEIm_Lo4"
      },
      "outputs": [],
      "execution_count": null
    },
    {
      "cell_type": "markdown",
      "source": "<h3 id=\"neg\">Negative Indexing</h3>",
      "metadata": {
        "id": "1ir1yIGR_Lo4"
      }
    },
    {
      "cell_type": "markdown",
      "source": " We can also use negative indexing with strings:",
      "metadata": {
        "id": "imtW3sjo_Lo4"
      }
    },
    {
      "cell_type": "markdown",
      "source": "<img src=\"https://s3-api.us-geo.objectstorage.softlayer.net/cf-courses-data/CognitiveClass/PY0101EN/Chapter%201/Images/StringsNeg.png\" width=\"600\" align=\"center\" />",
      "metadata": {
        "id": "5MlqwwqA_Lo4"
      }
    },
    {
      "cell_type": "markdown",
      "source": "Negative index can help us to count the element from the end of the string.",
      "metadata": {
        "id": "0izGKzad_Lo4"
      }
    },
    {
      "cell_type": "markdown",
      "source": "The last element is given by the index -1: ",
      "metadata": {
        "id": "RIrX8L9p_Lo5"
      }
    },
    {
      "cell_type": "code",
      "source": "# Print the last element in the string\n\nprint(Name[-15])\nprint(Name[0]) #인덱스에 사용하는 괄호는 대괄호 []",
      "metadata": {
        "id": "vNwA0F5N_Lo5",
        "colab": {
          "base_uri": "https://localhost:8080/"
        },
        "outputId": "c2e9b92a-7877-4bb9-a123-85b2ac59064a"
      },
      "outputs": [
        {
          "output_type": "stream",
          "name": "stdout",
          "text": "M\n"
        }
      ],
      "execution_count": 16
    },
    {
      "cell_type": "markdown",
      "source": " The first element can be obtained by  index -15:",
      "metadata": {
        "id": "TtSb4fkC_Lo5"
      }
    },
    {
      "cell_type": "code",
      "source": "# Print the first element in the string\n\nprint(Name[-15])",
      "metadata": {
        "id": "X2Xk06ie_Lo5"
      },
      "outputs": [],
      "execution_count": null
    },
    {
      "cell_type": "markdown",
      "source": "We can find the number of characters in a string by using <code>len</code>, short for length:",
      "metadata": {
        "id": "kR-q-IDV_Lo5"
      }
    },
    {
      "cell_type": "code",
      "source": "# Find the length of string\n# 이 함수 length도 자주 사용함 \n\nlen(\"Michael Jackson\")",
      "metadata": {
        "id": "2UhXteHR_Lo5",
        "colab": {
          "base_uri": "https://localhost:8080/"
        },
        "outputId": "c5e511be-0808-4605-b46d-61e7015afafc"
      },
      "outputs": [
        {
          "output_type": "execute_result",
          "data": {
            "text/plain": [
              "15"
            ]
          },
          "metadata": {},
          "execution_count": 19
        }
      ],
      "execution_count": 19
    },
    {
      "cell_type": "markdown",
      "source": "<h3 id=\"slice\">Slicing</h3>",
      "metadata": {
        "id": "Yjl2GMc1_Lo5"
      }
    },
    {
      "cell_type": "markdown",
      "source": "We can obtain multiple characters from a string using slicing, we can obtain the 0 to 4th and 8th to the 12th element:  ",
      "metadata": {
        "id": "Mia9gSUd_Lo5"
      }
    },
    {
      "cell_type": "markdown",
      "source": "<img src=\"https://s3-api.us-geo.objectstorage.softlayer.net/cf-courses-data/CognitiveClass/PY0101EN/Chapter%201/Images/StringsSlice.png\" width=\"600\" align=\"center\" />",
      "metadata": {
        "id": "lH8FkM_Z_Lo5"
      }
    },
    {
      "cell_type": "markdown",
      "source": "<hr/>\n<div class=\"alert alert-success alertsuccess\" style=\"margin-top: 20px\">\n[Tip]: When taking the slice, the first number means the index (start at 0), and the second number means the index just before the next index (e.g., the index of \"k\" equals to 11, and the next index is 12, so Name[8:12] = \"Jack\") \n</div>\n<hr/>",
      "metadata": {
        "id": "cbFB_PT3_Lo5"
      }
    },
    {
      "cell_type": "code",
      "source": "# Take the slice on variable Name with only index 0 to index 3\n# 자주 사용함..\n\nName[0:4]",
      "metadata": {
        "id": "qpfbWZsb_Lo6",
        "colab": {
          "base_uri": "https://localhost:8080/",
          "height": 35
        },
        "outputId": "b7303a4d-65e9-4c17-8ad9-b0be14efe269"
      },
      "outputs": [
        {
          "output_type": "execute_result",
          "data": {
            "text/plain": [
              "'Mich'"
            ],
            "application/vnd.google.colaboratory.intrinsic+json": {
              "type": "string"
            }
          },
          "metadata": {},
          "execution_count": 20
        }
      ],
      "execution_count": 20
    },
    {
      "cell_type": "code",
      "source": "# Take the slice on variable Name with only index 8 to index 11\n\nName[9:12]",
      "metadata": {
        "id": "7wEE8woC_Lo6",
        "colab": {
          "base_uri": "https://localhost:8080/",
          "height": 35
        },
        "outputId": "25d4cf29-f074-410b-ba65-997d05c00bfc"
      },
      "outputs": [
        {
          "output_type": "execute_result",
          "data": {
            "text/plain": [
              "'ack'"
            ],
            "application/vnd.google.colaboratory.intrinsic+json": {
              "type": "string"
            }
          },
          "metadata": {},
          "execution_count": 23
        }
      ],
      "execution_count": 23
    },
    {
      "cell_type": "markdown",
      "source": "<h3 id=\"stride\">Stride</h3>",
      "metadata": {
        "id": "0_v2beI5_Lo6"
      }
    },
    {
      "cell_type": "markdown",
      "source": " We can also  input a stride value as follows, with the '2' indicating that we are selecting every second variable:",
      "metadata": {
        "id": "El2dTwQM_Lo6"
      }
    },
    {
      "cell_type": "markdown",
      "source": "<img src=\"https://s3-api.us-geo.objectstorage.softlayer.net/cf-courses-data/CognitiveClass/PY0101EN/Chapter%201/Images/StringsStride.png\" width=\"600\" align=\"center\" />",
      "metadata": {
        "id": "3lHF89n2_Lo6"
      }
    },
    {
      "cell_type": "code",
      "source": "# Get every second element. The elments on index 1, 3, 5 ...\n\nName[::2]",
      "metadata": {
        "id": "HiUfzZWW_Lo6",
        "colab": {
          "base_uri": "https://localhost:8080/",
          "height": 35
        },
        "outputId": "af93446a-270f-496f-f33e-136972ac1cd6"
      },
      "outputs": [
        {
          "output_type": "execute_result",
          "data": {
            "text/plain": [
              "'McalJcsn'"
            ],
            "application/vnd.google.colaboratory.intrinsic+json": {
              "type": "string"
            }
          },
          "metadata": {},
          "execution_count": 26
        }
      ],
      "execution_count": 26
    },
    {
      "cell_type": "markdown",
      "source": "We can also incorporate slicing  with the stride. In this case, we select the first five elements and then use the stride: ",
      "metadata": {
        "id": "F6lN600a_Lo6"
      }
    },
    {
      "cell_type": "code",
      "source": "# Get every second element in the range from index 0 to index 4\n\nName[0:7:2]",
      "metadata": {
        "id": "BE9ENTxh_Lo6",
        "colab": {
          "base_uri": "https://localhost:8080/",
          "height": 35
        },
        "outputId": "4e311fa9-3383-4b09-f8cb-0f9346df2cd3"
      },
      "outputs": [
        {
          "output_type": "execute_result",
          "data": {
            "text/plain": [
              "'Mcal'"
            ],
            "application/vnd.google.colaboratory.intrinsic+json": {
              "type": "string"
            }
          },
          "metadata": {},
          "execution_count": 29
        }
      ],
      "execution_count": 29
    },
    {
      "cell_type": "markdown",
      "source": "<h3 id=\"concat\">Concatenate Strings</h3>",
      "metadata": {
        "id": "DJ1-ViKj_Lo6"
      }
    },
    {
      "cell_type": "markdown",
      "source": "We can concatenate or combine strings by using the addition symbols, and the result is a new string that is a combination of both:\n",
      "metadata": {
        "id": "jezR5M2x_Lo7"
      }
    },
    {
      "cell_type": "code",
      "source": "# Concatenate two strings\n\nStatement = Name + \" is the best\"\nStatement",
      "metadata": {
        "id": "bWRgQd-y_Lo7",
        "colab": {
          "base_uri": "https://localhost:8080/",
          "height": 35
        },
        "outputId": "1021ce33-de8d-41c1-e7fa-0af86cab1f83"
      },
      "outputs": [
        {
          "output_type": "execute_result",
          "data": {
            "text/plain": [
              "'Michael Jackson is the best'"
            ],
            "application/vnd.google.colaboratory.intrinsic+json": {
              "type": "string"
            }
          },
          "metadata": {},
          "execution_count": 31
        }
      ],
      "execution_count": 31
    },
    {
      "cell_type": "markdown",
      "source": "To replicate values of a string we simply multiply the string by the number of times we would like to replicate it. In this case, the number is three. The result is a new string, and this new string consists of three copies of the original string:",
      "metadata": {
        "id": "rTB1ucJE_Lo7"
      }
    },
    {
      "cell_type": "code",
      "source": "# Print the string for 3 times\n\n3 * \"Michael Jackson \"",
      "metadata": {
        "id": "SPQ79-QQ_Lo7",
        "colab": {
          "base_uri": "https://localhost:8080/",
          "height": 35
        },
        "outputId": "7491e09e-6ef1-4022-ab57-b39db2ff75ac"
      },
      "outputs": [
        {
          "output_type": "execute_result",
          "data": {
            "text/plain": [
              "'Michael Jackson Michael Jackson Michael Jackson '"
            ],
            "application/vnd.google.colaboratory.intrinsic+json": {
              "type": "string"
            }
          },
          "metadata": {},
          "execution_count": 36
        }
      ],
      "execution_count": 36
    },
    {
      "cell_type": "markdown",
      "source": "You can create a new string by setting it to the original variable. Concatenated  with a new string, the result is a new string that changes from Michael Jackson to “Michael Jackson is the best\".\n",
      "metadata": {
        "id": "8FXJAhU8_Lo7"
      }
    },
    {
      "cell_type": "code",
      "source": "# Concatenate strings\n\nName = \"Michael Jackson\"\nName = Name + \" is the best\"\nName",
      "metadata": {
        "id": "kvgTPCAB_Lo7",
        "colab": {
          "base_uri": "https://localhost:8080/",
          "height": 35
        },
        "outputId": "b2127e62-2690-4a87-c857-bb221d8dc4e0"
      },
      "outputs": [
        {
          "output_type": "execute_result",
          "data": {
            "text/plain": [
              "'Michael Jackson is the best'"
            ],
            "application/vnd.google.colaboratory.intrinsic+json": {
              "type": "string"
            }
          },
          "metadata": {},
          "execution_count": 37
        }
      ],
      "execution_count": 37
    },
    {
      "cell_type": "markdown",
      "source": "<hr>",
      "metadata": {
        "id": "RezBOVGH_Lo7"
      }
    },
    {
      "cell_type": "markdown",
      "source": "<h2 id=\"escape\">Escape Sequences</h2>",
      "metadata": {
        "id": "XpG_ihzZ_Lo7"
      }
    },
    {
      "cell_type": "markdown",
      "source": "Back slashes represent the beginning  of escape sequences. Escape sequences represent strings that may be difficult to input. For example, back slash \"n\" represents a new line. The output is given by a new line after the back slash \"n\" is encountered:",
      "metadata": {
        "id": "rvEomesU_Lo7"
      }
    },
    {
      "cell_type": "code",
      "source": "# New line escape sequence\n\nprint(\" Michael Jackson \\n is the best\" )",
      "metadata": {
        "id": "LH7FdCJH_Lo8",
        "colab": {
          "base_uri": "https://localhost:8080/"
        },
        "outputId": "5c3356f3-bc32-4a43-f856-48f8c04d4450"
      },
      "outputs": [
        {
          "output_type": "stream",
          "name": "stdout",
          "text": " Michael Jackson \n, is the best\n"
        }
      ],
      "execution_count": 39
    },
    {
      "cell_type": "markdown",
      "source": "Similarly, back slash  \"t\" represents a tab: ",
      "metadata": {
        "id": "CyJkEEzf_Lo8"
      }
    },
    {
      "cell_type": "code",
      "source": "# Tab escape sequence\n\nprint(\" Michael Jackson \\t is the best \\n\" )",
      "metadata": {
        "id": "xKKpcwZF_Lo8",
        "colab": {
          "base_uri": "https://localhost:8080/"
        },
        "outputId": "9aa06c1c-6da2-486c-f3d6-5fe3a1faac34"
      },
      "outputs": [
        {
          "output_type": "stream",
          "name": "stdout",
          "text": " Michael Jackson \t is the best \n,\n"
        }
      ],
      "execution_count": 41
    },
    {
      "cell_type": "markdown",
      "source": " If you want to place a back slash in your string, use a double back slash:",
      "metadata": {
        "id": "EZnRhqUj_Lo8"
      }
    },
    {
      "cell_type": "code",
      "source": "# Include back slash in string\n\nprint(\" Michael Jackson \\ is the best\" )",
      "metadata": {
        "id": "IiBy3gNr_Lo8",
        "colab": {
          "base_uri": "https://localhost:8080/"
        },
        "outputId": "fdca8621-0e93-4486-8b47-8ecd8bbbd202"
      },
      "outputs": [
        {
          "output_type": "stream",
          "name": "stdout",
          "text": " Michael Jackson \\ is the best\n"
        }
      ],
      "execution_count": 43
    },
    {
      "cell_type": "markdown",
      "source": "<hr>",
      "metadata": {
        "id": "0UzyVlxw_Lo8"
      }
    },
    {
      "cell_type": "markdown",
      "source": "<h2 id=\"operations\">String Operations</h2>",
      "metadata": {
        "id": "-ymXj1mj_Lo8"
      }
    },
    {
      "cell_type": "markdown",
      "source": "There are many string operation methods in Python that can be used to manipulate the data. We are going to use some basic string operations on the data. ",
      "metadata": {
        "id": "gTbz8xXl_Lo8"
      }
    },
    {
      "cell_type": "markdown",
      "source": "Let's try with the method <code>upper</code>; this method converts lower case characters to upper case characters:",
      "metadata": {
        "id": "MJsa4-QB_Lo9"
      }
    },
    {
      "cell_type": "code",
      "source": "# Convert all the characters in string to upper case\n\nA = \"Thriller is the sixth studio album\"\nprint(\"before upper:\", A)\nB = A.upper()\n#  #A라는 문자열을 모두 대문자로 바꿔라. A.upper()\nprint(\"After upper:\", B)",
      "metadata": {
        "id": "zKUXgnmQ_Lo9",
        "colab": {
          "base_uri": "https://localhost:8080/"
        },
        "outputId": "60eacc1f-0f82-4a35-d60c-5fd2998ae858"
      },
      "outputs": [
        {
          "output_type": "stream",
          "name": "stdout",
          "text": "before upper: Thriller is the sixth studio album\n,After upper: THRILLER IS THE SIXTH STUDIO ALBUM\n"
        }
      ],
      "execution_count": 46
    },
    {
      "cell_type": "markdown",
      "source": "The method <code>replace</code> replaces a segment of the string, i.e. a substring  with a new string. We input the part of the string we would like to change. The second argument is what we would like to exchange the segment with, and the result is a new string with the segment changed: \n",
      "metadata": {
        "id": "y7XYrqU6_Lo9"
      }
    },
    {
      "cell_type": "code",
      "source": "# Replace the old substring with the new target substring is the segment has been found in the string\n\nA = \"Michael Jackson is the best\"\nB = A.replace('Michael', 'Janet')\nC = B.replace('Janet', 'Blake') #변수 \nA\n",
      "metadata": {
        "id": "i3AOqtZU_Lo9",
        "colab": {
          "base_uri": "https://localhost:8080/",
          "height": 35
        },
        "outputId": "124e0455-2102-4dd4-a4c9-a2054cfd4a06"
      },
      "outputs": [
        {
          "output_type": "execute_result",
          "data": {
            "text/plain": [
              "'Michael Jackson is the best'"
            ],
            "application/vnd.google.colaboratory.intrinsic+json": {
              "type": "string"
            }
          },
          "metadata": {},
          "execution_count": 52
        }
      ],
      "execution_count": 52
    },
    {
      "cell_type": "markdown",
      "source": "The method <code>find</code> finds a sub-string. The argument is the substring you would like to find, and the output is the first index of the sequence. We can find the sub-string <code>jack</code> or <code>el<code>.  ",
      "metadata": {
        "id": "fzvobRb4_Lo9"
      }
    },
    {
      "cell_type": "markdown",
      "source": "<img src=\"https://s3-api.us-geo.objectstorage.softlayer.net/cf-courses-data/CognitiveClass/PY0101EN/Chapter%201/Images/StringsFind.png\" width=\"600\" align=\"center\" />",
      "metadata": {
        "id": "tjE_sEpI_Lo9"
      }
    },
    {
      "cell_type": "code",
      "source": "# Find the substring in the string. Only the index of the first elment of substring in string will be the output\n\nName = \"Michael Jackson\"\nName.find('el')",
      "metadata": {
        "id": "AIavgjhh_Lo9",
        "colab": {
          "base_uri": "https://localhost:8080/"
        },
        "outputId": "aad22386-5906-47d6-d156-897c34cab4e2"
      },
      "outputs": [
        {
          "output_type": "execute_result",
          "data": {
            "text/plain": [
              "5"
            ]
          },
          "metadata": {},
          "execution_count": 53
        }
      ],
      "execution_count": 53
    },
    {
      "cell_type": "code",
      "source": "# Find the substring in the string.\n\nName.find('sn')",
      "metadata": {
        "id": "MIu6Yi7__Lo9",
        "colab": {
          "base_uri": "https://localhost:8080/"
        },
        "outputId": "5d2a9b47-bd02-4c7a-c339-31a52065dfe4"
      },
      "outputs": [
        {
          "output_type": "execute_result",
          "data": {
            "text/plain": [
              "-1"
            ]
          },
          "metadata": {},
          "execution_count": 56
        }
      ],
      "execution_count": 56
    },
    {
      "cell_type": "markdown",
      "source": "If the  sub-string is not in the string then the output is a negative one. For example, the string 'Jasdfasdasdf' is not a substring:",
      "metadata": {
        "id": "zbLf9Au1_Lo9"
      }
    },
    {
      "cell_type": "code",
      "source": "# If cannot find the substring in the string\n\nName.find('Jasdfasdasdf')",
      "metadata": {
        "collapsed": true,
        "id": "d-iT_Rt5_Lo-",
        "colab": {
          "base_uri": "https://localhost:8080/"
        },
        "outputId": "6f306813-ff60-4a2b-af5b-3423938f7bf3",
        "jupyter": {
          "outputs_hidden": true
        }
      },
      "outputs": [
        {
          "output_type": "execute_result",
          "data": {
            "text/plain": [
              "-1"
            ]
          },
          "metadata": {},
          "execution_count": 57
        }
      ],
      "execution_count": 57
    },
    {
      "cell_type": "markdown",
      "source": "<hr>",
      "metadata": {
        "id": "qVhwWrIy_Lo-"
      }
    },
    {
      "cell_type": "markdown",
      "source": "<h2 id=\"Exercise\">Exercise Strings 1</h2>",
      "metadata": {
        "id": "lrgX3Po1_Lo-"
      }
    },
    {
      "cell_type": "markdown",
      "source": "What is the value of the variable <code>A</code> after the following code is executed? ",
      "metadata": {
        "id": "9f9KdwEN_Lo-"
      }
    },
    {
      "cell_type": "code",
      "source": "A = \"1\"\nprint(A)",
      "metadata": {
        "id": "8TGPm5RN_Lo-",
        "trusted": true
      },
      "outputs": [
        {
          "name": "stdout",
          "output_type": "stream",
          "text": "1\n"
        }
      ],
      "execution_count": 3
    },
    {
      "cell_type": "markdown",
      "source": "*Double*-click <b>here</b> for the solution.\n<!-- Your answer is below:\n\"1\"\n-->",
      "metadata": {
        "id": "1o05Qi3p_Lo-"
      }
    },
    {
      "cell_type": "markdown",
      "source": "What is the value of the variable <code>B</code> after the following code is executed?",
      "metadata": {
        "id": "XmtnRv7z_Lo-"
      }
    },
    {
      "cell_type": "code",
      "source": "B = \"2\"\nprint(B)",
      "metadata": {
        "id": "Z9GmC15W_Lo-",
        "trusted": true
      },
      "outputs": [
        {
          "name": "stdout",
          "output_type": "stream",
          "text": "2\n"
        }
      ],
      "execution_count": 4
    },
    {
      "cell_type": "markdown",
      "source": "Double-click <b>here</b> for the solution.\n<!-- Your answer is below:\n\"2\"\n-->",
      "metadata": {
        "id": "v5XCnEgH_Lo-"
      }
    },
    {
      "cell_type": "markdown",
      "source": "What is the value of the variable <code>C</code> after the following code is executed?",
      "metadata": {
        "id": "tAUOWle9_Lo_"
      }
    },
    {
      "cell_type": "code",
      "source": "# Write your code below and press Shift+Enter to execute \nA = \"1\"\nB = \"2\"\nC = A + B\nprint(C)",
      "metadata": {
        "id": "jzII0Dh3_Lo_",
        "trusted": true
      },
      "outputs": [
        {
          "name": "stdout",
          "output_type": "stream",
          "text": "12\n"
        }
      ],
      "execution_count": 5
    },
    {
      "cell_type": "markdown",
      "source": "Double-click <b>here</b> for the solution.\n\"12\"\n<!-- Your answer is below:\n\"12\"\n-->",
      "metadata": {
        "id": "kpM7nJ4Q_Lo_"
      }
    },
    {
      "cell_type": "markdown",
      "source": "<hr>",
      "metadata": {
        "id": "EWb95qFN_Lo_"
      }
    },
    {
      "cell_type": "markdown",
      "source": "Consider the variable <code>D</code> use slicing to print out the first three elements:",
      "metadata": {
        "id": "a4qDwwUx_Lo_"
      }
    },
    {
      "cell_type": "code",
      "source": "# Write your code below and press Shift+Enter to execute\n\nD = \"ABCDEFG\"\nprint(D[:3]) ",
      "metadata": {
        "id": "cDP24HRe_Lo_",
        "trusted": true
      },
      "outputs": [
        {
          "name": "stdout",
          "output_type": "stream",
          "text": "ABC\n"
        }
      ],
      "execution_count": 6
    },
    {
      "cell_type": "markdown",
      "source": "Double-click <b>here</b> for the solution.\\\n<!-- Your answer is below:\nprint(D[:3]) \n# or \nprint(D[0:3])\n-->",
      "metadata": {
        "id": "vjbKiN9W_Lo_"
      }
    },
    {
      "cell_type": "markdown",
      "source": "<hr>",
      "metadata": {
        "id": "k7_D-zHc_Lo_"
      }
    },
    {
      "cell_type": "markdown",
      "source": "Use a stride value of 2 to print out every second character of the string <code>E</code>: ",
      "metadata": {
        "id": "4JKFWQWs_Lo_"
      }
    },
    {
      "cell_type": "code",
      "source": "# Write your code below and press Shift+Enter to execute\n\nE = 'clocrkr1e1c1t'\nprint(E[::2])",
      "metadata": {
        "id": "uhzR24xg_Lo_",
        "trusted": true
      },
      "outputs": [
        {
          "name": "stdout",
          "output_type": "stream",
          "text": "correct\n"
        }
      ],
      "execution_count": 7
    },
    {
      "cell_type": "markdown",
      "source": "*Double*-click <b>here</b> for the solution.\n<!-- Your answer is below:\nprint(E[::2])\n-->",
      "metadata": {
        "id": "VFslk5O0_Lo_"
      }
    },
    {
      "cell_type": "markdown",
      "source": "<hr>",
      "metadata": {
        "id": "3jyLp4zT_LpA"
      }
    },
    {
      "cell_type": "markdown",
      "source": "Print out a backslash:",
      "metadata": {
        "id": "ApiD63EB_LpA"
      }
    },
    {
      "cell_type": "code",
      "source": "# Write your code below and press Shift+Enter to execute\nprint(\"\\\\\")",
      "metadata": {
        "id": "6OfgrTdo_LpA",
        "trusted": true
      },
      "outputs": [
        {
          "name": "stdout",
          "output_type": "stream",
          "text": "\\\n"
        }
      ],
      "execution_count": 9
    },
    {
      "cell_type": "markdown",
      "source": "Double-click <b>here</b> for the solution.\n\n\n<!-- Your answer is below:\nprint(\"\\\\\")\nor\nprint(r\" \\ \")\n-->",
      "metadata": {
        "id": "VCi_5trc_LpA"
      }
    },
    {
      "cell_type": "markdown",
      "source": "<hr>",
      "metadata": {
        "id": "0u_iOc4H_LpA"
      }
    },
    {
      "cell_type": "markdown",
      "source": "Convert the variable <code>F</code> to uppercase:",
      "metadata": {
        "id": "usUoFDWx_LpA"
      }
    },
    {
      "cell_type": "code",
      "source": "# Write your code below and press Shift+Enter to execute\n\nF = \"You are wrong\"",
      "metadata": {
        "id": "wWJWplcf_LpA"
      },
      "outputs": [],
      "execution_count": null
    },
    {
      "cell_type": "markdown",
      "source": "Double-click <b>here</b> for the solution.\n\nF.upper()\n\n<!-- Your answer is below:\nF.upper()\n-->",
      "metadata": {
        "id": "fl-e1mr0_LpA"
      }
    },
    {
      "cell_type": "markdown",
      "source": "<hr>",
      "metadata": {
        "id": "xZasMHx2_LpA"
      }
    },
    {
      "cell_type": "markdown",
      "source": "Consider the variable <code>G</code>, and find the first index of the sub-string <code>snow</code>:",
      "metadata": {
        "id": "umixmVtH_LpA"
      }
    },
    {
      "cell_type": "code",
      "source": "# Write your code below and press Shift+Enter to execute\n\nG = \"Mary had a little lamb Little lamb, little lamb Mary had a little lamb \\\nIts fleece was white as snow And everywhere that Mary went Mary went, Mary went \\\nEverywhere that Mary went The lamb was sure to go\"",
      "metadata": {
        "id": "YNbQygft_LpA"
      },
      "outputs": [],
      "execution_count": null
    },
    {
      "cell_type": "markdown",
      "source": "**Double**-click __here__ for the solution.\n\nG.find(\"snow\")\n\n<!-- Your answer is below:\nG.find(\"snow\")\n-->",
      "metadata": {
        "id": "UQ8l2fUB_LpB"
      }
    },
    {
      "cell_type": "markdown",
      "source": "In the variable <code>G</code>, replace the sub-string <code>Mary</code> with <code>Bob</code>:",
      "metadata": {
        "id": "j67KEnmX_LpB"
      }
    },
    {
      "cell_type": "code",
      "source": "# Write your code below and press Shift+Enter to execute",
      "metadata": {
        "id": "t3ArDsom_LpB"
      },
      "outputs": [],
      "execution_count": null
    },
    {
      "cell_type": "markdown",
      "source": "Double-click __here__ for the solution.\n\nG.replace(\"Mary\", \"Bob\")\n\n<!-- Your answer is below:\nG.replace(\"Mary\", \"Bob\")\n-->",
      "metadata": {
        "id": "IpqiwAlH_LpB"
      }
    },
    {
      "cell_type": "markdown",
      "source": "<hr>\n<h2>The last exercise!</h2>\n<p>Congratulations, you have completed your first lesson and hands-on lab in Python. However, there is one more thing you need to do. The Data Science community encourages sharing work. The best way to share and showcase your work is to share it on GitHub. By sharing your notebook on GitHub you are not only building your reputation with fellow data scientists, but you can also show it off when applying for a job. Even though this was your first piece of work, it is never too early to start building good habits. Please submit all your exercises to Github & let the traces in our LMS, so for me to access your work.\n<hr>",
      "metadata": {
        "id": "xL60yz0Q_LpB"
      }
    },
    {
      "cell_type": "markdown",
      "source": "<hr>\n<p>Copyright &copy; 2023 RYU HOKYOUNG based on 2018 IBM Developer Skills Network. This notebook and its source code are released under the terms of the <a href=\"https://cognitiveclass.ai/mit-license/\">MIT License</a>.</p>",
      "metadata": {
        "id": "ZPAAWlAS_LpB"
      }
    }
  ]
}