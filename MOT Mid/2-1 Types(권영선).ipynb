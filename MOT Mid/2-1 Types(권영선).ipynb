{
  "metadata": {
    "kernelspec": {
      "name": "python",
      "display_name": "Python (Pyodide)",
      "language": "python"
    },
    "language_info": {
      "codemirror_mode": {
        "name": "python",
        "version": 3
      },
      "file_extension": ".py",
      "mimetype": "text/x-python",
      "name": "python",
      "nbconvert_exporter": "python",
      "pygments_lexer": "ipython3",
      "version": "3.8"
    },
    "colab": {
      "provenance": []
    }
  },
  "nbformat_minor": 4,
  "nbformat": 4,
  "cells": [
    {
      "cell_type": "markdown",
      "source": "<h1>Python - Writing Your First Python Code!</h1>",
      "metadata": {
        "id": "QWg64ZCF4YD3"
      }
    },
    {
      "cell_type": "markdown",
      "source": "<p><strong>Welcome!</strong> This notebook will teach you the basics of the Python programming language. Although the information presented here is quite basic, it is an important foundation that will help you read and write Python code. By the end of this notebook, you'll know the basics of Python, including how to write basic commands, understand some basic types, and how to perform simple operations on them.</p> ",
      "metadata": {
        "id": "Ss6r66sq4YD4"
      }
    },
    {
      "cell_type": "markdown",
      "source": "<h2 id=\"hello\">Say \"Hello\" to the world in Python</h2>",
      "metadata": {
        "id": "mwERlf-M4YD5"
      }
    },
    {
      "cell_type": "markdown",
      "source": "When learning a new programming language, it is customary to start with an \"hello world\" example. As simple as it is, this one line of code will ensure that we know how to print a string in output and how to execute code within cells in a notebook.",
      "metadata": {
        "id": "FCRwzLhK4YD5"
      }
    },
    {
      "cell_type": "markdown",
      "source": "<hr/>\n<div class=\"alert alert-success alertsuccess\" style=\"margin-top: 20px\">\n[Tip]: To execute the Python code in the code cell below, click on the cell to select it and press <kbd>Shift</kbd> + <kbd>Enter</kbd>.\n</div>\n<div class=\"alert alert-success alertsuccess\" style=\"margin-top: 20px\">\n[Tip]: Or you can just click the \"PLAY\" button in the left side of the code cells.\n</div>\n<hr/>",
      "metadata": {
        "id": "Xnpqd2ur4YD5"
      }
    },
    {
      "cell_type": "code",
      "source": "# Try your first Python output\n\nprint('Hello, Python!!!!!')\nprint(\"내 이름은 류호경입니다\")",
      "metadata": {
        "colab": {
          "base_uri": "https://localhost:8080/"
        },
        "id": "tELb6PFS4YD5",
        "outputId": "97e82337-f958-4e58-8110-bad64f9cb46d"
      },
      "outputs": [
        {
          "output_type": "stream",
          "name": "stdout",
          "text": "Hello, Python!!!!!\n,내 이름은 류호경입니다\n"
        }
      ],
      "execution_count": 62
    },
    {
      "cell_type": "markdown",
      "source": "After executing the cell above, you should see that Python prints <code>Hello, Python!</code>. Congratulations on running your first Python code!",
      "metadata": {
        "id": "HgWuDMsy4YD6"
      }
    },
    {
      "cell_type": "markdown",
      "source": "<hr/>\n<div class=\"alert alert-success alertsuccess\" style=\"margin-top: 20px\">\n    [Tip:] <code>print()</code> is a function. You passed the string <code>'Hello, Python!'</code> as an argument to instruct Python on what to print.\n</div>\n<hr/>",
      "metadata": {
        "id": "AJhQuoNW4YD6"
      }
    },
    {
      "cell_type": "markdown",
      "source": "<h3 id=\"version\">What version of Python are we using?</h3>",
      "metadata": {
        "id": "nUDaUcG-4YD6"
      }
    },
    {
      "cell_type": "markdown",
      "source": "<p>\n    There are two popular versions of the Python programming language in use today: Python 2 and Python 3. The Python community has decided to move on from Python 2 to Python 3, and many popular libraries have announced that they will no longer support Python 2.\n</p>\n<p>\n    In this course we will be using Python 3. How do we know that our notebook is executed by a Python 3 runtime? We can ask directly Python and obtain a detailed answer. Try executing the following code:\n</p>",
      "metadata": {
        "id": "TRvPvOLj4YD6"
      }
    },
    {
      "cell_type": "code",
      "source": "# Check the Python Version\n\nimport sys #import??? sys (system information)\nprint(sys.version) #내가 지금 사용하고 있는 Python의 버전을 알려줘...sys.version",
      "metadata": {
        "colab": {
          "base_uri": "https://localhost:8080/"
        },
        "id": "E5GI4xpQ4YD7",
        "outputId": "e9a1d68d-7131-4798-ad2a-70e665638579"
      },
      "outputs": [
        {
          "output_type": "stream",
          "name": "stdout",
          "text": "3.8.10 (default, Nov 14 2022, 12:59:47) \n,[GCC 9.4.0]\n"
        }
      ],
      "execution_count": 63
    },
    {
      "cell_type": "markdown",
      "source": "<hr/>\n<div class=\"alert alert-success alertsuccess\" style=\"margin-top: 20px\">\n    [Tip:] <code>sys</code> is a built-in module that contains many system-specific parameters and functions, including the Python version in use. Before using it, we must explictly <code>import</code> it.\n</div>\n<hr/>",
      "metadata": {
        "id": "Dtu1nVpQ4YD7"
      }
    },
    {
      "cell_type": "markdown",
      "source": "<h3 id=\"comments\">Writing comments in Python</h3>",
      "metadata": {
        "id": "X_RxtUew4YD7"
      }
    },
    {
      "cell_type": "markdown",
      "source": "<p>\n    In addition to writing code, note that it's always a good idea to add comments to your code. It will help others understand what you were trying to accomplish (the reason why you wrote a given snippet of code). Not only does this help <strong>other people</strong> understand your code, it can also serve as a reminder <strong>to you</strong> when you come back to it weeks or months later.</p>\n\n<p>\n    To write comments in Python, use the number symbol <code>#</code> before writing your comment. When you run your code, Python will ignore everything past the <code>#</code> on a given line.\n</p>",
      "metadata": {
        "id": "jT1Nub0G4YD7"
      }
    },
    {
      "cell_type": "code",
      "source": "# Practice on writing comments\n# this is just for testing\n\n#교수님 이번 코드는 좀 어렵네요. 좀 쉽게 숙제를 내주세요\n#여기서 부터는 출력문을 만들기 위한 것입니다. \nprint('Hello, Python!') # This line prints a string\n# print('Hi')",
      "metadata": {
        "colab": {
          "base_uri": "https://localhost:8080/"
        },
        "id": "HIryMJpY4YD7",
        "outputId": "81ae6ad1-9cdb-4826-99b9-506184d0dc1e"
      },
      "outputs": [
        {
          "output_type": "stream",
          "name": "stdout",
          "text": "Hello, Python!\n"
        }
      ],
      "execution_count": 65
    },
    {
      "cell_type": "markdown",
      "source": "<p>\n    After executing the cell above, you should notice that <code>This line prints a string</code> did not appear in the output, because it was a comment (and thus ignored by Python).\n</p>\n<p>\n    The second line was also not executed because <code>print('Hi')</code> was preceded by the number sign (<code>#</code>) as well! Since this isn't an explanatory comment from the programmer, but an actual line of code, we might say that the programmer <em>commented out</em> that second line of code.\n</p>",
      "metadata": {
        "id": "MyIGBWlC4YD7"
      }
    },
    {
      "cell_type": "markdown",
      "source": "<h3 id=\"errors\">Errors in Python</h3>",
      "metadata": {
        "id": "LgcfnxXW4YD7"
      }
    },
    {
      "cell_type": "markdown",
      "source": "<p>Everyone makes mistakes. For many types of mistakes, Python will tell you that you have made a mistake by giving you an error message. It is important to read error messages carefully to really understand where you made a mistake and how you may go about correcting it.</p>\n<p>For example, if you spell <code>print</code> as <code>frint</code>, Python will display an error message. Give it a try:</p>",
      "metadata": {
        "id": "QDaaOmzf4YD8"
      }
    },
    {
      "cell_type": "code",
      "source": "# Print string as error message\n\nprint(\"Hello, Python!\") #print",
      "metadata": {
        "colab": {
          "base_uri": "https://localhost:8080/",
          "height": 205
        },
        "id": "9T2aR5TF4YD8",
        "outputId": "593fe740-dd4f-4182-c3d3-810caab1a47f",
        "trusted": true
      },
      "outputs": [
        {
          "name": "stdout",
          "output_type": "stream",
          "text": "Hello, Python!\n"
        }
      ],
      "execution_count": 2
    },
    {
      "cell_type": "markdown",
      "source": "<p>The error message tells you: \n<ol>\n    <li>where the error occurred (more useful in large notebook cells or scripts), and</li> \n    <li>what kind of error it was (NameError)</li> \n</ol>\n<p>Here, Python attempted to run the function <code>frint</code>, but could not determine what <code>frint</code> is since it's not a built-in function and it has not been previously defined by us either.</p>",
      "metadata": {
        "id": "WWc1XuzM4YD8"
      }
    },
    {
      "cell_type": "markdown",
      "source": "<p>\n    You'll notice that if we make a different type of mistake, by forgetting to close the string, we'll obtain a different error (i.e., a <code>SyntaxError</code>). Try it below:\n</p>",
      "metadata": {
        "id": "f5DQxLJN4YD8"
      }
    },
    {
      "cell_type": "code",
      "source": "# Try to see build in error message\n\nprint(\"Hello, Python!\") #\"\", ''",
      "metadata": {
        "colab": {
          "base_uri": "https://localhost:8080/"
        },
        "id": "W_dY2fNh4YD8",
        "outputId": "c4977990-33e5-420a-9b9c-ccebc0975e79"
      },
      "outputs": [
        {
          "output_type": "stream",
          "name": "stdout",
          "text": "Hello, Python!\n"
        }
      ],
      "execution_count": 71
    },
    {
      "cell_type": "markdown",
      "source": "<h3 id=\"python_error\">Does Python know about your error before it runs your code?</h3>",
      "metadata": {
        "id": "PXwX6ypD4YD8"
      }
    },
    {
      "cell_type": "markdown",
      "source": "Python is what is called an <em>interpreted language</em>. Compiled languages examine your entire program at compile time, and are able to warn you about a whole class of errors prior to execution. In contrast, Python interprets your script line by line as it executes it. Python will stop executing the entire program when it encounters an error (unless the error is expected and handled by the programmer, which is a more advanced subject that we may cover later on in this course).",
      "metadata": {
        "id": "oGBZGRPu4YD8"
      }
    },
    {
      "cell_type": "markdown",
      "source": "Try to run the code in the cell below and see what happens:",
      "metadata": {
        "id": "VTEyiBFk4YD8"
      }
    },
    {
      "cell_type": "code",
      "source": "# Print string and error to see the running order\n\nprint(\"This will be printed\")\nfrint(\"This will cause an error\")\nprint(\"This will NOT be printed\")",
      "metadata": {
        "colab": {
          "base_uri": "https://localhost:8080/",
          "height": 240
        },
        "id": "aOtFXDvP4YD8",
        "outputId": "e0bbcd8b-0398-40f4-e69d-c728e6e98570"
      },
      "outputs": [
        {
          "output_type": "stream",
          "name": "stdout",
          "text": "This will be printed\n"
        },
        {
          "output_type": "error",
          "ename": "NameError",
          "evalue": "ignored",
          "traceback": [
            "\u001b[0;31m---------------------------------------------------------------------------\u001b[0m",
            "\u001b[0;31mNameError\u001b[0m                                 Traceback (most recent call last)",
            "\u001b[0;32m<ipython-input-75-af59af1b345d>\u001b[0m in \u001b[0;36m<module>\u001b[0;34m\u001b[0m\n\u001b[1;32m      2\u001b[0m \u001b[0;34m\u001b[0m\u001b[0m\n\u001b[1;32m      3\u001b[0m \u001b[0mprint\u001b[0m\u001b[0;34m(\u001b[0m\u001b[0;34m\"This will be printed\"\u001b[0m\u001b[0;34m)\u001b[0m\u001b[0;34m\u001b[0m\u001b[0;34m\u001b[0m\u001b[0m\n\u001b[0;32m----> 4\u001b[0;31m \u001b[0mfrint\u001b[0m\u001b[0;34m(\u001b[0m\u001b[0;34m\"This will cause an error\"\u001b[0m\u001b[0;34m)\u001b[0m\u001b[0;34m\u001b[0m\u001b[0;34m\u001b[0m\u001b[0m\n\u001b[0m\u001b[1;32m      5\u001b[0m \u001b[0mprint\u001b[0m\u001b[0;34m(\u001b[0m\u001b[0;34m\"This will NOT be printed\"\u001b[0m\u001b[0;34m)\u001b[0m\u001b[0;34m\u001b[0m\u001b[0;34m\u001b[0m\u001b[0m\n",
            "\u001b[0;31mNameError\u001b[0m: name 'frint' is not defined"
          ]
        }
      ],
      "execution_count": 75
    },
    {
      "cell_type": "markdown",
      "source": "<h3 id=\"exercise\">Exercise 1 (Types): Your First Program</h3>\n숙제 제출시 반드시 \"Exercise 1 (Types) : Your First Program\"이라는 것과 함께, 자신의 이름과 학번을 꼭 기재하세요 (comment도 좋고, 아니면 파일이름에라도 좋고)",
      "metadata": {
        "id": "nVBcvT5A4YD8"
      }
    },
    {
      "cell_type": "markdown",
      "source": "<p>Generations of programmers have started their coding careers by simply printing \"Hello, world!\". You will be following in their footsteps.</p>\n<p>In the code cell below, use the <code>print()</code> function to print out the phrase: <code>Hello, world!</code></p>",
      "metadata": {
        "id": "sqv6K5G04YD9"
      }
    },
    {
      "cell_type": "code",
      "source": "print(\"Hello,world!\")",
      "metadata": {
        "id": "1xa4Ohxf4YD9",
        "trusted": true
      },
      "outputs": [
        {
          "name": "stdout",
          "output_type": "stream",
          "text": "Hello,world!\n"
        }
      ],
      "execution_count": 3
    },
    {
      "cell_type": "markdown",
      "source": "Double-click __here__ for the solution.\n\n<!-- Your answer is below:\n\nprint(\"Hello, world!\")\n\n-->",
      "metadata": {
        "id": "23CTovIC4YD9"
      }
    },
    {
      "cell_type": "code",
      "source": "print(\"Hello, world!\")",
      "metadata": {
        "colab": {
          "base_uri": "https://localhost:8080/"
        },
        "id": "jMYnHwEQVg8E",
        "outputId": "fd0ab05f-b0e0-4b2b-9cc0-6c3db723e7cb",
        "trusted": true
      },
      "outputs": [
        {
          "name": "stdout",
          "output_type": "stream",
          "text": "Hello, world!\n"
        }
      ],
      "execution_count": 3
    },
    {
      "cell_type": "markdown",
      "source": "<p>Now, let's enhance your code with a comment. In the code cell below, print out the phrase: <code>Hello, world!</code> and comment it with the phrase <code>Print the traditional hello world</code> all in one line of code.</p>",
      "metadata": {
        "id": "lgXrlidt4YD9"
      }
    },
    {
      "cell_type": "code",
      "source": "print(\"Hello, world!\") #주석 처리 연습, 권영선:2024181068",
      "metadata": {
        "id": "jj0A14ts4YD9",
        "trusted": true
      },
      "outputs": [
        {
          "name": "stdout",
          "output_type": "stream",
          "text": "Hello, world!\n"
        }
      ],
      "execution_count": 4
    },
    {
      "cell_type": "code",
      "source": "print(\"Hello, world!\") # Print the traditional hello world\n",
      "metadata": {
        "colab": {
          "base_uri": "https://localhost:8080/"
        },
        "id": "d1NWBZIkVmOL",
        "outputId": "75b74a5a-65cf-4012-babf-27e6726c5eee",
        "trusted": true
      },
      "outputs": [
        {
          "name": "stdout",
          "output_type": "stream",
          "text": "Hello, world!\n"
        }
      ],
      "execution_count": 5
    },
    {
      "cell_type": "markdown",
      "source": "Double-click __here__ for the solution.\n\n\n\n<!-- Your answer is below:\n\nprint(\"Hello, world!\") # Print the traditional hello world\n\n-->\n",
      "metadata": {
        "id": "g5cYyeQg4YD9"
      }
    },
    {
      "cell_type": "markdown",
      "source": "<hr>",
      "metadata": {
        "id": "BN2dqYnl4YD9"
      }
    },
    {
      "cell_type": "markdown",
      "source": "<h2 id=\"types_objects\" align=\"center\">Types of objects in Python</h2>",
      "metadata": {
        "id": "VDQ3swoh4YD9"
      }
    },
    {
      "cell_type": "markdown",
      "source": "<p>Python is an object-oriented language. There are many different types of objects in Python. Let's start with the most common object types: <i>strings</i>, <i>integers</i> and <i>floats</i>. Anytime you write words (text) in Python, you're using <i>character strings</i> (strings for short). The most common numbers, on the other hand, are <i>integers</i> (e.g. -1, 0, 100) and <i>floats</i>, which represent real numbers (e.g. 3.14, -42.0).</p>",
      "metadata": {
        "id": "l6H0DldW4YD9"
      }
    },
    {
      "cell_type": "markdown",
      "source": "<a align=\"center\">\n    <img src=\"https://s3-api.us-geo.objectstorage.softlayer.net/cf-courses-data/CognitiveClass/PY0101EN/Chapter%201/Images/TypesObjects.png\" width=\"600\">\n</a>",
      "metadata": {
        "id": "cYvfQ59I4YD9"
      }
    },
    {
      "cell_type": "markdown",
      "source": "<p>The following code cells contain some examples.</p>",
      "metadata": {
        "id": "ZSq24OmX4YD-"
      }
    },
    {
      "cell_type": "code",
      "source": "# Integer\n\n11",
      "metadata": {
        "colab": {
          "base_uri": "https://localhost:8080/"
        },
        "id": "f40m-g574YD-",
        "outputId": "ec0dff3b-a437-4a69-8fac-a89814ceaae8"
      },
      "outputs": [
        {
          "output_type": "execute_result",
          "data": {
            "text/plain": [
              "11"
            ]
          },
          "metadata": {},
          "execution_count": 78
        }
      ],
      "execution_count": 78
    },
    {
      "cell_type": "code",
      "source": "# Float\n\n2.14",
      "metadata": {
        "colab": {
          "base_uri": "https://localhost:8080/"
        },
        "id": "3N96cZky4YD-",
        "outputId": "b3a46d0f-1dff-4927-f8d0-f68dab75ed11"
      },
      "outputs": [
        {
          "output_type": "execute_result",
          "data": {
            "text/plain": [
              "2.14"
            ]
          },
          "metadata": {},
          "execution_count": 80
        }
      ],
      "execution_count": 80
    },
    {
      "cell_type": "code",
      "source": "# String\n\n\"Hello, Python 101!\"",
      "metadata": {
        "id": "JjWLW0TA4YD-"
      },
      "outputs": [],
      "execution_count": null
    },
    {
      "cell_type": "markdown",
      "source": "<p>You can get Python to tell you the type of an expression by using the built-in <code>type()</code> function. You'll notice that Python refers to integers as <code>int</code>, floats as <code>float</code>, and character strings as <code>str</code>.</p>",
      "metadata": {
        "id": "Z1vDdWE34YD-"
      }
    },
    {
      "cell_type": "code",
      "source": "# Type of 12\n\ntype(12) #() 12 즉 12가 어떤 데이터 타입인지를 알려주는 type함수이고, 이type함수는 우리에게 12는 integer구나 즉 정수이구나...",
      "metadata": {
        "colab": {
          "base_uri": "https://localhost:8080/"
        },
        "id": "12047YHy4YD-",
        "outputId": "7fe829cf-4300-458e-af9e-7bdc9efed0a2"
      },
      "outputs": [
        {
          "output_type": "execute_result",
          "data": {
            "text/plain": [
              "int"
            ]
          },
          "metadata": {},
          "execution_count": 82
        }
      ],
      "execution_count": 82
    },
    {
      "cell_type": "code",
      "source": "# Type of 2.14\n\ntype(2.14) #type이라는 함수는 type(fjlsadkfjlasjdfla) type의 기능은 (fjlsadkfjlasjdfla)의 데이터 형태를 알려주는 함수",
      "metadata": {
        "colab": {
          "base_uri": "https://localhost:8080/"
        },
        "id": "zD_vxN1V4YD-",
        "outputId": "cfda8113-4ff1-4f3b-8033-6ddec756d97a"
      },
      "outputs": [
        {
          "output_type": "execute_result",
          "data": {
            "text/plain": [
              "float"
            ]
          },
          "metadata": {},
          "execution_count": 83
        }
      ],
      "execution_count": 83
    },
    {
      "cell_type": "code",
      "source": "# Type of \"Hello, Python 101!\"\n\ntype(\"Hello, Python 101!\")\ntype(3.0) #3.0 은 실수 \n",
      "metadata": {
        "colab": {
          "base_uri": "https://localhost:8080/"
        },
        "id": "MOxMvsRZ4YD_",
        "outputId": "121d9e6b-3167-40db-e723-3090fde7fb35"
      },
      "outputs": [
        {
          "output_type": "execute_result",
          "data": {
            "text/plain": [
              "float"
            ]
          },
          "metadata": {},
          "execution_count": 85
        }
      ],
      "execution_count": 85
    },
    {
      "cell_type": "markdown",
      "source": "<h3 id=\"exercise\">Exercise 2 (Types): Get the object type</h3>",
      "metadata": {
        "id": "oCwvd6QR79HP"
      }
    },
    {
      "cell_type": "markdown",
      "source": "<p>In the code cell below, use the <code>type()</code> function to check the object type of <code>12.0</code>.",
      "metadata": {
        "id": "8v0QJcZj4YD_"
      }
    },
    {
      "cell_type": "code",
      "source": "type(12.0)",
      "metadata": {
        "id": "hsYLOab84YD_",
        "trusted": true
      },
      "outputs": [
        {
          "execution_count": 5,
          "output_type": "execute_result",
          "data": {
            "text/plain": "float"
          },
          "metadata": {}
        }
      ],
      "execution_count": 5
    },
    {
      "cell_type": "markdown",
      "source": "\n\n```\n# 코드로 형식 지정됨\n```\n\nDouble-click __here__ for the solution.\n\ntype(12.0)\n\n<!-- Your answer is below:\n\n-->",
      "metadata": {
        "id": "rp9phwMz4YD_"
      }
    },
    {
      "cell_type": "code",
      "source": "type(12.0)",
      "metadata": {
        "colab": {
          "base_uri": "https://localhost:8080/"
        },
        "id": "oqlnri5xaR8A",
        "outputId": "06f591ea-b142-458c-f604-a9149a0329aa"
      },
      "outputs": [
        {
          "output_type": "execute_result",
          "data": {
            "text/plain": [
              "float"
            ]
          },
          "metadata": {},
          "execution_count": 86
        }
      ],
      "execution_count": 86
    },
    {
      "cell_type": "markdown",
      "source": "<h3 id=\"int\">Integers</h3>",
      "metadata": {
        "id": "an7RVS9v4YD_"
      }
    },
    {
      "cell_type": "markdown",
      "source": "<p>Here are some examples of integers. Integers can be negative or positive numbers:</p>",
      "metadata": {
        "id": "YyM6w9r14YD_"
      }
    },
    {
      "cell_type": "markdown",
      "source": "<a align=\"center\">\n    <img src=\"https://s3-api.us-geo.objectstorage.softlayer.net/cf-courses-data/CognitiveClass/PY0101EN/Chapter%201/Images/TypesInt.png\" width=\"600\">\n</a>",
      "metadata": {
        "id": "xMDAIetD4YD_"
      }
    },
    {
      "cell_type": "markdown",
      "source": "<p>We can verify this is the case by using, you guessed it, the <code>type()</code> function:",
      "metadata": {
        "id": "otU5rGTB4YD_"
      }
    },
    {
      "cell_type": "code",
      "source": "# Print the type of -1\n\ntype(-1)",
      "metadata": {
        "colab": {
          "base_uri": "https://localhost:8080/"
        },
        "id": "lOsD9LlW4YD_",
        "outputId": "5cf3c6e6-aad7-4448-94f8-4625f2eb353e"
      },
      "outputs": [
        {
          "output_type": "execute_result",
          "data": {
            "text/plain": [
              "int"
            ]
          },
          "metadata": {},
          "execution_count": 87
        }
      ],
      "execution_count": 87
    },
    {
      "cell_type": "code",
      "source": "# Print the type of 4\n\ntype(4)",
      "metadata": {
        "colab": {
          "base_uri": "https://localhost:8080/"
        },
        "id": "mb6VRoIY4YEA",
        "outputId": "e339e797-550c-4bda-d8c4-eb117ad22ab1"
      },
      "outputs": [
        {
          "output_type": "execute_result",
          "data": {
            "text/plain": [
              "int"
            ]
          },
          "metadata": {},
          "execution_count": 88
        }
      ],
      "execution_count": 88
    },
    {
      "cell_type": "code",
      "source": "# Print the type of 0\n\ntype(0)",
      "metadata": {
        "colab": {
          "base_uri": "https://localhost:8080/"
        },
        "id": "23gd9WXy4YEA",
        "outputId": "8d4f510c-56de-44bb-9e20-d13ff27be4e8"
      },
      "outputs": [
        {
          "output_type": "execute_result",
          "data": {
            "text/plain": [
              "int"
            ]
          },
          "metadata": {},
          "execution_count": 89
        }
      ],
      "execution_count": 89
    },
    {
      "cell_type": "markdown",
      "source": "<h3 id=\"float\">Floats</h3> ",
      "metadata": {
        "id": "TvYzlHZP4YEA"
      }
    },
    {
      "cell_type": "markdown",
      "source": "<p>Floats represent real numbers; they are a superset of integer numbers but also include \"numbers with decimals\". There are some limitations when it comes to machines representing real numbers, but floating point numbers are a good representation in most cases. You can learn more about the specifics of floats for your runtime environment, by checking the value of <code>sys.float_info</code>. This will also tell you what's the largest and smallest number that can be represented with them.</p>\n\n<p>Once again, can test some examples with the <code>type()</code> function:",
      "metadata": {
        "id": "7geBMKyw4YEA"
      }
    },
    {
      "cell_type": "code",
      "source": "# Print the type of 1.0\n\ntype(1.0) # Notice that 1 is an int, and 1.0 is a float",
      "metadata": {
        "colab": {
          "base_uri": "https://localhost:8080/"
        },
        "id": "d-GvI2Vd4YEA",
        "outputId": "0d382cef-fec8-4e17-a9eb-3255dd138be6"
      },
      "outputs": [
        {
          "output_type": "execute_result",
          "data": {
            "text/plain": [
              "float"
            ]
          },
          "metadata": {},
          "execution_count": 90
        }
      ],
      "execution_count": 90
    },
    {
      "cell_type": "code",
      "source": "# Print the type of 0.5\n\ntype(0.5)",
      "metadata": {
        "colab": {
          "base_uri": "https://localhost:8080/"
        },
        "id": "Vw0fFXs14YEA",
        "outputId": "d6956376-f0a2-40c9-9cfa-1319feae190b"
      },
      "outputs": [
        {
          "output_type": "execute_result",
          "data": {
            "text/plain": [
              "float"
            ]
          },
          "metadata": {},
          "execution_count": 91
        }
      ],
      "execution_count": 91
    },
    {
      "cell_type": "code",
      "source": "# Print the type of 0.56\n\ntype(0.56)",
      "metadata": {
        "colab": {
          "base_uri": "https://localhost:8080/"
        },
        "id": "OB67Q7JX4YEA",
        "outputId": "0364b572-30e4-43a3-da62-f12e0a6769c3"
      },
      "outputs": [
        {
          "output_type": "execute_result",
          "data": {
            "text/plain": [
              "float"
            ]
          },
          "metadata": {},
          "execution_count": 92
        }
      ],
      "execution_count": 92
    },
    {
      "cell_type": "code",
      "source": "# System settings about float type\n\nsys.float_info",
      "metadata": {
        "colab": {
          "base_uri": "https://localhost:8080/"
        },
        "id": "3HzH1ln94YEA",
        "outputId": "89bf5f19-1afd-4c07-b77c-5a92415ab333"
      },
      "outputs": [
        {
          "output_type": "execute_result",
          "data": {
            "text/plain": [
              "sys.float_info(max=1.7976931348623157e+308, max_exp=1024, max_10_exp=308, min=2.2250738585072014e-308, min_exp=-1021, min_10_exp=-307, dig=15, mant_dig=53, epsilon=2.220446049250313e-16, radix=2, rounds=1)"
            ]
          },
          "metadata": {},
          "execution_count": 93
        }
      ],
      "execution_count": 93
    },
    {
      "cell_type": "markdown",
      "source": "<h3 id=\"convert\">Converting from one object type to a different object type</h3>",
      "metadata": {
        "id": "NOSUR9OC4YEA"
      }
    },
    {
      "cell_type": "markdown",
      "source": "<p>You can change the type of the object in Python; this is called typecasting. For example, you can convert an <i>integer</i> into a <i>float</i> (e.g. 2 to 2.0).</p>\n<p>Let's try it:</p>",
      "metadata": {
        "id": "8yvAfgc54YEB"
      }
    },
    {
      "cell_type": "code",
      "source": "# Verify that this is an integer\n\ntype(2)",
      "metadata": {
        "colab": {
          "base_uri": "https://localhost:8080/"
        },
        "id": "Ios2LU6t4YEB",
        "outputId": "df320a97-6650-4177-d16c-591199a6ecc0"
      },
      "outputs": [
        {
          "output_type": "execute_result",
          "data": {
            "text/plain": [
              "int"
            ]
          },
          "metadata": {},
          "execution_count": 94
        }
      ],
      "execution_count": 94
    },
    {
      "cell_type": "markdown",
      "source": "<h4>Converting integers to floats</h4>\n<p>Let's cast integer 2 to float:</p>",
      "metadata": {
        "id": "iOmaT5m24YEB"
      }
    },
    {
      "cell_type": "code",
      "source": "# Convert 2 to a float\nfloat(2)",
      "metadata": {
        "colab": {
          "base_uri": "https://localhost:8080/"
        },
        "id": "YKFLvUhF4YEB",
        "outputId": "c526a66b-f5cc-4bb6-9a21-491a2b4e47ae"
      },
      "outputs": [
        {
          "output_type": "execute_result",
          "data": {
            "text/plain": [
              "2.0"
            ]
          },
          "metadata": {},
          "execution_count": 103
        }
      ],
      "execution_count": 103
    },
    {
      "cell_type": "code",
      "source": "# Convert integer 2 to a float and check its type\n\ntype(float(2))",
      "metadata": {
        "id": "v2dm8gD74YEB"
      },
      "outputs": [],
      "execution_count": null
    },
    {
      "cell_type": "markdown",
      "source": "<p>When we convert an integer into a float, we don't really change the value (i.e., the significand) of the number. However, if we cast a float into an integer, we could potentially lose some information. For example, if we cast the float 1.1 to integer we will get 1 and lose the decimal information (i.e., 0.1):</p>",
      "metadata": {
        "id": "kppcKMJZ4YEB"
      }
    },
    {
      "cell_type": "code",
      "source": "# Casting 1.1 to integer will result in loss of information\n\nint(1.1)",
      "metadata": {
        "colab": {
          "base_uri": "https://localhost:8080/"
        },
        "id": "sPcfYoqK4YEB",
        "outputId": "e28696d7-0550-436e-c8a5-805403d183dd"
      },
      "outputs": [
        {
          "output_type": "execute_result",
          "data": {
            "text/plain": [
              "1"
            ]
          },
          "metadata": {},
          "execution_count": 104
        }
      ],
      "execution_count": 104
    },
    {
      "cell_type": "markdown",
      "source": "<h4>Converting from strings to integers or floats</h4>\n\n\n\n",
      "metadata": {
        "id": "B542YbK_4YEB"
      }
    },
    {
      "cell_type": "markdown",
      "source": "<p>Sometimes, we can have a string that contains a number within it. If this is the case, we can cast that string that represents a number into an integer using <code>int()</code>:</p>",
      "metadata": {
        "id": "4QyxUrZy4YEC"
      }
    },
    {
      "cell_type": "code",
      "source": "# Convert a string into an integer\n\nint('1') #\"\", '' 문자열의 기호",
      "metadata": {
        "colab": {
          "base_uri": "https://localhost:8080/"
        },
        "id": "2HZL5Mov4YEC",
        "outputId": "c06bbaaa-44da-4f9d-9d95-26ea421c55d3"
      },
      "outputs": [
        {
          "output_type": "execute_result",
          "data": {
            "text/plain": [
              "1"
            ]
          },
          "metadata": {},
          "execution_count": 106
        }
      ],
      "execution_count": 106
    },
    {
      "cell_type": "markdown",
      "source": "<p>But if you try to do so with a string that is not a perfect match for a number, you'll get an error. Try the following:</p>",
      "metadata": {
        "id": "daBns9To4YEC"
      }
    },
    {
      "cell_type": "code",
      "source": "# Convert a string into an integer with error\n\nint('1 or 2 people')",
      "metadata": {
        "colab": {
          "base_uri": "https://localhost:8080/",
          "height": 205
        },
        "id": "DCzReUps4YEC",
        "outputId": "72215d59-a113-457c-e0d6-9954c516053b"
      },
      "outputs": [
        {
          "output_type": "error",
          "ename": "ValueError",
          "evalue": "ignored",
          "traceback": [
            "\u001b[0;31m---------------------------------------------------------------------------\u001b[0m",
            "\u001b[0;31mValueError\u001b[0m                                Traceback (most recent call last)",
            "\u001b[0;32m<ipython-input-107-b78145d165c7>\u001b[0m in \u001b[0;36m<module>\u001b[0;34m\u001b[0m\n\u001b[1;32m      1\u001b[0m \u001b[0;31m# Convert a string into an integer with error\u001b[0m\u001b[0;34m\u001b[0m\u001b[0;34m\u001b[0m\u001b[0;34m\u001b[0m\u001b[0m\n\u001b[1;32m      2\u001b[0m \u001b[0;34m\u001b[0m\u001b[0m\n\u001b[0;32m----> 3\u001b[0;31m \u001b[0mint\u001b[0m\u001b[0;34m(\u001b[0m\u001b[0;34m'1 or 2 people'\u001b[0m\u001b[0;34m)\u001b[0m\u001b[0;34m\u001b[0m\u001b[0;34m\u001b[0m\u001b[0m\n\u001b[0m",
            "\u001b[0;31mValueError\u001b[0m: invalid literal for int() with base 10: '1 or 2 people'"
          ]
        }
      ],
      "execution_count": 107
    },
    {
      "cell_type": "markdown",
      "source": "<p>You can also convert strings containing floating point numbers into <i>float</i> objects:</p>",
      "metadata": {
        "id": "sb6lTRo64YEC"
      }
    },
    {
      "cell_type": "code",
      "source": "type('1.2')",
      "metadata": {
        "colab": {
          "base_uri": "https://localhost:8080/"
        },
        "id": "JjCVghNjcVE4",
        "outputId": "4f463320-2bf0-42ae-f8c5-62afcfe676bc"
      },
      "outputs": [
        {
          "output_type": "execute_result",
          "data": {
            "text/plain": [
              "str"
            ]
          },
          "metadata": {},
          "execution_count": 110
        }
      ],
      "execution_count": 110
    },
    {
      "cell_type": "code",
      "source": "# Convert the string \"1.2\" into a float\n\ntype(float('1.2'))",
      "metadata": {
        "colab": {
          "base_uri": "https://localhost:8080/"
        },
        "id": "bSs2pQPc4YEC",
        "outputId": "d2a70110-f3cd-43fb-f558-fea84e231e08"
      },
      "outputs": [
        {
          "output_type": "execute_result",
          "data": {
            "text/plain": [
              "float"
            ]
          },
          "metadata": {},
          "execution_count": 109
        }
      ],
      "execution_count": 109
    },
    {
      "cell_type": "markdown",
      "source": "<hr/>\n<div class=\"alert alert-success alertsuccess\" style=\"margin-top: 20px\">\n    [Tip:] Note that strings can be represented with single quotes (<code>'1.2'</code>) or double quotes (<code>\"1.2\"</code>), but you can't mix both (e.g., <code>\"1.2'</code>).\n</div>\n<hr/>",
      "metadata": {
        "id": "qVG8v1jy4YEC"
      }
    },
    {
      "cell_type": "markdown",
      "source": "<h4>Converting numbers to strings</h4>",
      "metadata": {
        "id": "pnuRAH_64YEC"
      }
    },
    {
      "cell_type": "markdown",
      "source": "<p>If we can convert strings to numbers, it is only natural to assume that we can convert numbers to strings, right?</p>",
      "metadata": {
        "id": "IjHa6SDw4YEC"
      }
    },
    {
      "cell_type": "code",
      "source": "# Convert an integer to a string\n\nstr(1)",
      "metadata": {
        "colab": {
          "base_uri": "https://localhost:8080/"
        },
        "id": "U7DBgsXE4YED",
        "outputId": "8586909e-4cd4-465f-b96f-a42a69ce514c"
      },
      "outputs": [
        {
          "output_type": "execute_result",
          "data": {
            "text/plain": [
              "str"
            ]
          },
          "metadata": {},
          "execution_count": 112
        }
      ],
      "execution_count": 112
    },
    {
      "cell_type": "markdown",
      "source": "<p>And there is no reason why we shouldn't be able to make floats into strings as well:</p> ",
      "metadata": {
        "id": "G1ZQOrI44YED"
      }
    },
    {
      "cell_type": "code",
      "source": "# Convert a float to a string\n\nstr(1.2)",
      "metadata": {
        "colab": {
          "base_uri": "https://localhost:8080/"
        },
        "id": "4kzKxaNK4YED",
        "outputId": "c553f5ac-5fde-4da1-8153-a0267f1543e6"
      },
      "outputs": [
        {
          "output_type": "execute_result",
          "data": {
            "text/plain": [
              "str"
            ]
          },
          "metadata": {},
          "execution_count": 114
        }
      ],
      "execution_count": 114
    },
    {
      "cell_type": "markdown",
      "source": "<h3 id=\"bool\">Boolean data type</h3>",
      "metadata": {
        "id": "IEfQHAPQ4YED"
      }
    },
    {
      "cell_type": "markdown",
      "source": "<p><i>Boolean</i> is another important type in Python. An object of type <i>Boolean</i> can take on one of two values: <code>True</code> or <code>False</code>:</p>",
      "metadata": {
        "id": "H8dDRgbw4YED"
      }
    },
    {
      "cell_type": "code",
      "source": "# Value true\n\nTrue",
      "metadata": {
        "colab": {
          "base_uri": "https://localhost:8080/"
        },
        "id": "ookWCzkt4YED",
        "outputId": "93fee745-42b6-4927-e8fa-8ad533411c50"
      },
      "outputs": [
        {
          "output_type": "execute_result",
          "data": {
            "text/plain": [
              "True"
            ]
          },
          "metadata": {},
          "execution_count": 115
        }
      ],
      "execution_count": 115
    },
    {
      "cell_type": "markdown",
      "source": "<p>Notice that the value <code>True</code> has an uppercase \"T\". The same is true for <code>False</code> (i.e. you must use the uppercase \"F\").</p>",
      "metadata": {
        "id": "hnGYABva4YED"
      }
    },
    {
      "cell_type": "code",
      "source": "# Value false\n\nFalse",
      "metadata": {
        "colab": {
          "base_uri": "https://localhost:8080/"
        },
        "id": "h8XNVU9K4YED",
        "outputId": "581107e5-34bf-4bcd-8677-1f84b6854dd7"
      },
      "outputs": [
        {
          "output_type": "execute_result",
          "data": {
            "text/plain": [
              "False"
            ]
          },
          "metadata": {},
          "execution_count": 116
        }
      ],
      "execution_count": 116
    },
    {
      "cell_type": "markdown",
      "source": "<p>When you ask Python to display the type of a boolean object it will show <code>bool</code> which stands for <i>boolean</i>:</p> ",
      "metadata": {
        "id": "4nDDxsVs4YED"
      }
    },
    {
      "cell_type": "code",
      "source": "# Type of True\n\ntype(True)",
      "metadata": {
        "colab": {
          "base_uri": "https://localhost:8080/"
        },
        "id": "I-aqcP4B4YED",
        "outputId": "05f9dc37-640c-4efa-91e9-b26f5664140c"
      },
      "outputs": [
        {
          "output_type": "execute_result",
          "data": {
            "text/plain": [
              "bool"
            ]
          },
          "metadata": {},
          "execution_count": 117
        }
      ],
      "execution_count": 117
    },
    {
      "cell_type": "code",
      "source": "# Type of False\n\ntype(False)",
      "metadata": {
        "colab": {
          "base_uri": "https://localhost:8080/"
        },
        "id": "-zP8JmNv4YEE",
        "outputId": "92ab749a-d99a-4aec-d888-ae57c4f0bfae"
      },
      "outputs": [
        {
          "output_type": "execute_result",
          "data": {
            "text/plain": [
              "bool"
            ]
          },
          "metadata": {},
          "execution_count": 118
        }
      ],
      "execution_count": 118
    },
    {
      "cell_type": "code",
      "source": "type(True)",
      "metadata": {
        "colab": {
          "base_uri": "https://localhost:8080/"
        },
        "id": "g0H4Jaovc8rg",
        "outputId": "87481d58-ae55-40ec-de41-8cce69c731ce"
      },
      "outputs": [
        {
          "output_type": "execute_result",
          "data": {
            "text/plain": [
              "bool"
            ]
          },
          "metadata": {},
          "execution_count": 122
        }
      ],
      "execution_count": 122
    },
    {
      "cell_type": "markdown",
      "source": "<p>We can cast boolean objects to other data types. If we cast a boolean with a value of <code>True</code> to an integer or float we will get a one. If we cast a boolean with a value of <code>False</code> to an integer or float we will get a zero. Similarly, if we cast a 1 to a Boolean, you get a <code>True</code>. And if we cast a 0 to a Boolean we will get a <code>False</code>. Let's give it a try:</p> ",
      "metadata": {
        "id": "T78-SoZI4YEE"
      }
    },
    {
      "cell_type": "code",
      "source": "# Convert True to int\n\nint(True)",
      "metadata": {
        "colab": {
          "base_uri": "https://localhost:8080/"
        },
        "id": "tyoACPsj4YEE",
        "outputId": "73bf9680-710b-4f8d-cd90-8198ad088cb5"
      },
      "outputs": [
        {
          "output_type": "execute_result",
          "data": {
            "text/plain": [
              "1"
            ]
          },
          "metadata": {},
          "execution_count": 123
        }
      ],
      "execution_count": 123
    },
    {
      "cell_type": "code",
      "source": "# Convert 1 to boolean\n\nbool(1)",
      "metadata": {
        "colab": {
          "base_uri": "https://localhost:8080/"
        },
        "id": "qk3uz_F14YEE",
        "outputId": "30825f50-d4b7-4f1b-90e3-04a57afe85a1"
      },
      "outputs": [
        {
          "output_type": "execute_result",
          "data": {
            "text/plain": [
              "True"
            ]
          },
          "metadata": {},
          "execution_count": 124
        }
      ],
      "execution_count": 124
    },
    {
      "cell_type": "code",
      "source": "# Convert 0 to boolean\n\nbool(0)",
      "metadata": {
        "colab": {
          "base_uri": "https://localhost:8080/"
        },
        "id": "zMPmtL264YEE",
        "outputId": "f9b0c60b-1636-4d64-f0b4-eb6b547f4210"
      },
      "outputs": [
        {
          "output_type": "execute_result",
          "data": {
            "text/plain": [
              "False"
            ]
          },
          "metadata": {},
          "execution_count": 125
        }
      ],
      "execution_count": 125
    },
    {
      "cell_type": "code",
      "source": "# Convert True to float\n\nfloat(True)",
      "metadata": {
        "colab": {
          "base_uri": "https://localhost:8080/"
        },
        "id": "nIiu2k2L4YEE",
        "outputId": "883f24c1-a9bd-44ae-c3e8-157b93d9ac25"
      },
      "outputs": [
        {
          "output_type": "execute_result",
          "data": {
            "text/plain": [
              "1.0"
            ]
          },
          "metadata": {},
          "execution_count": 126
        }
      ],
      "execution_count": 126
    },
    {
      "cell_type": "markdown",
      "source": "<h3 id=\"exer_type\">Exercise 3 (Types): Types</h3>",
      "metadata": {
        "id": "NCZHcDRr4YEE"
      }
    },
    {
      "cell_type": "markdown",
      "source": "<p>What is the data type of the result of: <code>6 / 2</code>?</p>",
      "metadata": {
        "id": "uwv0iDik4YEE"
      }
    },
    {
      "cell_type": "code",
      "source": "type(6/2)",
      "metadata": {
        "id": "j7J6Q-BK4YEE",
        "trusted": true
      },
      "outputs": [
        {
          "execution_count": 6,
          "output_type": "execute_result",
          "data": {
            "text/plain": "float"
          },
          "metadata": {}
        }
      ],
      "execution_count": 6
    },
    {
      "cell_type": "markdown",
      "source": "Double-click __here__ for the solution.\n<!-- Your answer is below:\ntype(6/2) # float\n-->",
      "metadata": {
        "id": "6KhdUlTZ4YEE"
      }
    },
    {
      "cell_type": "markdown",
      "source": "<p>What is the type of the result of: <code>6 // 2</code>? (Note the double slash <code>//</code>.)</p>",
      "metadata": {
        "id": "4W4S6XQl4YEE"
      }
    },
    {
      "cell_type": "code",
      "source": "type(6//2)",
      "metadata": {
        "id": "fpToz7T34YEF",
        "trusted": true
      },
      "outputs": [
        {
          "execution_count": 7,
          "output_type": "execute_result",
          "data": {
            "text/plain": "int"
          },
          "metadata": {}
        }
      ],
      "execution_count": 7
    },
    {
      "cell_type": "markdown",
      "source": "Double-click __here__ for the solution.\n\n<!-- Your answer is below:\ntype(6//2) # int, as the double slashes stand for integer division \n-->",
      "metadata": {
        "id": "Ur2NQ-JJ4YEF"
      }
    },
    {
      "cell_type": "markdown",
      "source": "<hr>",
      "metadata": {
        "id": "DCP89ek84YEF"
      }
    },
    {
      "cell_type": "markdown",
      "source": "<h2 id=\"expressions\">Expression and Variables</h2>",
      "metadata": {
        "id": "K-N4WPlS4YEF"
      }
    },
    {
      "cell_type": "markdown",
      "source": "<h3 id=\"exp\">Expressions</h3>",
      "metadata": {
        "id": "cHbLTq5B4YEF"
      }
    },
    {
      "cell_type": "markdown",
      "source": "<p>Expressions in Python can include operations among compatible types (e.g., integers and floats). For example, basic arithmetic operations like adding multiple numbers:</p>",
      "metadata": {
        "id": "-feoKoT54YEF"
      }
    },
    {
      "cell_type": "code",
      "source": "# Addition operation expression\n\n43 + 60 + 16 + 41\n",
      "metadata": {
        "colab": {
          "base_uri": "https://localhost:8080/"
        },
        "id": "89FdpI504YEF",
        "outputId": "0953c2c9-d88a-474f-b5d1-e08eb6c95d79"
      },
      "outputs": [
        {
          "output_type": "execute_result",
          "data": {
            "text/plain": [
              "160"
            ]
          },
          "metadata": {},
          "execution_count": 134
        }
      ],
      "execution_count": 134
    },
    {
      "cell_type": "markdown",
      "source": "<p>We can perform subtraction operations using the minus operator. In this case the result is a negative number:</p>",
      "metadata": {
        "id": "Jj0xT7Xg4YEF"
      }
    },
    {
      "cell_type": "code",
      "source": "# Subtraction operation expression\n\n50 - 60",
      "metadata": {
        "colab": {
          "base_uri": "https://localhost:8080/"
        },
        "id": "N-mlvaMg4YEF",
        "outputId": "b655efb7-943c-4661-d5f0-a9a78a7109ec"
      },
      "outputs": [
        {
          "output_type": "execute_result",
          "data": {
            "text/plain": [
              "-10"
            ]
          },
          "metadata": {},
          "execution_count": 135
        }
      ],
      "execution_count": 135
    },
    {
      "cell_type": "markdown",
      "source": "<p>We can do multiplication using an asterisk:</p>",
      "metadata": {
        "id": "UQOu5pxt4YEG"
      }
    },
    {
      "cell_type": "code",
      "source": "# Multiplication operation expression\n\n5 * 5",
      "metadata": {
        "colab": {
          "base_uri": "https://localhost:8080/"
        },
        "id": "X0NQu4DG4YEG",
        "outputId": "f0bcab65-9aed-44a1-c203-fa6a2647893f"
      },
      "outputs": [
        {
          "output_type": "execute_result",
          "data": {
            "text/plain": [
              "25"
            ]
          },
          "metadata": {},
          "execution_count": 136
        }
      ],
      "execution_count": 136
    },
    {
      "cell_type": "markdown",
      "source": "<p>We can also perform division with the forward slash:",
      "metadata": {
        "id": "HjjJb2oV4YEG"
      }
    },
    {
      "cell_type": "code",
      "source": "# Division operation expression\n\n25 / 5",
      "metadata": {
        "colab": {
          "base_uri": "https://localhost:8080/"
        },
        "id": "PTUJTwkS4YEG",
        "outputId": "58d31e6b-5aaf-476a-d42b-1f661eeaebe6"
      },
      "outputs": [
        {
          "output_type": "execute_result",
          "data": {
            "text/plain": [
              "5.0"
            ]
          },
          "metadata": {},
          "execution_count": 137
        }
      ],
      "execution_count": 137
    },
    {
      "cell_type": "code",
      "source": "# Division operation expression\n\n25 / 6",
      "metadata": {
        "colab": {
          "base_uri": "https://localhost:8080/"
        },
        "id": "bmm6e6jp4YEG",
        "outputId": "4d9d29de-1808-4d47-b9ce-c4f43ba074c7"
      },
      "outputs": [
        {
          "output_type": "execute_result",
          "data": {
            "text/plain": [
              "4.166666666666667"
            ]
          },
          "metadata": {},
          "execution_count": 138
        }
      ],
      "execution_count": 138
    },
    {
      "cell_type": "markdown",
      "source": "<p>As seen in the quiz above, we can use the double slash for integer division, where the result is rounded to the nearest integer:",
      "metadata": {
        "id": "FNHxBWW-4YEG"
      }
    },
    {
      "cell_type": "code",
      "source": "# Integer division operation expression\n\n25 // 5",
      "metadata": {
        "colab": {
          "base_uri": "https://localhost:8080/"
        },
        "id": "Kgw6Uo4h4YEG",
        "outputId": "022867df-c8c6-4e1e-c269-2ad22fd9f308"
      },
      "outputs": [
        {
          "output_type": "execute_result",
          "data": {
            "text/plain": [
              "5"
            ]
          },
          "metadata": {},
          "execution_count": 139
        }
      ],
      "execution_count": 139
    },
    {
      "cell_type": "code",
      "source": "# Integer division operation expression\n\n25 // 6",
      "metadata": {
        "colab": {
          "base_uri": "https://localhost:8080/"
        },
        "id": "8Gar_s8M4YEG",
        "outputId": "38904414-b96c-4706-d86d-60327c18b12e"
      },
      "outputs": [
        {
          "output_type": "execute_result",
          "data": {
            "text/plain": [
              "4"
            ]
          },
          "metadata": {},
          "execution_count": 140
        }
      ],
      "execution_count": 140
    },
    {
      "cell_type": "markdown",
      "source": "<h3 id=\"exer_exp\">Exercise 4 (Types): Expression</h3>",
      "metadata": {
        "id": "K3RS7wRW4YEG"
      }
    },
    {
      "cell_type": "markdown",
      "source": "<p>Let's write an expression that calculates how many hours there are in 160 minutes:",
      "metadata": {
        "id": "ZuAKu3VI4YEG"
      }
    },
    {
      "cell_type": "code",
      "source": "160/60",
      "metadata": {
        "id": "Lc5Qhc164YEH",
        "trusted": true
      },
      "outputs": [
        {
          "execution_count": 9,
          "output_type": "execute_result",
          "data": {
            "text/plain": "2.6666666666666665"
          },
          "metadata": {}
        }
      ],
      "execution_count": 9
    },
    {
      "cell_type": "markdown",
      "source": "Double-click __here__ for the solution.\n<!-- Your answer is below:\n160/60 \n# Or \n160//60\n-->",
      "metadata": {
        "id": "lVRsMXot4YEH"
      }
    },
    {
      "cell_type": "markdown",
      "source": "<p>Python follows well accepted mathematical conventions when evaluating mathematical expressions. In the following example, Python adds 30 to the result of the multiplication (i.e., 120).",
      "metadata": {
        "id": "7pcYsurc4YEH"
      }
    },
    {
      "cell_type": "code",
      "source": "# Mathematical expression\n\n30 + 2 * 60",
      "metadata": {
        "colab": {
          "base_uri": "https://localhost:8080/"
        },
        "id": "nDzT8taw4YEH",
        "outputId": "af5fa741-6a09-4b44-8c73-8932456022e1"
      },
      "outputs": [
        {
          "output_type": "execute_result",
          "data": {
            "text/plain": [
              "150"
            ]
          },
          "metadata": {},
          "execution_count": 141
        }
      ],
      "execution_count": 141
    },
    {
      "cell_type": "markdown",
      "source": "<p>And just like mathematics, expressions enclosed in parentheses have priority. So the following multiplies 32 by 60.",
      "metadata": {
        "id": "o16wPqEp4YEH"
      }
    },
    {
      "cell_type": "code",
      "source": "# Mathematical expression\n\n(30 + 2) * 60",
      "metadata": {
        "colab": {
          "base_uri": "https://localhost:8080/"
        },
        "id": "32AZQza54YEH",
        "outputId": "bc6a5142-0f7f-407d-cb91-89c181084f29"
      },
      "outputs": [
        {
          "output_type": "execute_result",
          "data": {
            "text/plain": [
              "1920"
            ]
          },
          "metadata": {},
          "execution_count": 142
        }
      ],
      "execution_count": 142
    },
    {
      "cell_type": "markdown",
      "source": "<h3 id=\"var\">Variables (변수)</h3>",
      "metadata": {
        "id": "Szb7wOON4YEH"
      }
    },
    {
      "cell_type": "markdown",
      "source": "<p>Just like with most programming languages, we can store values in <i>variables</i>, so we can use them later on. For example:</p>",
      "metadata": {
        "id": "9Cz2JTy44YEH"
      }
    },
    {
      "cell_type": "code",
      "source": "# Store value into variable\n\nx = 43 + 60 + 16 + 41",
      "metadata": {
        "id": "MFXsxSiL4YEH"
      },
      "outputs": [],
      "execution_count": 148
    },
    {
      "cell_type": "markdown",
      "source": "<p>To see the value of <code>x</code> in a Notebook, we can simply place it on the last line of a cell:</p>",
      "metadata": {
        "id": "ncQkFBOV4YEH"
      }
    },
    {
      "cell_type": "code",
      "source": "# Print out the value in variable\n\nx",
      "metadata": {
        "colab": {
          "base_uri": "https://localhost:8080/"
        },
        "id": "msLideah4YEH",
        "outputId": "ff9ba2f9-fd9b-4896-8abd-0aea634cf055"
      },
      "outputs": [
        {
          "output_type": "execute_result",
          "data": {
            "text/plain": [
              "160"
            ]
          },
          "metadata": {},
          "execution_count": 149
        }
      ],
      "execution_count": 149
    },
    {
      "cell_type": "markdown",
      "source": "<p>We can also perform operations on <code>x</code> and save the result to a new variable:</p>",
      "metadata": {
        "id": "Orhj4Lr04YEI"
      }
    },
    {
      "cell_type": "code",
      "source": "# Use another variable to store the result of the operation between variable and value\n\ny =  x / 60\ny",
      "metadata": {
        "colab": {
          "base_uri": "https://localhost:8080/"
        },
        "id": "pGg5jHWO4YEI",
        "outputId": "8a7b60f6-c101-4c88-839c-b57057e3ea17"
      },
      "outputs": [
        {
          "output_type": "execute_result",
          "data": {
            "text/plain": [
              "2.6666666666666665"
            ]
          },
          "metadata": {},
          "execution_count": 151
        }
      ],
      "execution_count": 151
    },
    {
      "cell_type": "markdown",
      "source": "<p>If we save a value to an existing variable, the new value will overwrite the previous value:</p>",
      "metadata": {
        "id": "1S8Ddbwo4YEI"
      }
    },
    {
      "cell_type": "code",
      "source": "# Overwrite variable with new value\n\nx = x / 60\nx",
      "metadata": {
        "colab": {
          "base_uri": "https://localhost:8080/"
        },
        "id": "OY9s750g4YEI",
        "outputId": "a6d79fc7-1a22-481d-e7c2-ec0fcca9756c"
      },
      "outputs": [
        {
          "output_type": "execute_result",
          "data": {
            "text/plain": [
              "2.6666666666666665"
            ]
          },
          "metadata": {},
          "execution_count": 152
        }
      ],
      "execution_count": 152
    },
    {
      "cell_type": "markdown",
      "source": "<p>It's a good practice to use meaningful variable names, so you and others can read the code and understand it more easily:</p>",
      "metadata": {
        "id": "TMsIvgZh4YEI"
      }
    },
    {
      "cell_type": "code",
      "source": "# Name the variables meaningfully\n\ntotal_min = 43 + 42 + 57 # Total length of albums in minutes\ntotal_min",
      "metadata": {
        "colab": {
          "base_uri": "https://localhost:8080/"
        },
        "id": "J5NGN63o4YEI",
        "outputId": "9b8e4295-0639-4e3a-870b-a3306b3adf7d"
      },
      "outputs": [
        {
          "output_type": "execute_result",
          "data": {
            "text/plain": [
              "142"
            ]
          },
          "metadata": {},
          "execution_count": 153
        }
      ],
      "execution_count": 153
    },
    {
      "cell_type": "code",
      "source": "# Name the variables meaningfully\n\ntotal_hours = total_min / 60 # Total length of albums in hours \ntotal_hours",
      "metadata": {
        "colab": {
          "base_uri": "https://localhost:8080/"
        },
        "id": "F1QD8lh24YEI",
        "outputId": "84b242b8-0ac0-4737-dde3-51d6e1a35633"
      },
      "outputs": [
        {
          "output_type": "execute_result",
          "data": {
            "text/plain": [
              "2.3666666666666667"
            ]
          },
          "metadata": {},
          "execution_count": 154
        }
      ],
      "execution_count": 154
    },
    {
      "cell_type": "code",
      "source": "type(total_hours)",
      "metadata": {
        "colab": {
          "base_uri": "https://localhost:8080/"
        },
        "id": "DrYlTTh8fKy-",
        "outputId": "37a2cbe3-8a9f-47dd-d664-ca59ef3ade27"
      },
      "outputs": [
        {
          "output_type": "execute_result",
          "data": {
            "text/plain": [
              "float"
            ]
          },
          "metadata": {},
          "execution_count": 155
        }
      ],
      "execution_count": 155
    },
    {
      "cell_type": "code",
      "source": "type(total_min)",
      "metadata": {
        "colab": {
          "base_uri": "https://localhost:8080/"
        },
        "id": "vbT5MiorfQBb",
        "outputId": "a0d673f2-3cd6-4ef2-821c-3f46d82cf7f0"
      },
      "outputs": [
        {
          "output_type": "execute_result",
          "data": {
            "text/plain": [
              "int"
            ]
          },
          "metadata": {},
          "execution_count": 156
        }
      ],
      "execution_count": 156
    },
    {
      "cell_type": "markdown",
      "source": "<p>In the cells above we added the length of three albums in minutes and stored it in <code>total_min</code>. We then divided it by 60 to calculate total length <code>total_hours</code> in hours. You can also do it all at once in a single expression, as long as you use parenthesis to add the albums length before you divide, as shown below.</p>",
      "metadata": {
        "id": "8c3EdLtj4YEI"
      }
    },
    {
      "cell_type": "code",
      "source": "# Complicate expression\n\ntotal_hours = (43 + 42 + 60) / 60  # Total hours in a single expression\ntotal_hours",
      "metadata": {
        "id": "stJ2iiTX4YEI",
        "colab": {
          "base_uri": "https://localhost:8080/"
        },
        "outputId": "309b85de-7241-4b2f-f859-a2dec4932125"
      },
      "outputs": [
        {
          "output_type": "execute_result",
          "data": {
            "text/plain": [
              "2.4166666666666665"
            ]
          },
          "metadata": {},
          "execution_count": 157
        }
      ],
      "execution_count": 157
    },
    {
      "cell_type": "code",
      "source": "total_hours = 1000/3\ntotal_hours",
      "metadata": {
        "colab": {
          "base_uri": "https://localhost:8080/"
        },
        "id": "fBRUHT1qfmKQ",
        "outputId": "a3e09210-39c9-41d4-aced-90122238da2d"
      },
      "outputs": [
        {
          "output_type": "execute_result",
          "data": {
            "text/plain": [
              "333.3333333333333"
            ]
          },
          "metadata": {},
          "execution_count": 158
        }
      ],
      "execution_count": 158
    },
    {
      "cell_type": "markdown",
      "source": "<p>If you'd rather have total hours as an integer, you can of course replace the floating point division with integer division (i.e., <code>//</code>).</p>",
      "metadata": {
        "id": "HzQjRrbG4YEJ"
      }
    },
    {
      "cell_type": "markdown",
      "source": "<h3 id=\"exer_exp_var\">Exercise 5 (Types): Expression and Variables in Python</h3>",
      "metadata": {
        "id": "XxGvaMjh4YEJ"
      }
    },
    {
      "cell_type": "markdown",
      "source": "<p>What is the value of <code>x</code> where <code>x = 3 + 2 * 2</code></p>",
      "metadata": {
        "id": "wb4LqJEK4YEJ"
      }
    },
    {
      "cell_type": "code",
      "source": "x = 3 + 2 * 2\nprint(x)",
      "metadata": {
        "id": "66F8KDQX4YEJ",
        "trusted": true
      },
      "outputs": [
        {
          "name": "stdout",
          "output_type": "stream",
          "text": "7\n"
        }
      ],
      "execution_count": 10
    },
    {
      "cell_type": "markdown",
      "source": "Double-click __here__ for the solution.\n\n\n<!-- Your answer is below:\n7\n-->\n",
      "metadata": {
        "id": "AN293R-X4YEJ"
      }
    },
    {
      "cell_type": "markdown",
      "source": "<p>What is the value of <code>y</code> where <code>y = (3 + 2) * 2</code>?</p>",
      "metadata": {
        "id": "ci5LIJ4c4YEJ"
      }
    },
    {
      "cell_type": "code",
      "source": "y = (3 + 2) * 2\nprint(y)",
      "metadata": {
        "id": "1rQDRDi24YEJ",
        "trusted": true
      },
      "outputs": [
        {
          "name": "stdout",
          "output_type": "stream",
          "text": "10\n"
        }
      ],
      "execution_count": 11
    },
    {
      "cell_type": "markdown",
      "source": "Double-click __here__ for the solution.\n<!-- Your answer is below:\n10\n-->",
      "metadata": {
        "id": "PhPRxQAs4YEJ"
      }
    },
    {
      "cell_type": "markdown",
      "source": "<p>What is the value of <code>z</code> where <code>z = x + y</code>?</p>",
      "metadata": {
        "id": "DEZi2SS14YEJ"
      }
    },
    {
      "cell_type": "code",
      "source": "x = 3 + 2 * 2\ny = (3 + 2) * 2\nz=  x + y\nprint(z)",
      "metadata": {
        "id": "4D45AV4o4YEJ",
        "trusted": true
      },
      "outputs": [
        {
          "name": "stdout",
          "output_type": "stream",
          "text": "17\n"
        }
      ],
      "execution_count": 14
    },
    {
      "cell_type": "markdown",
      "source": "Double-click __here__ for the solution.\n\n17\n\n<!-- Your answer is below:\n17\n-->",
      "metadata": {
        "id": "4S6hfNNk4YEJ"
      }
    },
    {
      "cell_type": "markdown",
      "source": "<hr>\n<h2>The last exercise!</h2>\n<p>Congratulations, you have completed your first lesson and hands-on lab in Python. However, there is one more thing you need to do. The Data Science community encourages sharing work. The best way to share and showcase your work is to share it on GitHub. By sharing your notebook on GitHub you are not only building your reputation with fellow data scientists, but you can also show it off when applying for a job. Even though this was your first piece of work, it is never too early to start building good habits. Please submit all your exercises to Github & let the traces in our LMS, so for me to access your work. \n<hr>",
      "metadata": {
        "id": "cMl58LYS4YEK"
      }
    },
    {
      "cell_type": "markdown",
      "source": "<hr>\n<p>Copyright &copy; 2023 RYU HOKYOUNG based on 2018 IBM Developer Skills Network. This notebook and its source code are released under the terms of the <a href=\"https://cognitiveclass.ai/mit-license/\">MIT License</a>.</p>",
      "metadata": {
        "id": "XR2hUDvU4YEK"
      }
    }
  ]
}